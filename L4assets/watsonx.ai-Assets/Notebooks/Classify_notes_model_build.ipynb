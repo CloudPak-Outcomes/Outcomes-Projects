{
 "cells": [
  {
   "cell_type": "code",
   "execution_count": 2,
   "metadata": {},
   "outputs": [],
   "source": [
    "# Insert your project token"
   ]
  },
  {
   "cell_type": "markdown",
   "metadata": {
    "collapsed": true,
    "id": "9facac65-2f21-4c60-a082-7cf5a08d3589"
   },
   "source": [
    "# Classifying customer notes with Watson NLP"
   ]
  },
  {
   "cell_type": "markdown",
   "metadata": {
    "id": "905c51c1-7396-4111-85e0-cb1c231cc63e"
   },
   "source": [
    "This notebook was created using the [sample notebooks](https://dataplatform.cloud.ibm.com/exchange/public/entry/view/636001e59902133a4a23fd89f010e4cb?context=wx) in the Gallery \n",
    "\n",
    "We will train 2 models:\n",
    "1. SVM\n",
    "2. Ensemble"
   ]
  },
  {
   "cell_type": "markdown",
   "metadata": {
    "id": "4e59bd08-ccae-425c-9343-3b5a0f3b1a66"
   },
   "source": [
    "\n",
    "Begin by importing and initializing some helper libs that are used throughout the notebook."
   ]
  },
  {
   "cell_type": "code",
   "execution_count": 3,
   "metadata": {
    "id": "16342249-8ba1-46c7-ab99-59ced5ee7933"
   },
   "outputs": [],
   "source": [
    "import pandas as pd\n",
    "# we want to show large text snippets to be able to explore the relevant text\n",
    "pd.options.display.max_colwidth = 400\n",
    "\n",
    "import json\n",
    "import seaborn as sn\n",
    "import matplotlib.pyplot as plt"
   ]
  },
  {
   "cell_type": "code",
   "execution_count": 4,
   "metadata": {
    "id": "eedd06c4-2252-4025-84c8-2af806022391"
   },
   "outputs": [],
   "source": [
    "import watson_nlp\n",
    "\n",
    "from watson_core.data_model.streams.resolver import DataStreamResolver\n",
    "from watson_core.toolkit import fileio\n",
    "from watson_nlp.blocks.classification.svm import SVM"
   ]
  },
  {
   "cell_type": "markdown",
   "metadata": {
    "id": "7039cc98-9173-4b83-8e05-f1bcf717034e"
   },
   "source": [
    "<a id=\"loadData\"></a>\n",
    "## Load customer interaction notes"
   ]
  },
  {
   "cell_type": "markdown",
   "metadata": {},
   "source": [
    "**Important: regenerate data access code for the file in your project. Make sure to change the dataframe name after generation to** *complaint_df*"
   ]
  },
  {
   "cell_type": "code",
   "execution_count": 5,
   "metadata": {},
   "outputs": [
    {
     "data": {
      "text/html": [
       "<div>\n",
       "<style scoped>\n",
       "    .dataframe tbody tr th:only-of-type {\n",
       "        vertical-align: middle;\n",
       "    }\n",
       "\n",
       "    .dataframe tbody tr th {\n",
       "        vertical-align: top;\n",
       "    }\n",
       "\n",
       "    .dataframe thead th {\n",
       "        text-align: right;\n",
       "    }\n",
       "</style>\n",
       "<table border=\"1\" class=\"dataframe\">\n",
       "  <thead>\n",
       "    <tr style=\"text-align: right;\">\n",
       "      <th></th>\n",
       "      <th>Date received</th>\n",
       "      <th>Product</th>\n",
       "      <th>Sub-product</th>\n",
       "      <th>Issue</th>\n",
       "      <th>Sub-issue</th>\n",
       "      <th>Consumer complaint narrative</th>\n",
       "      <th>Company public response</th>\n",
       "      <th>Company</th>\n",
       "      <th>State</th>\n",
       "      <th>ZIP code</th>\n",
       "      <th>Tags</th>\n",
       "      <th>Consumer consent provided?</th>\n",
       "      <th>Submitted via</th>\n",
       "      <th>Date sent to company</th>\n",
       "      <th>Company response to consumer</th>\n",
       "      <th>Timely response?</th>\n",
       "      <th>Consumer disputed?</th>\n",
       "      <th>Complaint ID</th>\n",
       "    </tr>\n",
       "  </thead>\n",
       "  <tbody>\n",
       "    <tr>\n",
       "      <th>0</th>\n",
       "      <td>03/18/21</td>\n",
       "      <td>Credit reporting, credit repair services, or other personal consumer reports</td>\n",
       "      <td>Credit reporting</td>\n",
       "      <td>Problem with a credit reporting company's investigation into an existing problem</td>\n",
       "      <td>Was not notified of investigation status or results</td>\n",
       "      <td>On XX/XX/2020, I sent a letter regarding inaccurate and unknown things on my credit report. To this day over 60 days later I have not received a response yet. I feel like Im being taken advantage of and being ignored for my disputes and concerns. \\nSection 611 ( A ) it is plainly stated that a failure to investigate these items within 30 days gives a reason to immediately remove those items fr...</td>\n",
       "      <td>Company has responded to the consumer and the CFPB and chooses not to provide a public response</td>\n",
       "      <td>TRANSUNION INTERMEDIATE HOLDINGS, INC.</td>\n",
       "      <td>TN</td>\n",
       "      <td>38115</td>\n",
       "      <td>None</td>\n",
       "      <td>Consent provided</td>\n",
       "      <td>Web</td>\n",
       "      <td>03/18/21</td>\n",
       "      <td>Closed with explanation</td>\n",
       "      <td>Yes</td>\n",
       "      <td>NaN</td>\n",
       "      <td>4225171</td>\n",
       "    </tr>\n",
       "    <tr>\n",
       "      <th>1</th>\n",
       "      <td>03/22/21</td>\n",
       "      <td>Credit reporting, credit repair services, or other personal consumer reports</td>\n",
       "      <td>Credit reporting</td>\n",
       "      <td>Incorrect information on your report</td>\n",
       "      <td>Information belongs to someone else</td>\n",
       "      <td>This company violated the law Pursuant to 15 USC 1681a ( 2 ) ( B ) any authorization or approval of a specific extension of credit directly or indirectly by the issuer of the credit card or similar credit device Should be excluded from a consumer report. The definition of a credit card under 15 USC 1681 is the same as it is under 15 USC 1602 ( l ) which is the term credit card means any card, ...</td>\n",
       "      <td>None</td>\n",
       "      <td>AMERICAN EXPRESS COMPANY</td>\n",
       "      <td>NY</td>\n",
       "      <td>10457</td>\n",
       "      <td>None</td>\n",
       "      <td>Consent provided</td>\n",
       "      <td>Web</td>\n",
       "      <td>03/22/21</td>\n",
       "      <td>Closed with explanation</td>\n",
       "      <td>Yes</td>\n",
       "      <td>NaN</td>\n",
       "      <td>4233511</td>\n",
       "    </tr>\n",
       "    <tr>\n",
       "      <th>2</th>\n",
       "      <td>03/15/21</td>\n",
       "      <td>Mortgage</td>\n",
       "      <td>VA mortgage</td>\n",
       "      <td>Trouble during payment process</td>\n",
       "      <td>None</td>\n",
       "      <td>For XX/XX/2019, I eliminated the direct payment and began to make the payments at the institution. They the Firstbank of Puerto Rico made the mistake of not recording the payments made using this method and this mistake is affecting my credit score. I have never failed to make a mortgage payment. The time it took them to fix the problem, they send to the credit companies as a delay of 30 days,...</td>\n",
       "      <td>None</td>\n",
       "      <td>FIRSTBANK PUERTO RICO</td>\n",
       "      <td>PR</td>\n",
       "      <td>00662</td>\n",
       "      <td>Servicemember</td>\n",
       "      <td>Consent provided</td>\n",
       "      <td>Web</td>\n",
       "      <td>03/15/21</td>\n",
       "      <td>Closed with explanation</td>\n",
       "      <td>Yes</td>\n",
       "      <td>NaN</td>\n",
       "      <td>4213468</td>\n",
       "    </tr>\n",
       "    <tr>\n",
       "      <th>3</th>\n",
       "      <td>03/29/21</td>\n",
       "      <td>Credit reporting, credit repair services, or other personal consumer reports</td>\n",
       "      <td>Credit reporting</td>\n",
       "      <td>Incorrect information on your report</td>\n",
       "      <td>Account information incorrect</td>\n",
       "      <td>I recently mailed you a letter disputing items appearing on my credit report, which you maintain. Your response to my letter was to deem my letter \" suspicious '', implying it was not written by me and furthermore in a threatening to report my letter to law enforcement and/or state and federal regulatory agencies. Your response is ludicrous. \\nAbsolutely nothing in my letter could reasonably g...</td>\n",
       "      <td>None</td>\n",
       "      <td>EQUIFAX, INC.</td>\n",
       "      <td>IL</td>\n",
       "      <td>60610</td>\n",
       "      <td>None</td>\n",
       "      <td>Consent provided</td>\n",
       "      <td>Web</td>\n",
       "      <td>03/29/21</td>\n",
       "      <td>Closed with explanation</td>\n",
       "      <td>Yes</td>\n",
       "      <td>NaN</td>\n",
       "      <td>4255463</td>\n",
       "    </tr>\n",
       "    <tr>\n",
       "      <th>4</th>\n",
       "      <td>03/29/21</td>\n",
       "      <td>Credit reporting, credit repair services, or other personal consumer reports</td>\n",
       "      <td>Credit reporting</td>\n",
       "      <td>Problem with a credit reporting company's investigation into an existing problem</td>\n",
       "      <td>Was not notified of investigation status or results</td>\n",
       "      <td>I hope you can help me to remove these items from my credit because I can not progress in my life like buy a house, get car or even get a credit card. The way life is now credit is everything. On XX/XX/21, I sent a letter regarding inaccurate and unknown things on my credit report. To this day, I have not received a response yet. I feel like I'm being taken advantage of and being ignored of my...</td>\n",
       "      <td>None</td>\n",
       "      <td>EQUIFAX, INC.</td>\n",
       "      <td>SC</td>\n",
       "      <td>29505</td>\n",
       "      <td>None</td>\n",
       "      <td>Consent provided</td>\n",
       "      <td>Web</td>\n",
       "      <td>03/29/21</td>\n",
       "      <td>Closed with explanation</td>\n",
       "      <td>Yes</td>\n",
       "      <td>NaN</td>\n",
       "      <td>4255255</td>\n",
       "    </tr>\n",
       "  </tbody>\n",
       "</table>\n",
       "</div>"
      ],
      "text/plain": [
       "  Date received  \\\n",
       "0      03/18/21   \n",
       "1      03/22/21   \n",
       "2      03/15/21   \n",
       "3      03/29/21   \n",
       "4      03/29/21   \n",
       "\n",
       "                                                                        Product  \\\n",
       "0  Credit reporting, credit repair services, or other personal consumer reports   \n",
       "1  Credit reporting, credit repair services, or other personal consumer reports   \n",
       "2                                                                      Mortgage   \n",
       "3  Credit reporting, credit repair services, or other personal consumer reports   \n",
       "4  Credit reporting, credit repair services, or other personal consumer reports   \n",
       "\n",
       "        Sub-product  \\\n",
       "0  Credit reporting   \n",
       "1  Credit reporting   \n",
       "2       VA mortgage   \n",
       "3  Credit reporting   \n",
       "4  Credit reporting   \n",
       "\n",
       "                                                                              Issue  \\\n",
       "0  Problem with a credit reporting company's investigation into an existing problem   \n",
       "1                                              Incorrect information on your report   \n",
       "2                                                    Trouble during payment process   \n",
       "3                                              Incorrect information on your report   \n",
       "4  Problem with a credit reporting company's investigation into an existing problem   \n",
       "\n",
       "                                             Sub-issue  \\\n",
       "0  Was not notified of investigation status or results   \n",
       "1                  Information belongs to someone else   \n",
       "2                                                 None   \n",
       "3                        Account information incorrect   \n",
       "4  Was not notified of investigation status or results   \n",
       "\n",
       "                                                                                                                                                                                                                                                                                                                                                                                      Consumer complaint narrative  \\\n",
       "0  On XX/XX/2020, I sent a letter regarding inaccurate and unknown things on my credit report. To this day over 60 days later I have not received a response yet. I feel like Im being taken advantage of and being ignored for my disputes and concerns. \\nSection 611 ( A ) it is plainly stated that a failure to investigate these items within 30 days gives a reason to immediately remove those items fr...   \n",
       "1  This company violated the law Pursuant to 15 USC 1681a ( 2 ) ( B ) any authorization or approval of a specific extension of credit directly or indirectly by the issuer of the credit card or similar credit device Should be excluded from a consumer report. The definition of a credit card under 15 USC 1681 is the same as it is under 15 USC 1602 ( l ) which is the term credit card means any card, ...   \n",
       "2  For XX/XX/2019, I eliminated the direct payment and began to make the payments at the institution. They the Firstbank of Puerto Rico made the mistake of not recording the payments made using this method and this mistake is affecting my credit score. I have never failed to make a mortgage payment. The time it took them to fix the problem, they send to the credit companies as a delay of 30 days,...   \n",
       "3  I recently mailed you a letter disputing items appearing on my credit report, which you maintain. Your response to my letter was to deem my letter \" suspicious '', implying it was not written by me and furthermore in a threatening to report my letter to law enforcement and/or state and federal regulatory agencies. Your response is ludicrous. \\nAbsolutely nothing in my letter could reasonably g...   \n",
       "4  I hope you can help me to remove these items from my credit because I can not progress in my life like buy a house, get car or even get a credit card. The way life is now credit is everything. On XX/XX/21, I sent a letter regarding inaccurate and unknown things on my credit report. To this day, I have not received a response yet. I feel like I'm being taken advantage of and being ignored of my...   \n",
       "\n",
       "                                                                           Company public response  \\\n",
       "0  Company has responded to the consumer and the CFPB and chooses not to provide a public response   \n",
       "1                                                                                             None   \n",
       "2                                                                                             None   \n",
       "3                                                                                             None   \n",
       "4                                                                                             None   \n",
       "\n",
       "                                  Company State ZIP code           Tags  \\\n",
       "0  TRANSUNION INTERMEDIATE HOLDINGS, INC.    TN    38115           None   \n",
       "1                AMERICAN EXPRESS COMPANY    NY    10457           None   \n",
       "2                   FIRSTBANK PUERTO RICO    PR    00662  Servicemember   \n",
       "3                           EQUIFAX, INC.    IL    60610           None   \n",
       "4                           EQUIFAX, INC.    SC    29505           None   \n",
       "\n",
       "  Consumer consent provided? Submitted via Date sent to company  \\\n",
       "0           Consent provided           Web             03/18/21   \n",
       "1           Consent provided           Web             03/22/21   \n",
       "2           Consent provided           Web             03/15/21   \n",
       "3           Consent provided           Web             03/29/21   \n",
       "4           Consent provided           Web             03/29/21   \n",
       "\n",
       "  Company response to consumer Timely response?  Consumer disputed?  \\\n",
       "0      Closed with explanation              Yes                 NaN   \n",
       "1      Closed with explanation              Yes                 NaN   \n",
       "2      Closed with explanation              Yes                 NaN   \n",
       "3      Closed with explanation              Yes                 NaN   \n",
       "4      Closed with explanation              Yes                 NaN   \n",
       "\n",
       "   Complaint ID  \n",
       "0       4225171  \n",
       "1       4233511  \n",
       "2       4213468  \n",
       "3       4255463  \n",
       "4       4255255  "
      ]
     },
     "execution_count": 5,
     "metadata": {},
     "output_type": "execute_result"
    }
   ],
   "source": [
    "import os, types\n",
    "import pandas as pd\n",
    "from botocore.client import Config\n",
    "import ibm_boto3\n",
    "\n",
    "def __iter__(self): return 0\n",
    "\n",
    "# @hidden_cell\n",
    "# The following code accesses a file in your IBM Cloud Object Storage. It includes your credentials.\n",
    "# You might want to remove those credentials before you share the notebook.\n",
    "cos_client = ibm_boto3.client(service_name='s3',\n",
    "    ibm_api_key_id='A1FXJPFfY-kKaIxcVqMcaxTJcEHewBasP',\n",
    "    ibm_auth_endpoint=\"https://iam.cloud.ibm.com/oidc/token\",\n",
    "    config=Config(signature_version='oauth'),\n",
    "    endpoint_url='https://s3.private.us-south.cloud-object-storage.appdomain.cloud')\n",
    "\n",
    "bucket = 'llmworkshopyi-donotdelete-pr-zvg5eylmuyhhek'\n",
    "object_key = 'classification_training.csv'\n",
    "\n",
    "body = cos_client.get_object(Bucket=bucket,Key=object_key)['Body']\n",
    "# add missing __iter__ method, so pandas accepts body as file-like object\n",
    "if not hasattr(body, \"__iter__\"): body.__iter__ = types.MethodType( __iter__, body )\n",
    "complaint_df = pd.read_csv(body)\n",
    "complaint_df.head()"
   ]
  },
  {
   "cell_type": "code",
   "execution_count": 6,
   "metadata": {
    "id": "4834599b-0c45-420c-99b7-811b32530ada"
   },
   "outputs": [
    {
     "data": {
      "text/html": [
       "<div>\n",
       "<style scoped>\n",
       "    .dataframe tbody tr th:only-of-type {\n",
       "        vertical-align: middle;\n",
       "    }\n",
       "\n",
       "    .dataframe tbody tr th {\n",
       "        vertical-align: top;\n",
       "    }\n",
       "\n",
       "    .dataframe thead th {\n",
       "        text-align: right;\n",
       "    }\n",
       "</style>\n",
       "<table border=\"1\" class=\"dataframe\">\n",
       "  <thead>\n",
       "    <tr style=\"text-align: right;\">\n",
       "      <th></th>\n",
       "      <th>Date received</th>\n",
       "      <th>Product</th>\n",
       "      <th>Sub-product</th>\n",
       "      <th>Issue</th>\n",
       "      <th>Sub-issue</th>\n",
       "      <th>Consumer complaint narrative</th>\n",
       "      <th>Company public response</th>\n",
       "      <th>Company</th>\n",
       "      <th>State</th>\n",
       "      <th>ZIP code</th>\n",
       "      <th>Tags</th>\n",
       "      <th>Consumer consent provided?</th>\n",
       "      <th>Submitted via</th>\n",
       "      <th>Date sent to company</th>\n",
       "      <th>Company response to consumer</th>\n",
       "      <th>Timely response?</th>\n",
       "      <th>Consumer disputed?</th>\n",
       "      <th>Complaint ID</th>\n",
       "    </tr>\n",
       "  </thead>\n",
       "  <tbody>\n",
       "    <tr>\n",
       "      <th>0</th>\n",
       "      <td>03/18/21</td>\n",
       "      <td>Credit reporting, credit repair services, or other personal consumer reports</td>\n",
       "      <td>Credit reporting</td>\n",
       "      <td>Problem with a credit reporting company's investigation into an existing problem</td>\n",
       "      <td>Was not notified of investigation status or results</td>\n",
       "      <td>On XX/XX/2020, I sent a letter regarding inaccurate and unknown things on my credit report. To this day over 60 days later I have not received a response yet. I feel like Im being taken advantage of and being ignored for my disputes and concerns. \\nSection 611 ( A ) it is plainly stated that a failure to investigate these items within 30 days gives a reason to immediately remove those items fr...</td>\n",
       "      <td>Company has responded to the consumer and the CFPB and chooses not to provide a public response</td>\n",
       "      <td>TRANSUNION INTERMEDIATE HOLDINGS, INC.</td>\n",
       "      <td>TN</td>\n",
       "      <td>38115</td>\n",
       "      <td>None</td>\n",
       "      <td>Consent provided</td>\n",
       "      <td>Web</td>\n",
       "      <td>03/18/21</td>\n",
       "      <td>Closed with explanation</td>\n",
       "      <td>Yes</td>\n",
       "      <td>NaN</td>\n",
       "      <td>4225171</td>\n",
       "    </tr>\n",
       "    <tr>\n",
       "      <th>1</th>\n",
       "      <td>03/22/21</td>\n",
       "      <td>Credit reporting, credit repair services, or other personal consumer reports</td>\n",
       "      <td>Credit reporting</td>\n",
       "      <td>Incorrect information on your report</td>\n",
       "      <td>Information belongs to someone else</td>\n",
       "      <td>This company violated the law Pursuant to 15 USC 1681a ( 2 ) ( B ) any authorization or approval of a specific extension of credit directly or indirectly by the issuer of the credit card or similar credit device Should be excluded from a consumer report. The definition of a credit card under 15 USC 1681 is the same as it is under 15 USC 1602 ( l ) which is the term credit card means any card, ...</td>\n",
       "      <td>None</td>\n",
       "      <td>AMERICAN EXPRESS COMPANY</td>\n",
       "      <td>NY</td>\n",
       "      <td>10457</td>\n",
       "      <td>None</td>\n",
       "      <td>Consent provided</td>\n",
       "      <td>Web</td>\n",
       "      <td>03/22/21</td>\n",
       "      <td>Closed with explanation</td>\n",
       "      <td>Yes</td>\n",
       "      <td>NaN</td>\n",
       "      <td>4233511</td>\n",
       "    </tr>\n",
       "  </tbody>\n",
       "</table>\n",
       "</div>"
      ],
      "text/plain": [
       "  Date received  \\\n",
       "0      03/18/21   \n",
       "1      03/22/21   \n",
       "\n",
       "                                                                        Product  \\\n",
       "0  Credit reporting, credit repair services, or other personal consumer reports   \n",
       "1  Credit reporting, credit repair services, or other personal consumer reports   \n",
       "\n",
       "        Sub-product  \\\n",
       "0  Credit reporting   \n",
       "1  Credit reporting   \n",
       "\n",
       "                                                                              Issue  \\\n",
       "0  Problem with a credit reporting company's investigation into an existing problem   \n",
       "1                                              Incorrect information on your report   \n",
       "\n",
       "                                             Sub-issue  \\\n",
       "0  Was not notified of investigation status or results   \n",
       "1                  Information belongs to someone else   \n",
       "\n",
       "                                                                                                                                                                                                                                                                                                                                                                                      Consumer complaint narrative  \\\n",
       "0  On XX/XX/2020, I sent a letter regarding inaccurate and unknown things on my credit report. To this day over 60 days later I have not received a response yet. I feel like Im being taken advantage of and being ignored for my disputes and concerns. \\nSection 611 ( A ) it is plainly stated that a failure to investigate these items within 30 days gives a reason to immediately remove those items fr...   \n",
       "1  This company violated the law Pursuant to 15 USC 1681a ( 2 ) ( B ) any authorization or approval of a specific extension of credit directly or indirectly by the issuer of the credit card or similar credit device Should be excluded from a consumer report. The definition of a credit card under 15 USC 1681 is the same as it is under 15 USC 1602 ( l ) which is the term credit card means any card, ...   \n",
       "\n",
       "                                                                           Company public response  \\\n",
       "0  Company has responded to the consumer and the CFPB and chooses not to provide a public response   \n",
       "1                                                                                             None   \n",
       "\n",
       "                                  Company State ZIP code  Tags  \\\n",
       "0  TRANSUNION INTERMEDIATE HOLDINGS, INC.    TN    38115  None   \n",
       "1                AMERICAN EXPRESS COMPANY    NY    10457  None   \n",
       "\n",
       "  Consumer consent provided? Submitted via Date sent to company  \\\n",
       "0           Consent provided           Web             03/18/21   \n",
       "1           Consent provided           Web             03/22/21   \n",
       "\n",
       "  Company response to consumer Timely response?  Consumer disputed?  \\\n",
       "0      Closed with explanation              Yes                 NaN   \n",
       "1      Closed with explanation              Yes                 NaN   \n",
       "\n",
       "   Complaint ID  \n",
       "0       4225171  \n",
       "1       4233511  "
      ]
     },
     "execution_count": 6,
     "metadata": {},
     "output_type": "execute_result"
    }
   ],
   "source": [
    "text_col = 'Consumer complaint narrative'\n",
    "\n",
    "complaint_df.head(2)"
   ]
  },
  {
   "cell_type": "markdown",
   "metadata": {
    "id": "76c8353d-287e-4d99-a026-e4058b33e97e"
   },
   "source": [
    "Let's look at all product groups that are available in the data set because these are the classes that the classifier should predict from a given complaint text."
   ]
  },
  {
   "cell_type": "code",
   "execution_count": 7,
   "metadata": {
    "id": "8670f96c-769f-4594-ba2e-0befcc915701"
   },
   "outputs": [
    {
     "data": {
      "text/plain": [
       "Credit reporting, credit repair services, or other personal consumer reports    8890\n",
       "Debt collection                                                                 3340\n",
       "Credit card or prepaid card                                                     1555\n",
       "Mortgage                                                                        1548\n",
       "Checking or savings account                                                     1122\n",
       "Money transfer, virtual currency, or money service                               914\n",
       "Vehicle loan or lease                                                            373\n",
       "Student loan                                                                     193\n",
       "Payday loan, title loan, or personal loan                                        193\n",
       "Name: Product, dtype: int64"
      ]
     },
     "execution_count": 7,
     "metadata": {},
     "output_type": "execute_result"
    }
   ],
   "source": [
    "product_counts = complaint_df['Product'].value_counts()\n",
    "product_counts"
   ]
  },
  {
   "cell_type": "markdown",
   "metadata": {
    "id": "ccdad89c-88f2-4937-be6f-b4f53802b590"
   },
   "source": [
    "<a id=\"prepareData\"></a>\n",
    "## Prepare training and test data"
   ]
  },
  {
   "cell_type": "markdown",
   "metadata": {
    "id": "f9d79564-2d1e-4024-aa97-83b69791f51f"
   },
   "source": [
    "Many classification algorithms work best if the training samples are equally split across the classes. If the data is unbalanced, algorithms might decide to favor classes with many samples to achieve an overall good result. To avoid this, you will sample the data in the next step to have a similar amount of samples for each class.\n",
    "\n",
    "To avoid long runtimes in this sample notebook, you will use only a small number of samples. However, this can reduce the quality of the classification models. In a real-case scenario, you should increase the number of samples per product group to get better results."
   ]
  },
  {
   "cell_type": "code",
   "execution_count": 8,
   "metadata": {
    "id": "85ec8349-e0e5-4990-b6af-0d68816b7664"
   },
   "outputs": [],
   "source": [
    "# number of complaints for the each product group\n",
    "sample_size = 300\n",
    "\n",
    "train_test_df = complaint_df.query(\"Product != 'Student loan' and Product != 'Payday loan, title loan, or personal loan'\")\n",
    "\n",
    "# sample the data to have the same number of complaints for each product group\n",
    "train_test_df = train_test_df.groupby('Product').sample(n=sample_size, random_state=5).reset_index(drop=True)"
   ]
  },
  {
   "cell_type": "markdown",
   "metadata": {
    "id": "ab11b3fa-e109-4401-b380-fc162dedf5a8"
   },
   "source": [
    "In the next step, you will split the data into training and test data (ratio:80/20)."
   ]
  },
  {
   "cell_type": "code",
   "execution_count": 9,
   "metadata": {
    "id": "c41ac188-0a68-4d8e-b595-c40b9044bc9f"
   },
   "outputs": [
    {
     "name": "stdout",
     "output_type": "stream",
     "text": [
      "Training data:\n",
      "Number of training samples: 1680\n",
      "Samples by product group:\n",
      "Checking or savings account                                                     240\n",
      "Credit card or prepaid card                                                     240\n",
      "Credit reporting, credit repair services, or other personal consumer reports    240\n",
      "Debt collection                                                                 240\n",
      "Money transfer, virtual currency, or money service                              240\n",
      "Mortgage                                                                        240\n",
      "Vehicle loan or lease                                                           240\n",
      "Name: Product, dtype: int64\n",
      "\n",
      "Test data:\n",
      "Number of test samples: 420\n",
      "Samples by product group:\n",
      "Checking or savings account                                                     60\n",
      "Credit card or prepaid card                                                     60\n",
      "Credit reporting, credit repair services, or other personal consumer reports    60\n",
      "Debt collection                                                                 60\n",
      "Money transfer, virtual currency, or money service                              60\n",
      "Mortgage                                                                        60\n",
      "Vehicle loan or lease                                                           60\n",
      "Name: Product, dtype: int64\n"
     ]
    }
   ],
   "source": [
    "# 80% training data\n",
    "train_orig_df = train_test_df.groupby('Product').sample(frac=0.8, random_state=6)\n",
    "print(\"Training data:\")\n",
    "print(\"Number of training samples: {}\".format(len(train_orig_df)))\n",
    "print(\"Samples by product group:\\n{}\".format(train_orig_df['Product'].value_counts()))\n",
    "\n",
    "# 20% test data\n",
    "test_orig_df = train_test_df.drop(train_orig_df.index)\n",
    "print(\"\\nTest data:\")\n",
    "print(\"Number of test samples: {}\".format(len(test_orig_df)))\n",
    "print(\"Samples by product group:\\n{}\".format(test_orig_df['Product'].value_counts()))\n",
    "\n",
    "# re-index after sampling\n",
    "train_orig_df = train_orig_df.reset_index(drop=True)\n",
    "test_orig_df = test_orig_df.reset_index(drop=True)"
   ]
  },
  {
   "cell_type": "markdown",
   "metadata": {
    "id": "07d862cc-3cc4-42c7-a19a-d55118083ba8"
   },
   "source": [
    "You have created two dataframes, one for the training and one for the test data. The data is still in its original format. Now you need to bring the data into a format that is usable by the Watson NLP classification algorithms. This can be either *JSON* or *CSV* format. \n",
    "\n",
    "In the sample, you will create the data in *JSON* format. The training and test data is written to files."
   ]
  },
  {
   "cell_type": "code",
   "execution_count": 10,
   "metadata": {
    "id": "230ff2a2-4095-4cf3-ae29-6a8deaa36a29"
   },
   "outputs": [
    {
     "data": {
      "text/html": [
       "<div>\n",
       "<style scoped>\n",
       "    .dataframe tbody tr th:only-of-type {\n",
       "        vertical-align: middle;\n",
       "    }\n",
       "\n",
       "    .dataframe tbody tr th {\n",
       "        vertical-align: top;\n",
       "    }\n",
       "\n",
       "    .dataframe thead th {\n",
       "        text-align: right;\n",
       "    }\n",
       "</style>\n",
       "<table border=\"1\" class=\"dataframe\">\n",
       "  <thead>\n",
       "    <tr style=\"text-align: right;\">\n",
       "      <th></th>\n",
       "      <th>text</th>\n",
       "      <th>labels</th>\n",
       "    </tr>\n",
       "  </thead>\n",
       "  <tbody>\n",
       "    <tr>\n",
       "      <th>0</th>\n",
       "      <td>A {$400.00} signup bonus not paid as advertised when newly opening Citibank Account Package. \\nUnder the Promotion XXXX I opened the Citi checking and savings package on XX/XX/XXXX, fulfilled the requirement of depositing the minimum balance of {$15000.00} using Non-Citibank-funds on XX/XX/XXXX, kept the balance until XX/XX/XXXX, and waited until XX/XX/XXXX. Until now, no signup bonus was cred...</td>\n",
       "      <td>[Checking or savings account]</td>\n",
       "    </tr>\n",
       "    <tr>\n",
       "      <th>1</th>\n",
       "      <td>On XX/XX/2021 I deposited my paycheck into my XXXX banking account when I signed up I signed up for brokerage Plus mobile checking my brokerage account is open but I can not get a checking account to open up there for all of my money is stuck in my brokerage account now and I am unable to withdraw my money I tried getting a hold of XXXX to get this problem fixed they tell me that I need my ide...</td>\n",
       "      <td>[Checking or savings account]</td>\n",
       "    </tr>\n",
       "  </tbody>\n",
       "</table>\n",
       "</div>"
      ],
      "text/plain": [
       "                                                                                                                                                                                                                                                                                                                                                                                                              text  \\\n",
       "0  A {$400.00} signup bonus not paid as advertised when newly opening Citibank Account Package. \\nUnder the Promotion XXXX I opened the Citi checking and savings package on XX/XX/XXXX, fulfilled the requirement of depositing the minimum balance of {$15000.00} using Non-Citibank-funds on XX/XX/XXXX, kept the balance until XX/XX/XXXX, and waited until XX/XX/XXXX. Until now, no signup bonus was cred...   \n",
       "1  On XX/XX/2021 I deposited my paycheck into my XXXX banking account when I signed up I signed up for brokerage Plus mobile checking my brokerage account is open but I can not get a checking account to open up there for all of my money is stuck in my brokerage account now and I am unable to withdraw my money I tried getting a hold of XXXX to get this problem fixed they tell me that I need my ide...   \n",
       "\n",
       "                          labels  \n",
       "0  [Checking or savings account]  \n",
       "1  [Checking or savings account]  "
      ]
     },
     "execution_count": 10,
     "metadata": {},
     "output_type": "execute_result"
    }
   ],
   "source": [
    "def prepare_data(df):\n",
    "    # only the text column and the target label *Product* are needed\n",
    "    df_out = df[[text_col, 'Product']].reset_index(drop=True)\n",
    "    # rename to the identifiers expected by Watson NLP\n",
    "    df_out = df_out.rename(columns={text_col: \"text\", 'Product': 'labels'})\n",
    "    # the label column should be an array (although we have only one label per complaint)\n",
    "    df_out['labels'] = df_out['labels'].map(lambda label: [label,])\n",
    "    return df_out\n",
    "    \n",
    "train_df = prepare_data(train_orig_df)\n",
    "train_file = './train_data.json'\n",
    "train_df.to_json(train_file, orient='records')\n",
    "    \n",
    "test_df = prepare_data(test_orig_df)\n",
    "test_file = './test_data.json'\n",
    "test_df.to_json(test_file, orient='records')\n",
    "\n",
    "train_df.head(2)"
   ]
  },
  {
   "cell_type": "markdown",
   "metadata": {
    "id": "17ffb4e4-bed1-403f-98d3-07ae4b2dedc3"
   },
   "source": [
    "<a id=\"svm\"></a>\n",
    "## Train a SVM classification model with Watson NLP"
   ]
  },
  {
   "cell_type": "markdown",
   "metadata": {
    "id": "078c5074-b5dc-4950-bb12-73d8a391761a"
   },
   "source": [
    "SVM is an establishd classification approach. Watson NLP includes an SVM algorithm that exploits the `SnapML` libraries for faster training. The algorithm utilizes USE embeddings that encode word-level semantics into a vector space.\n",
    "\n",
    "The SVM classifier block depends on the syntax block. So, start by loading the syntax model and the USE embeddings."
   ]
  },
  {
   "cell_type": "code",
   "execution_count": 11,
   "metadata": {
    "id": "69907356-2cbd-47f0-8e57-aa634b18cd40"
   },
   "outputs": [],
   "source": [
    "# Syntax Model\n",
    "syntax_model = watson_nlp.load('syntax_izumo_en_stock')\n",
    "# USE Embedding Model\n",
    "use_model = watson_nlp.load('embedding_use_en_stock')"
   ]
  },
  {
   "cell_type": "markdown",
   "metadata": {
    "id": "c19dc436-83bf-4e91-977e-60b6b8ca86b2"
   },
   "source": [
    "Classification blocks expect the training data in data streams. You can create data streams using several utility methods, as shown below."
   ]
  },
  {
   "cell_type": "code",
   "execution_count": 12,
   "metadata": {
    "id": "37b4fbf2-30f0-44c7-a534-75449c2fd336"
   },
   "outputs": [],
   "source": [
    "training_data_file = train_file\n",
    "\n",
    "# Create datastream from training data\n",
    "data_stream_resolver = DataStreamResolver(target_stream_type=list, expected_keys={'text': str, 'labels': list})\n",
    "training_data = data_stream_resolver.as_data_stream(training_data_file)\n",
    "\n",
    "# Create Syntax stream\n",
    "text_stream, labels_stream = training_data[0], training_data[1]\n",
    "syntax_stream = syntax_model.stream(text_stream)\n",
    "\n",
    "use_train_stream = use_model.stream(syntax_stream, doc_embed_style='raw_text')\n",
    "use_svm_train_stream = watson_nlp.data_model.DataStream.zip(use_train_stream, labels_stream)"
   ]
  },
  {
   "cell_type": "markdown",
   "metadata": {
    "id": "052b20f4-941b-4e9f-9a62-bc4abef37b77"
   },
   "source": [
    "Train the classifier. **Note:** This cell will run for several minutes."
   ]
  },
  {
   "cell_type": "code",
   "execution_count": 13,
   "metadata": {
    "id": "dcd05e07-d4f5-4967-9862-e833a2aef001"
   },
   "outputs": [],
   "source": [
    "# Train the SVM model\n",
    "svm_model = SVM.train(use_svm_train_stream)"
   ]
  },
  {
   "cell_type": "markdown",
   "metadata": {
    "id": "a9d51076-59ac-4bb7-98ee-0d6e32cb09a0"
   },
   "source": [
    "Before you evalute the model, you will train another one and look at how to store and reload models from the project."
   ]
  },
  {
   "cell_type": "markdown",
   "metadata": {
    "id": "95570c15-5b12-4abd-873c-ca83c2a4e308"
   },
   "source": [
    "<a id=\"ensemble\"></a>\n",
    "## Train an ensemble classification model with Watson NLP"
   ]
  },
  {
   "cell_type": "markdown",
   "metadata": {
    "id": "23d23ac9-a879-4e56-9efb-f32501b628d7"
   },
   "source": [
    "The ensemble model may combine three classification models: \n",
    "\n",
    "- SVM with TF-IDF features\n",
    "- SVM with USE (Universal Sentence Encoder) features \n",
    "- CNN \n",
    "\n",
    "You will use SVM with TF-IDF and SVM with USE as algorithms for the Ensemble classifier.\n",
    "It computes the weighted mean of classification predictions using confidence scores. You will use the default weights which can be fine-tuned in subsequent steps.\n",
    "\n",
    "The ensemble workflow is very easy to use and the model performance can be a lot better than individual algorithms.\n",
    "\n",
    "It depends on the syntax model and the USE embeddings. They are passed with the file containing the training data."
   ]
  },
  {
   "cell_type": "markdown",
   "metadata": {
    "id": "0342ddb4-4c26-4818-b937-3d7ddf11b0fa"
   },
   "source": [
    "Train the ensemble classifier."
   ]
  },
  {
   "cell_type": "code",
   "execution_count": 14,
   "metadata": {
    "id": "411dd851929641c3ae19855f7ea26826"
   },
   "outputs": [],
   "source": [
    "from watson_nlp.workflows.classification import GenericEnsemble\n",
    "from watson_nlp.workflows.classification.base_classifier import TFidfSvm\n",
    "from watson_nlp.workflows.classification.base_classifier import UseSvm\n",
    "\n",
    "ensemble_model = GenericEnsemble.train(training_data, syntax_model, \n",
    "                                       base_classifiers_params=[\n",
    "                                           TFidfSvm.TrainParams(syntax_model=syntax_model),\n",
    "                                           UseSvm.TrainParams(syntax_model=syntax_model, use_embedding_model=use_model, doc_embed_style='raw_text')])"
   ]
  },
  {
   "cell_type": "markdown",
   "metadata": {
    "id": "7296890f206c4f7682997a6ca217ce8b"
   },
   "source": [
    "<a id=\"storeLoad\"></a>\n",
    "## Store and load classification models (optional)"
   ]
  },
  {
   "cell_type": "markdown",
   "metadata": {
    "id": "00a803c1dfcb4be489d9c3e8b6af410e"
   },
   "source": [
    "You can save a model as a project asset. `model.as_bytes()` creates a ZIP archive, which is provided as a *BytesIO* object that is stored in the project.\n",
    "\n",
    "**Note:** These steps are **optional**. You can skip them, and continue at [Classify test data and compare model quality](#scoring)\n",
    "\n",
    "Save both models in your project."
   ]
  },
  {
   "cell_type": "code",
   "execution_count": 16,
   "metadata": {
    "id": "6f2d4d1c23ea49e880498b0ed9010f24"
   },
   "outputs": [
    {
     "data": {
      "text/plain": [
       "{'name': 'classify_notes_svm',\n",
       " 'asset_type': 'data_asset',\n",
       " 'asset_id': 'cac29622-b742-4b89-b1f4-4d89e01b0072',\n",
       " 'attachment_id': '4624adc8-d034-405f-91ff-1a562f0a72ba',\n",
       " 'filepath': 'classify_notes_svm.',\n",
       " 'data_size': None,\n",
       " 'mime': 'application/binary',\n",
       " 'summary': ['created or overwritten file',\n",
       "  'created data asset',\n",
       "  'created attachment']}"
      ]
     },
     "execution_count": 16,
     "metadata": {},
     "output_type": "execute_result"
    }
   ],
   "source": [
    "wslib.save_data('classify_notes_svm', data=svm_model.as_bytes(), overwrite=True)"
   ]
  },
  {
   "cell_type": "code",
   "execution_count": 17,
   "metadata": {
    "id": "2676c868db474636a01cf162db66a973"
   },
   "outputs": [
    {
     "data": {
      "text/plain": [
       "{'name': 'classify_notes_ensemble',\n",
       " 'asset_type': 'data_asset',\n",
       " 'asset_id': '582b3c90-2afe-4762-aaeb-9211e8ac350f',\n",
       " 'attachment_id': 'c321beb0-ca0f-4831-89fc-014837757d3b',\n",
       " 'filepath': 'classify_notes_ensemble.',\n",
       " 'data_size': None,\n",
       " 'mime': 'application/binary',\n",
       " 'summary': ['created or overwritten file',\n",
       "  'created data asset',\n",
       "  'created attachment']}"
      ]
     },
     "execution_count": 17,
     "metadata": {},
     "output_type": "execute_result"
    }
   ],
   "source": [
    "wslib.save_data('classify_notes_ensemble', data=ensemble_model.as_bytes(), overwrite=True)"
   ]
  },
  {
   "cell_type": "markdown",
   "metadata": {
    "id": "fb8f5eaec4c34761807fe4c447c5e1df"
   },
   "source": [
    "The ZIP archive created by the `save_data` function is compatible to the `watson_nlp.load()` function that is also used to load the predefined Watson NLP models."
   ]
  },
  {
   "cell_type": "markdown",
   "metadata": {
    "id": "db9b3096-1942-45a0-bdd7-0d1bd93cdd70"
   },
   "source": [
    "<a id=\"scoring\"></a>\n",
    "## Classify test data and compare model quality"
   ]
  },
  {
   "cell_type": "markdown",
   "metadata": {
    "id": "16a8f9b8-8f3c-43f4-abce-2f19b080739e"
   },
   "source": [
    "Now you are able to run the trained models on new data. You will run the models on the test data so that the results can also be used for model evaluation. For illustration purposes, the data is used in the original format that you started out with because the format of the new complaints that you receive might also be in that format.\n",
    "\n",
    "Notice that the SVM with USE embeddings model requires you to run the syntax model on the input texts first.\n",
    "\n",
    "Create a helper method to run both models on a single complaint and return the predicted product groups of both models."
   ]
  },
  {
   "cell_type": "code",
   "execution_count": 19,
   "metadata": {},
   "outputs": [],
   "source": [
    "# Load the models we previously saved in the project for testing\n",
    "\n",
    "svm_model = watson_nlp.load(wslib.load_data('classify_notes_svm'))\n",
    "ensemble_model = watson_nlp.load(wslib.load_data('classify_notes_ensemble'))"
   ]
  },
  {
   "cell_type": "code",
   "execution_count": 20,
   "metadata": {
    "id": "146f73b2-aac8-4ce4-894e-45e0adaf1596"
   },
   "outputs": [],
   "source": [
    "def predict_product(text):\n",
    "    # run syntax model first\n",
    "    syntax_result = syntax_model.run(text)\n",
    "    # run SVM model on top of syntax result\n",
    "    svm_preds = svm_model.run(use_model.run(syntax_result, doc_embed_style='raw_text'))\n",
    "    \n",
    "    predicted_svm = svm_preds.to_dict()[\"classes\"][0][\"class_name\"]\n",
    "    \n",
    "    ensemble_preds = ensemble_model.run(text)\n",
    "    predicted_ensemble = ensemble_preds.to_dict()[\"classes\"][0][\"class_name\"]\n",
    "    return (predicted_svm, predicted_ensemble)"
   ]
  },
  {
   "cell_type": "markdown",
   "metadata": {
    "id": "c0150739-b655-4b94-bb14-12b58ea29905"
   },
   "source": [
    "Run the models on the complete test data."
   ]
  },
  {
   "cell_type": "code",
   "execution_count": 21,
   "metadata": {
    "id": "426c35ff-c049-4c39-a9d0-084f053db050"
   },
   "outputs": [
    {
     "data": {
      "text/html": [
       "<div>\n",
       "<style scoped>\n",
       "    .dataframe tbody tr th:only-of-type {\n",
       "        vertical-align: middle;\n",
       "    }\n",
       "\n",
       "    .dataframe tbody tr th {\n",
       "        vertical-align: top;\n",
       "    }\n",
       "\n",
       "    .dataframe thead th {\n",
       "        text-align: right;\n",
       "    }\n",
       "</style>\n",
       "<table border=\"1\" class=\"dataframe\">\n",
       "  <thead>\n",
       "    <tr style=\"text-align: right;\">\n",
       "      <th></th>\n",
       "      <th>Consumer complaint narrative</th>\n",
       "      <th>Product</th>\n",
       "      <th>Predicted SVM</th>\n",
       "      <th>Predicted Ensemble</th>\n",
       "    </tr>\n",
       "  </thead>\n",
       "  <tbody>\n",
       "    <tr>\n",
       "      <th>0</th>\n",
       "      <td>Bank of America has been abusive in a hold on funds of {$3500.00}. from XXXXXXXX XXXX Draft from Business Checking ending in {$6300.00}, which were swiftly collected from XXXX after Bank of America ATM deposit on XX/XX/XXXX. \\n\\nThe funds did not credit to the Bank of America Personal Checking account ending in XXXX, for XXXX XXXX XXXX, XXXX XXXX XXXX, CA XXXX. The Branch has contended that th...</td>\n",
       "      <td>Checking or savings account</td>\n",
       "      <td>Checking or savings account</td>\n",
       "      <td>Checking or savings account</td>\n",
       "    </tr>\n",
       "    <tr>\n",
       "      <th>1</th>\n",
       "      <td>Navy Federal has made it impossible to access my money but VERY easy to deposit. I had direct deposit with Navy Fed where I also have stimulus checks deposited. They locked me out of accessing my acct online and only can access by calling or going in person. However because in Texas it has been impossible to renew drivers licenses because of XXXX, I have not been able to access in person eithe...</td>\n",
       "      <td>Checking or savings account</td>\n",
       "      <td>Checking or savings account</td>\n",
       "      <td>Checking or savings account</td>\n",
       "    </tr>\n",
       "    <tr>\n",
       "      <th>2</th>\n",
       "      <td>My account was closed on XX/XX/21 for what they said was a suspicious XXXX payment credited to my account. I have been on the phone everyday with them since for hours trying to get this all sorted out and chatting in. They say i wont get my money until may and they wont give me any funds. This is absolutely ridiculous. How am i supposed to live without my money? This is criminal. I need my fun...</td>\n",
       "      <td>Checking or savings account</td>\n",
       "      <td>Money transfer, virtual currency, or money service</td>\n",
       "      <td>Money transfer, virtual currency, or money service</td>\n",
       "    </tr>\n",
       "    <tr>\n",
       "      <th>3</th>\n",
       "      <td>Citi Bank for the past year has charged my checking/Savings accounts a monthly fee when all accounts had a combined total that was higher than what Citi Bank stated for \" FeeFree ''. Citi Bank did not return the money that they illegally took from my accounts.</td>\n",
       "      <td>Checking or savings account</td>\n",
       "      <td>Checking or savings account</td>\n",
       "      <td>Checking or savings account</td>\n",
       "    </tr>\n",
       "    <tr>\n",
       "      <th>4</th>\n",
       "      <td>XXXX  identity theft and fraudulent charges! \\n\\nIn XXXX of 2021, XXXX charged my debit card for 60 transactions totaling {$9900.00}. As this is a business account for XXXX XXXX XXXX  and I am the XXXX, I identified the problem at month end reconciliation and immediately reported it to Bank of America. The criminal also used my debit card to charge {$1200.00} in auto loan and Bill Pay expenses...</td>\n",
       "      <td>Checking or savings account</td>\n",
       "      <td>Checking or savings account</td>\n",
       "      <td>Checking or savings account</td>\n",
       "    </tr>\n",
       "  </tbody>\n",
       "</table>\n",
       "</div>"
      ],
      "text/plain": [
       "                                                                                                                                                                                                                                                                                                                                                                                      Consumer complaint narrative  \\\n",
       "0  Bank of America has been abusive in a hold on funds of {$3500.00}. from XXXXXXXX XXXX Draft from Business Checking ending in {$6300.00}, which were swiftly collected from XXXX after Bank of America ATM deposit on XX/XX/XXXX. \\n\\nThe funds did not credit to the Bank of America Personal Checking account ending in XXXX, for XXXX XXXX XXXX, XXXX XXXX XXXX, CA XXXX. The Branch has contended that th...   \n",
       "1  Navy Federal has made it impossible to access my money but VERY easy to deposit. I had direct deposit with Navy Fed where I also have stimulus checks deposited. They locked me out of accessing my acct online and only can access by calling or going in person. However because in Texas it has been impossible to renew drivers licenses because of XXXX, I have not been able to access in person eithe...   \n",
       "2  My account was closed on XX/XX/21 for what they said was a suspicious XXXX payment credited to my account. I have been on the phone everyday with them since for hours trying to get this all sorted out and chatting in. They say i wont get my money until may and they wont give me any funds. This is absolutely ridiculous. How am i supposed to live without my money? This is criminal. I need my fun...   \n",
       "3                                                                                                                                             Citi Bank for the past year has charged my checking/Savings accounts a monthly fee when all accounts had a combined total that was higher than what Citi Bank stated for \" FeeFree ''. Citi Bank did not return the money that they illegally took from my accounts.   \n",
       "4  XXXX  identity theft and fraudulent charges! \\n\\nIn XXXX of 2021, XXXX charged my debit card for 60 transactions totaling {$9900.00}. As this is a business account for XXXX XXXX XXXX  and I am the XXXX, I identified the problem at month end reconciliation and immediately reported it to Bank of America. The criminal also used my debit card to charge {$1200.00} in auto loan and Bill Pay expenses...   \n",
       "\n",
       "                       Product  \\\n",
       "0  Checking or savings account   \n",
       "1  Checking or savings account   \n",
       "2  Checking or savings account   \n",
       "3  Checking or savings account   \n",
       "4  Checking or savings account   \n",
       "\n",
       "                                        Predicted SVM  \\\n",
       "0                         Checking or savings account   \n",
       "1                         Checking or savings account   \n",
       "2  Money transfer, virtual currency, or money service   \n",
       "3                         Checking or savings account   \n",
       "4                         Checking or savings account   \n",
       "\n",
       "                                   Predicted Ensemble  \n",
       "0                         Checking or savings account  \n",
       "1                         Checking or savings account  \n",
       "2  Money transfer, virtual currency, or money service  \n",
       "3                         Checking or savings account  \n",
       "4                         Checking or savings account  "
      ]
     },
     "execution_count": 21,
     "metadata": {},
     "output_type": "execute_result"
    }
   ],
   "source": [
    "predictions = test_orig_df[text_col].apply(lambda text: predict_product(text))\n",
    "predictions_df = pd.DataFrame.from_records(predictions, columns=('Predicted SVM', 'Predicted Ensemble'))\n",
    "   \n",
    "result_df = test_orig_df[[text_col, \"Product\"]].merge(predictions_df, how='left', left_index=True, right_index=True)\n",
    "result_df.head()"
   ]
  },
  {
   "cell_type": "markdown",
   "metadata": {
    "id": "d923a5c1-2c7c-460d-b7bc-73880b999a3f"
   },
   "source": [
    "### Out-of-the-box model evaluation using Watson NLP"
   ]
  },
  {
   "cell_type": "markdown",
   "metadata": {
    "id": "49954f72-7d17-4a33-a090-64d119d5262e"
   },
   "source": [
    "Watson NLP offers a method to calculate different quality metrics for a given model. Use the test data to evaluate the quality of your models."
   ]
  },
  {
   "cell_type": "code",
   "execution_count": 22,
   "metadata": {
    "id": "5a15ff2a-1f46-49e7-bd84-b9a32efd17bd"
   },
   "outputs": [
    {
     "name": "stderr",
     "output_type": "stream",
     "text": [
      "WARNING: Only Micro_avg metrics could be calculated based on the information available for this block type.\n"
     ]
    },
    {
     "data": {
      "text/plain": [
       "{'per_class_confusion_matrix': {'Checking or savings account': {'true_positive': 25,\n",
       "   'false_positive': 168,\n",
       "   'false_negative': 35,\n",
       "   'precision': 0.12953367875647667,\n",
       "   'recall': 0.4166666666666667,\n",
       "   'f1': 0.1976284584980237},\n",
       "  'Money transfer, virtual currency, or money service': {'true_positive': 1,\n",
       "   'false_positive': 33,\n",
       "   'false_negative': 59,\n",
       "   'precision': 0.029411764705882353,\n",
       "   'recall': 0.016666666666666666,\n",
       "   'f1': 0.02127659574468085},\n",
       "  'Debt collection': {'true_positive': 10,\n",
       "   'false_positive': 53,\n",
       "   'false_negative': 50,\n",
       "   'precision': 0.15873015873015872,\n",
       "   'recall': 0.16666666666666666,\n",
       "   'f1': 0.1626016260162602},\n",
       "  'Credit card or prepaid card': {'true_positive': 7,\n",
       "   'false_positive': 52,\n",
       "   'false_negative': 53,\n",
       "   'precision': 0.11864406779661017,\n",
       "   'recall': 0.11666666666666667,\n",
       "   'f1': 0.11764705882352941},\n",
       "  'Vehicle loan or lease': {'true_positive': 8,\n",
       "   'false_positive': 22,\n",
       "   'false_negative': 52,\n",
       "   'precision': 0.26666666666666666,\n",
       "   'recall': 0.13333333333333333,\n",
       "   'f1': 0.17777777777777776},\n",
       "  'Credit reporting, credit repair services, or other personal consumer reports': {'true_positive': 3,\n",
       "   'false_positive': 30,\n",
       "   'false_negative': 57,\n",
       "   'precision': 0.09090909090909091,\n",
       "   'recall': 0.05,\n",
       "   'f1': 0.06451612903225806},\n",
       "  'Mortgage': {'true_positive': 0,\n",
       "   'false_positive': 8,\n",
       "   'false_negative': 60,\n",
       "   'precision': 0.0,\n",
       "   'recall': 0.0,\n",
       "   'f1': 0.0}},\n",
       " 'macro_true_positive': None,\n",
       " 'macro_false_positive': None,\n",
       " 'macro_false_negative': None,\n",
       " 'macro_precision': 0.11341363250926938,\n",
       " 'macro_recall': 0.1285714285714286,\n",
       " 'macro_f1': 0.10592109227036141,\n",
       " 'micro_precision': 0.12857142857142856,\n",
       " 'micro_recall': 0.12857142857142856,\n",
       " 'micro_f1': 0.12857142857142856,\n",
       " 'overall_tp': 54,\n",
       " 'overall_fp': 366,\n",
       " 'overall_fn': 366,\n",
       " 'detailed_metrics': [],\n",
       " 'micro_precision_partial_match': 0.0,\n",
       " 'micro_recall_partial_match': 0.0,\n",
       " 'micro_f1_partial_match': 0.0}"
      ]
     },
     "execution_count": 22,
     "metadata": {},
     "output_type": "execute_result"
    }
   ],
   "source": [
    "# run the models on the test data - this time in batch mode\n",
    "preprocess_func = lambda raw_doc: use_model.run_batch(syntax_model.run_batch(raw_doc))\n",
    "svm_model.evaluate_quality(test_file, preprocess_func=preprocess_func)"
   ]
  },
  {
   "cell_type": "markdown",
   "metadata": {
    "id": "82255bf2-47ea-4c84-aa13-de545d2bb1e4"
   },
   "source": [
    "You can see that the precision, recall and f1-measure for some classes is much lower than for others. The reason might be that it is difficult to differentiate between some classes. \n",
    "\n",
    "To find out if this is true, create a custom confusion matrix to see if there are classes that seem to be very close and might have been classified inappropriately."
   ]
  },
  {
   "cell_type": "markdown",
   "metadata": {
    "id": "c68ca5eb-eb69-40bd-83c8-f984c740c522"
   },
   "source": [
    "### Creating and plotting a confusion matrix"
   ]
  },
  {
   "cell_type": "markdown",
   "metadata": {
    "id": "030b1678-3fac-49a7-8c97-a42c3e496263"
   },
   "source": [
    "Use the pandas *crosstab* to create a confusion matrix for both the SVM and the ensemble model and plot them as *Seaborn* heatmaps."
   ]
  },
  {
   "cell_type": "code",
   "execution_count": 23,
   "metadata": {
    "id": "b3103777-c4b8-4a32-baf9-7c8a306f5b19"
   },
   "outputs": [
    {
     "data": {
      "image/png": "[encoded data removed]",
      "text/plain": [
       "<Figure size 1500x700 with 2 Axes>"
      ]
     },
     "metadata": {},
     "output_type": "display_data"
    }
   ],
   "source": [
    "SVM_confusion_df = pd.crosstab(result_df['Product'], result_df['Predicted SVM'], rownames=['Actual'], normalize='index')\n",
    "ensemble_confusion_df = pd.crosstab(result_df['Product'], result_df['Predicted Ensemble'], rownames=['Actual'], normalize='index')\n",
    "\n",
    "figure, (ax1, ax2) = plt.subplots(ncols=2, figsize=(15,7))\n",
    "\n",
    "sn.heatmap(SVM_confusion_df, annot=True, cmap=\"YlGnBu\", ax=ax1, cbar=False)\n",
    "sn.heatmap(ensemble_confusion_df, annot=True, cmap=\"YlGnBu\", ax=ax2, cbar=False)\n",
    "ax1.title.set_text(\"SVM\")\n",
    "ax2.title.set_text(\"Ensemble\")\n",
    "ax2.set_yticklabels([])\n",
    "\n",
    "plt.show()"
   ]
  },
  {
   "cell_type": "markdown",
   "metadata": {
    "id": "081bae89-6295-4813-aaa1-22f703ccf61f"
   },
   "source": [
    "#### Findings\n",
    "\n",
    "In the confusion matrix for the SVM model you can now see that complaints for `Credit reporting, credit repair services, or other personal consumer reports` are often misclassified as `Debt collection` - and vice versa. Other common misclassifications can be gathered from the table.\n",
    "\n",
    "Overall, the ensemble model performs better than the SVM model. \n",
    "\n",
    "In subsequent steps, consider increasing the size of the training data or adjusting the weights of the ensemble model to gain better results."
   ]
  },
  {
   "cell_type": "markdown",
   "metadata": {
    "id": "5eb6fb72-bdfc-4065-9993-123c904556a8"
   },
   "source": [
    "<a id=\"summary\"></a>\n",
    "## Summary"
   ]
  },
  {
   "cell_type": "markdown",
   "metadata": {
    "id": "06180a3b-c3fd-4df8-8894-77ce43e8865f"
   },
   "source": [
    "This notebook shows you how to use the Watson NLP library and how quickly and easily you can train and run different text classifiers using Watson NLP."
   ]
  },
  {
   "cell_type": "markdown",
   "metadata": {
    "id": "bbbfe417-ba3a-4b39-b4e0-d510af1599e9"
   },
   "source": [
    "### Authors\n",
    "*Simone Zerfass IBM, Germany and Alexander Lang IBM, Germany*\n",
    "*Updated for the workshop by Elena lowery\n"
   ]
  },
  {
   "cell_type": "markdown",
   "metadata": {
    "id": "a93d3d2e-779b-45bb-9c98-fa0ae595566c"
   },
   "source": [
    "# <hr>\n",
    "Copyright © 2021 IBM. This notebook and its source code are released under the terms of the MIT License."
   ]
  }
 ],
 "metadata": {
  "kernelspec": {
   "display_name": "Python 3.10",
   "language": "python",
   "name": "python3"
  },
  "language_info": {
   "codemirror_mode": {
    "name": "ipython",
    "version": 3
   },
   "file_extension": ".py",
   "mimetype": "text/x-python",
   "name": "python",
   "nbconvert_exporter": "python",
   "pygments_lexer": "ipython3",
   "version": "3.10.10"
  }
 },
 "nbformat": 4,
 "nbformat_minor": 1
}
