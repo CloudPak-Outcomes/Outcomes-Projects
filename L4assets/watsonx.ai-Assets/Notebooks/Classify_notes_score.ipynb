{
 "cells": [
  {
   "cell_type": "code",
   "execution_count": 4,
   "metadata": {},
   "outputs": [],
   "source": [
    "# Insert your project token"
   ]
  },
  {
   "cell_type": "markdown",
   "metadata": {},
   "source": [
    "# Classifying customer notes with Watson NLP"
   ]
  },
  {
   "cell_type": "markdown",
   "metadata": {},
   "source": [
    "This notebook was created using the [sample notebooks](https://dataplatform.cloud.ibm.com/exchange/public/entry/view/636001e59902133a4a23fd89f010e4cb?context=wx) in the Gallery. In this example we score customer complaints using the models we trained in the *Classify_notes_model_build* notebook. "
   ]
  },
  {
   "cell_type": "code",
   "execution_count": 5,
   "metadata": {},
   "outputs": [],
   "source": [
    "import watson_nlp\n",
    "\n",
    "from watson_core.data_model.streams.resolver import DataStreamResolver\n",
    "from watson_core.toolkit import fileio\n",
    "from watson_nlp.blocks.classification.svm import SVM"
   ]
  },
  {
   "cell_type": "markdown",
   "metadata": {},
   "source": [
    "### 1. Load customer interaction notes for scoring"
   ]
  },
  {
   "cell_type": "markdown",
   "metadata": {},
   "source": [
    "**Important: regenerate data access code for the file in your project. Make sure to change the dataframe name after generation to complaint_df**\n",
    "The csv file name that we will use for scoring is *notes_scoring.csv*"
   ]
  },
  {
   "cell_type": "code",
   "execution_count": 8,
   "metadata": {},
   "outputs": [
    {
     "data": {
      "text/html": [
       "<div>\n",
       "<style scoped>\n",
       "    .dataframe tbody tr th:only-of-type {\n",
       "        vertical-align: middle;\n",
       "    }\n",
       "\n",
       "    .dataframe tbody tr th {\n",
       "        vertical-align: top;\n",
       "    }\n",
       "\n",
       "    .dataframe thead th {\n",
       "        text-align: right;\n",
       "    }\n",
       "</style>\n",
       "<table border=\"1\" class=\"dataframe\">\n",
       "  <thead>\n",
       "    <tr style=\"text-align: right;\">\n",
       "      <th></th>\n",
       "      <th>Customer_id</th>\n",
       "      <th>Consumer complaint narrative</th>\n",
       "    </tr>\n",
       "  </thead>\n",
       "  <tbody>\n",
       "    <tr>\n",
       "      <th>0</th>\n",
       "      <td>1</td>\n",
       "      <td>I am writing you this statement to delete the ...</td>\n",
       "    </tr>\n",
       "    <tr>\n",
       "      <th>1</th>\n",
       "      <td>2</td>\n",
       "      <td>On XX/XX/2023, I entered a Bank of America Bra...</td>\n",
       "    </tr>\n",
       "    <tr>\n",
       "      <th>2</th>\n",
       "      <td>3</td>\n",
       "      <td>Folks, I am in XXXX XXXX. I was living and wor...</td>\n",
       "    </tr>\n",
       "    <tr>\n",
       "      <th>3</th>\n",
       "      <td>4</td>\n",
       "      <td>On XX/XX/XXXX, XX/XX/XXXX and XX/XX/XXXX I was...</td>\n",
       "    </tr>\n",
       "    <tr>\n",
       "      <th>4</th>\n",
       "      <td>5</td>\n",
       "      <td>I placed an order for a product with Best Buy ...</td>\n",
       "    </tr>\n",
       "  </tbody>\n",
       "</table>\n",
       "</div>"
      ],
      "text/plain": [
       "   Customer_id                       Consumer complaint narrative\n",
       "0            1  I am writing you this statement to delete the ...\n",
       "1            2  On XX/XX/2023, I entered a Bank of America Bra...\n",
       "2            3  Folks, I am in XXXX XXXX. I was living and wor...\n",
       "3            4  On XX/XX/XXXX, XX/XX/XXXX and XX/XX/XXXX I was...\n",
       "4            5  I placed an order for a product with Best Buy ..."
      ]
     },
     "execution_count": 8,
     "metadata": {},
     "output_type": "execute_result"
    }
   ],
   "source": [
    "import os, types\n",
    "import pandas as pd\n",
    "from botocore.client import Config\n",
    "import ibm_boto3\n",
    "\n",
    "def __iter__(self): return 0\n",
    "\n",
    "# @hidden_cell\n",
    "# The following code accesses a file in your IBM Cloud Object Storage. It includes your credentials.\n",
    "# You might want to remove those credentials before you share the notebook.\n",
    "cos_client = ibm_boto3.client(service_name='s3',\n",
    "    ibm_api_key_id='A1FXJPFfY-kKaIVqMcaxTJcEHewBasP',\n",
    "    ibm_auth_endpoint=\"https://iam.cloud.ibm.com/oidc/token\",\n",
    "    config=Config(signature_version='oauth'),\n",
    "    endpoint_url='https://s3.private.us-south.cloud-object-storage.appdomain.cloud')\n",
    "\n",
    "bucket = 'llmworkshopyi-donotdelete-pr-zvg5eylmuyhhek'\n",
    "object_key = 'notes_scoring.csv'\n",
    "\n",
    "body = cos_client.get_object(Bucket=bucket,Key=object_key)['Body']\n",
    "# add missing __iter__ method, so pandas accepts body as file-like object\n",
    "if not hasattr(body, \"__iter__\"): body.__iter__ = types.MethodType( __iter__, body )\n",
    "\n",
    "complaint_df = pd.read_csv(body)\n",
    "complaint_df.head()"
   ]
  },
  {
   "cell_type": "code",
   "execution_count": 9,
   "metadata": {},
   "outputs": [],
   "source": [
    "# Identifyer for the column that contains the customer notes\n",
    "text_col = 'Consumer complaint narrative'"
   ]
  },
  {
   "cell_type": "markdown",
   "metadata": {},
   "source": [
    "### 2. Load models"
   ]
  },
  {
   "cell_type": "code",
   "execution_count": 10,
   "metadata": {},
   "outputs": [],
   "source": [
    "# Load the out-of-the box Watson NLP models that we will use in combination with our trained models\n",
    "\n",
    "# Syntax Model\n",
    "syntax_model = watson_nlp.load('syntax_izumo_en_stock')\n",
    "# USE Embedding Model\n",
    "use_model = watson_nlp.load('embedding_use_en_stock')"
   ]
  },
  {
   "cell_type": "code",
   "execution_count": 11,
   "metadata": {},
   "outputs": [],
   "source": [
    "# Load the models we previously saved in the project for scoring\n",
    "svm_model = watson_nlp.load(wslib.load_data('classify_notes_svm'))\n",
    "ensemble_model = watson_nlp.load(wslib.load_data('classify_notes_ensemble'))"
   ]
  },
  {
   "cell_type": "markdown",
   "metadata": {},
   "source": [
    "###  3. Invoke Scoring"
   ]
  },
  {
   "cell_type": "code",
   "execution_count": 12,
   "metadata": {},
   "outputs": [],
   "source": [
    "# Function that will be invoked for scoring \n",
    "def predict_product(text):\n",
    "    # run syntax model first\n",
    "    syntax_result = syntax_model.run(text)\n",
    "    # run SVM model on top of syntax result\n",
    "    svm_preds = svm_model.run(use_model.run(syntax_result, doc_embed_style='raw_text'))\n",
    "    \n",
    "    predicted_svm = svm_preds.to_dict()[\"classes\"][0][\"class_name\"]\n",
    "    \n",
    "    ensemble_preds = ensemble_model.run(text)\n",
    "    predicted_ensemble = ensemble_preds.to_dict()[\"classes\"][0][\"class_name\"]\n",
    "    return (predicted_svm, predicted_ensemble)"
   ]
  },
  {
   "cell_type": "code",
   "execution_count": 13,
   "metadata": {},
   "outputs": [
    {
     "data": {
      "text/html": [
       "<div>\n",
       "<style scoped>\n",
       "    .dataframe tbody tr th:only-of-type {\n",
       "        vertical-align: middle;\n",
       "    }\n",
       "\n",
       "    .dataframe tbody tr th {\n",
       "        vertical-align: top;\n",
       "    }\n",
       "\n",
       "    .dataframe thead th {\n",
       "        text-align: right;\n",
       "    }\n",
       "</style>\n",
       "<table border=\"1\" class=\"dataframe\">\n",
       "  <thead>\n",
       "    <tr style=\"text-align: right;\">\n",
       "      <th></th>\n",
       "      <th>Predicted SVM</th>\n",
       "      <th>Predicted Ensemble</th>\n",
       "    </tr>\n",
       "  </thead>\n",
       "  <tbody>\n",
       "    <tr>\n",
       "      <th>0</th>\n",
       "      <td>Debt collection</td>\n",
       "      <td>Credit reporting, credit repair services, or o...</td>\n",
       "    </tr>\n",
       "    <tr>\n",
       "      <th>1</th>\n",
       "      <td>Checking or savings account</td>\n",
       "      <td>Checking or savings account</td>\n",
       "    </tr>\n",
       "    <tr>\n",
       "      <th>2</th>\n",
       "      <td>Checking or savings account</td>\n",
       "      <td>Checking or savings account</td>\n",
       "    </tr>\n",
       "    <tr>\n",
       "      <th>3</th>\n",
       "      <td>Debt collection</td>\n",
       "      <td>Debt collection</td>\n",
       "    </tr>\n",
       "    <tr>\n",
       "      <th>4</th>\n",
       "      <td>Credit card or prepaid card</td>\n",
       "      <td>Credit card or prepaid card</td>\n",
       "    </tr>\n",
       "  </tbody>\n",
       "</table>\n",
       "</div>"
      ],
      "text/plain": [
       "                 Predicted SVM  \\\n",
       "0              Debt collection   \n",
       "1  Checking or savings account   \n",
       "2  Checking or savings account   \n",
       "3              Debt collection   \n",
       "4  Credit card or prepaid card   \n",
       "\n",
       "                                  Predicted Ensemble  \n",
       "0  Credit reporting, credit repair services, or o...  \n",
       "1                        Checking or savings account  \n",
       "2                        Checking or savings account  \n",
       "3                                    Debt collection  \n",
       "4                        Credit card or prepaid card  "
      ]
     },
     "execution_count": 13,
     "metadata": {},
     "output_type": "execute_result"
    }
   ],
   "source": [
    "# Invoke scoring\n",
    "\n",
    "predictions = complaint_df[text_col].apply(lambda text: predict_product(text))\n",
    "predictions_df = pd.DataFrame.from_records(predictions, columns=('Predicted SVM', 'Predicted Ensemble'))\n",
    "\n",
    "# Display the results (for testing only)\n",
    "predictions_df.head()"
   ]
  },
  {
   "cell_type": "code",
   "execution_count": 14,
   "metadata": {},
   "outputs": [
    {
     "data": {
      "text/html": [
       "<div>\n",
       "<style scoped>\n",
       "    .dataframe tbody tr th:only-of-type {\n",
       "        vertical-align: middle;\n",
       "    }\n",
       "\n",
       "    .dataframe tbody tr th {\n",
       "        vertical-align: top;\n",
       "    }\n",
       "\n",
       "    .dataframe thead th {\n",
       "        text-align: right;\n",
       "    }\n",
       "</style>\n",
       "<table border=\"1\" class=\"dataframe\">\n",
       "  <thead>\n",
       "    <tr style=\"text-align: right;\">\n",
       "      <th></th>\n",
       "      <th>Customer_id</th>\n",
       "      <th>Consumer complaint narrative</th>\n",
       "      <th>Predicted SVM</th>\n",
       "      <th>Predicted Ensemble</th>\n",
       "    </tr>\n",
       "  </thead>\n",
       "  <tbody>\n",
       "    <tr>\n",
       "      <th>0</th>\n",
       "      <td>1</td>\n",
       "      <td>I am writing you this statement to delete the ...</td>\n",
       "      <td>Debt collection</td>\n",
       "      <td>Credit reporting, credit repair services, or o...</td>\n",
       "    </tr>\n",
       "    <tr>\n",
       "      <th>1</th>\n",
       "      <td>2</td>\n",
       "      <td>On XX/XX/2023, I entered a Bank of America Bra...</td>\n",
       "      <td>Checking or savings account</td>\n",
       "      <td>Checking or savings account</td>\n",
       "    </tr>\n",
       "    <tr>\n",
       "      <th>2</th>\n",
       "      <td>3</td>\n",
       "      <td>Folks, I am in XXXX XXXX. I was living and wor...</td>\n",
       "      <td>Checking or savings account</td>\n",
       "      <td>Checking or savings account</td>\n",
       "    </tr>\n",
       "    <tr>\n",
       "      <th>3</th>\n",
       "      <td>4</td>\n",
       "      <td>On XX/XX/XXXX, XX/XX/XXXX and XX/XX/XXXX I was...</td>\n",
       "      <td>Debt collection</td>\n",
       "      <td>Debt collection</td>\n",
       "    </tr>\n",
       "    <tr>\n",
       "      <th>4</th>\n",
       "      <td>5</td>\n",
       "      <td>I placed an order for a product with Best Buy ...</td>\n",
       "      <td>Credit card or prepaid card</td>\n",
       "      <td>Credit card or prepaid card</td>\n",
       "    </tr>\n",
       "  </tbody>\n",
       "</table>\n",
       "</div>"
      ],
      "text/plain": [
       "   Customer_id                       Consumer complaint narrative  \\\n",
       "0            1  I am writing you this statement to delete the ...   \n",
       "1            2  On XX/XX/2023, I entered a Bank of America Bra...   \n",
       "2            3  Folks, I am in XXXX XXXX. I was living and wor...   \n",
       "3            4  On XX/XX/XXXX, XX/XX/XXXX and XX/XX/XXXX I was...   \n",
       "4            5  I placed an order for a product with Best Buy ...   \n",
       "\n",
       "                 Predicted SVM  \\\n",
       "0              Debt collection   \n",
       "1  Checking or savings account   \n",
       "2  Checking or savings account   \n",
       "3              Debt collection   \n",
       "4  Credit card or prepaid card   \n",
       "\n",
       "                                  Predicted Ensemble  \n",
       "0  Credit reporting, credit repair services, or o...  \n",
       "1                        Checking or savings account  \n",
       "2                        Checking or savings account  \n",
       "3                                    Debt collection  \n",
       "4                        Credit card or prepaid card  "
      ]
     },
     "execution_count": 14,
     "metadata": {},
     "output_type": "execute_result"
    }
   ],
   "source": [
    "# Merge scoring results with the original dataset\n",
    "result_df = complaint_df.merge(predictions_df, how='left', left_index=True, right_index=True)\n",
    "result_df.head()"
   ]
  },
  {
   "cell_type": "markdown",
   "metadata": {},
   "source": [
    "### 4. Save Scoring Results in the project"
   ]
  },
  {
   "cell_type": "code",
   "execution_count": 13,
   "metadata": {},
   "outputs": [
    {
     "data": {
      "text/plain": [
       "{'name': 'notes_scoring_results.csv',\n",
       " 'asset_type': 'data_asset',\n",
       " 'asset_id': '9d63c8ca-283b-47e2-becf-080a02d5c509',\n",
       " 'attachment_id': '28a99bac-47a2-44d3-a353-0cd63a7edece',\n",
       " 'filepath': 'notes_scoring_results.csv',\n",
       " 'data_size': None,\n",
       " 'mime': 'text/csv',\n",
       " 'summary': ['created file', 'created data asset', 'created attachment']}"
      ]
     },
     "execution_count": 13,
     "metadata": {},
     "output_type": "execute_result"
    }
   ],
   "source": [
    "# Write scoring results to the project\n",
    "\n",
    "# let's assume you have the pandas DataFrame pandas_df which contains the data\n",
    "# you want to save as a csv file\n",
    "wslib.save_data(\"notes_scoring_results.csv\", result_df.to_csv(index=False).encode())"
   ]
  },
  {
   "cell_type": "code",
   "execution_count": null,
   "metadata": {},
   "outputs": [],
   "source": []
  },
  {
   "cell_type": "code",
   "execution_count": null,
   "metadata": {},
   "outputs": [],
   "source": []
  }
 ],
 "metadata": {
  "kernelspec": {
   "display_name": "Python 3.10",
   "language": "python",
   "name": "python3"
  },
  "language_info": {
   "codemirror_mode": {
    "name": "ipython",
    "version": 3
   },
   "file_extension": ".py",
   "mimetype": "text/x-python",
   "name": "python",
   "nbconvert_exporter": "python",
   "pygments_lexer": "ipython3",
   "version": "3.10.10"
  }
 },
 "nbformat": 4,
 "nbformat_minor": 1
}
