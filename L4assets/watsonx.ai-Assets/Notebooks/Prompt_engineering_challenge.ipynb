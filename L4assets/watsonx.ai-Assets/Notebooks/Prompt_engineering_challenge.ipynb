{
 "cells": [
  {
   "cell_type": "markdown",
   "metadata": {
    "pycharm": {
     "name": "#%% md\n"
    }
   },
   "source": [
    "![image](https://raw.githubusercontent.com/IBM/watson-machine-learning-samples/master/cloud/notebooks/headers/watsonx-Prompt_Lab-Notebook.png)"
   ]
  },
  {
   "cell_type": "markdown",
   "metadata": {},
   "source": [
    "## Prompt Engineering Challenge ##\n",
    "\n",
    "In this notebook you will be challeanged to write your own prompts. \n",
    "\n",
    "## Before you start\n",
    "\n",
    "Keep in mind that <br> \n",
    "\n",
    "💡 Prompt engineering is essentially the art and science of crafting well-structured and precise queries that enable AI models to provide accurate, informative and context-aware responses. So feel free to experiment with different prompts to find the one works the best for your use case!  \n",
    "\n",
    "🎈 The default model defined in the helper function is `llama` but is it the best model for the task you are working on? Maybe. You can choose another model supported by watsonx.ai. Read the [WML docs](https://ibm.github.io/watson-machine-learning-sdk/index.html) and find the model parameter you need to switch to the model of your choice. Yes, this is also an exercise about reading documentaion and python code:) Don't forget that you can adjust other model parameters such as decoding_method, max_new_tokens, min_new_tokens as well!\n",
    "\n",
    "⏰ It should take you about 30-45 min to walk through the exercises self paced. \n",
    "\n",
    "**If you prefer to use the Prompt Lab, and not a notebook, you can simply copy the prompts into the Prompt Lab UI**"
   ]
  },
  {
   "cell_type": "markdown",
   "metadata": {
    "pycharm": {
     "name": "#%% md\n"
    }
   },
   "source": [
    "<a id=\"setup\"></a>\n",
    "## Set up the environment\n",
    "\n",
    "Before you use the sample code in this notebook, you must perform the following setup tasks:\n",
    "\n",
    "-  Create a <a href=\"https://console.ng.bluemix.net/catalog/services/ibm-watson-machine-learning/\" target=\"_blank\" rel=\"noopener no referrer\">Watson Machine Learning (WML) Service</a> instance (a free plan is offered and information about how to create the instance can be found <a href=\"https://dataplatform.cloud.ibm.com/docs/content/wsj/analyze-data/ml-service-instance.html?context=analytics\" target=\"_blank\" rel=\"noopener no referrer\">here</a>)."
   ]
  },
  {
   "cell_type": "markdown",
   "metadata": {
    "pycharm": {
     "name": "#%% md\n"
    }
   },
   "source": [
    "### Install and import the `datasets` and dependecies"
   ]
  },
  {
   "cell_type": "code",
   "execution_count": null,
   "metadata": {
    "pycharm": {
     "is_executing": true,
     "name": "#%%\n"
    }
   },
   "outputs": [],
   "source": [
    "!pip install ibm-watson-machine-learning --upgrade"
   ]
  },
  {
   "cell_type": "markdown",
   "metadata": {
    "pycharm": {
     "name": "#%% md\n"
    }
   },
   "source": [
    "### Defining the WML credentials\n",
    "This cell defines the WML credentials required to work with watsonx Foundation Model inferencing.\n",
    "\n",
    "**Action:** Provide the IBM Cloud user API key. For details, see\n",
    "[documentation](https://cloud.ibm.com/docs/account?topic=account-userapikey&interface=ui)."
   ]
  },
  {
   "cell_type": "code",
   "execution_count": null,
   "metadata": {
    "pycharm": {
     "name": "#%%\n"
    }
   },
   "outputs": [],
   "source": [
    "from ibm_cloud_sdk_core import IAMTokenManager\n",
    "from ibm_cloud_sdk_core.authenticators import IAMAuthenticator, BearerTokenAuthenticator\n",
    "import os, getpass\n",
    "\n",
    "access_token = IAMTokenManager(\n",
    "    apikey = getpass.getpass(\"Please enter your api key (hit enter): \"),\n",
    "    url = \"https://iam.cloud.ibm.com/identity/token\"\n",
    ").get_token()\n"
   ]
  },
  {
   "cell_type": "markdown",
   "metadata": {
    "pycharm": {
     "name": "#%% md\n"
    }
   },
   "source": [
    "### Defining the project id\n",
    "The Foundation Model requires project id that provides the context for the call. We will obtain the id from the project in which this notebook runs. Otherwise, please provide the project id."
   ]
  },
  {
   "cell_type": "code",
   "execution_count": null,
   "metadata": {
    "pycharm": {
     "name": "#%%\n"
    }
   },
   "outputs": [],
   "source": [
    "import os\n",
    "\n",
    "try:\n",
    "    project_id = os.environ[\"PROJECT_ID\"]\n",
    "except KeyError:\n",
    "    project_id = input(\"Please enter your project_id (hit enter): \")"
   ]
  },
  {
   "cell_type": "markdown",
   "metadata": {},
   "source": [
    "## Define the inference function\n",
    "In this section we define the inference function. \n",
    "Invocation parameters can be modified in the following cell"
   ]
  },
  {
   "cell_type": "code",
   "execution_count": null,
   "metadata": {},
   "outputs": [],
   "source": [
    "import requests\n",
    "\n",
    "class Prompt:\n",
    "    def __init__(self, access_token, project_id):\n",
    "        self.access_token = access_token\n",
    "        self.project_id = project_id\n",
    "\n",
    "    def generate(self, input, model_id, parameters):\n",
    "        wml_url = \"https://us-south.ml.cloud.ibm.com/ml/v1-beta/generation/text?version=2023-05-28\"\n",
    "        Headers = {\n",
    "            \"Authorization\": \"Bearer \" + self.access_token,\n",
    "            \"Content-Type\": \"application/json\",\n",
    "            \"Accept\": \"application/json\"\n",
    "        }\n",
    "        data = {\n",
    "            \"model_id\": model_id,\n",
    "            \"input\": input,\n",
    "            \"parameters\": parameters,\n",
    "            \"project_id\": self.project_id\n",
    "        }\n",
    "        response = requests.post(wml_url, json=data, headers=Headers)\n",
    "        if response.status_code == 200:\n",
    "            return response.json()[\"results\"][0][\"generated_text\"]\n",
    "        else:\n",
    "            return response.text"
   ]
  },
  {
   "cell_type": "markdown",
   "metadata": {
    "pycharm": {
     "name": "#%% md\n"
    }
   },
   "source": [
    "#### List available models\n",
    "\n",
    "All avaliable models are presented under `ModelTypes` class."
   ]
  },
  {
   "cell_type": "code",
   "execution_count": null,
   "metadata": {
    "pycharm": {
     "name": "#%%\n"
    }
   },
   "outputs": [],
   "source": [
    "from ibm_watson_machine_learning.foundation_models.utils.enums import ModelTypes\n",
    "from ibm_watson_machine_learning.metanames import GenTextParamsMetaNames as GenParams\n",
    "from ibm_watson_machine_learning.foundation_models.utils.enums import ModelTypes, DecodingMethods\n",
    "\n",
    "\n",
    "print([model.name for model in ModelTypes])"
   ]
  },
  {
   "cell_type": "markdown",
   "metadata": {},
   "source": [
    "**If you wish, change model parameters** (don't forget to rerun the cell)"
   ]
  },
  {
   "cell_type": "code",
   "execution_count": null,
   "metadata": {},
   "outputs": [],
   "source": [
    "parameters = {\n",
    "    \"decoding_method\": \"greedy\",\n",
    "    \"max_new_tokens\": 300,\n",
    "    \"min_new_tokens\": 50,\n",
    "    \"stop_sequences\": [\".\"],\n",
    "    \"repetition_penalty\": 1\n",
    "}"
   ]
  },
  {
   "cell_type": "markdown",
   "metadata": {
    "pycharm": {
     "name": "#%% md\n"
    }
   },
   "source": [
    "**If you wish, change the model type for prompting** (don't forget to rerun the cell)"
   ]
  },
  {
   "cell_type": "code",
   "execution_count": null,
   "metadata": {
    "pycharm": {
     "name": "#%%\n"
    }
   },
   "outputs": [],
   "source": [
    "model_id = \"meta-llama/llama-2-70b-chat\""
   ]
  },
  {
   "cell_type": "markdown",
   "metadata": {},
   "source": [
    "## Task 1: General summarization\n",
    "\n",
    "* Write a prompt to summarize the following customer feedback regarding their loan application experience. If needed, you can use prompt lab for experimentation and bring your final prompt to this notebook. \n",
    "\n",
    "* Bonus: The default model is `google/flan-ul2` but is it the best model for this task? Maybe? You can choose another model supported by watsonx.ai. Read the [WML docs](https://ibm.github.io/watson-machine-learning-sdk/index.html) and find the model parameter you need to switch to the model of your choice. Yes, it is an exercise about reading documentaion and python code:) Don't forget that you can adjust other model parameters such as decoding_method, max_new_tokens, min_new_tokens as well!\n",
    "\n",
    "* Customer feedback:\n",
    "\n",
    "I hope this message finds you well. I am writing to express my deep disappointment\n",
    "and frustration regarding my recent loan application experience with your institution.\n",
    "While I understand that creditworthiness plays a significant role in the approval\n",
    "process, I am troubled by the lack of communication and transparency throughout the\n",
    "entire journey.\n",
    "From the outset, I believed that I had a strong chance of securing the loan I applied for.\n",
    "However, to my surprise and dismay, my loan application was rejected due to my bad\n",
    "credit history. What troubles me most is that this crucial information was not\n",
    "communicated to me by you or any other member of your team. As an applicant, I had\n",
    "a right to be informed promptly about any setbacks or challenges that could potentially\n",
    "impact the outcome of my application.\n",
    "Had I been made aware of the issues with my credit, I could have taken immediate\n",
    "action to rectify the situation. I would have appreciated an open and honest discussion\n",
    "about the concerns surrounding my creditworthiness. Instead, I was left in the dark,\n",
    "unaware that my dreams of obtaining the loan were rapidly fading.\n",
    "Furthermore, the lack of transparency is not the only aspect of this experience that has\n",
    "left me disheartened. Throughout the application process, I provided all the required\n",
    "documentation promptly and diligently. I expected a level of professionalism that\n",
    "would include timely updates and proactive communication regarding the progress of\n",
    "my application. Regrettably, I found myself repeatedly following up for information,\n",
    "only to be met with vague responses and delayed replies.\n",
    "As a valued customer, I expected better treatment from your institution. The failure to\n",
    "inform me about the detrimental impact of my bad credit and the overall lack of\n",
    "communication have not only caused immense frustration but have also wasted\n",
    "valuable time and effort. I trusted your expertise and guidance throughout this\n",
    "process, only to be let down by the absence of effective communication channels.\n",
    "I believe that clear communication is the cornerstone of any successful business\n",
    "relationship. Had I received timely and accurate updates regarding my loan\n",
    "application, I would have been able to explore alternative options or address the credit\n",
    "concerns more proactively. Instead, I was left feeling deceived and abandoned.\n",
    "I sincerely hope that you will take this feedback seriously and reevaluate your internal\n",
    "procedures. Improving communication practices and ensuring transparency will not\n",
    "only enhance the customer experience but also promote trust and loyalty. As a\n",
    "prospective borrower, I genuinely believe in the value of constructive criticism and\n",
    "hope that my feedback will contribute to the improvement of your loan application\n",
    "process.\n",
    "Thank you for your attention to this matter. I trust that you will take the necessary\n",
    "steps to address these concerns and prevent such disappointments from happening in\n",
    "the future.\n",
    "\n",
    "\n",
    "* sample output:\n",
    "\n",
    "The customer expresses deep disappointment and frustration with the institution's lack of transparency and communication, particularly in regard to their bad credit history, which ultimately led to the rejection of their loan application, and they hope their feedback will lead to improved procedures and greater trust in the future.\n"
   ]
  },
  {
   "cell_type": "markdown",
   "metadata": {},
   "source": [
    "**Replace with your prompt**"
   ]
  },
  {
   "cell_type": "code",
   "execution_count": null,
   "metadata": {},
   "outputs": [],
   "source": [
    "prompt_input = \"***\""
   ]
  },
  {
   "cell_type": "code",
   "execution_count": null,
   "metadata": {},
   "outputs": [],
   "source": [
    "# Run the test\n",
    "prompt = Prompt(access_token, project_id)\n",
    "prompt.generate(prompt_input, model_id, parameters)"
   ]
  },
  {
   "cell_type": "markdown",
   "metadata": {},
   "source": [
    "## Task 2: Targeted summarization\n",
    "\n",
    "* Write a prompt that summarize both positive and negative aspects in the following customer feedback regarding their loan application experience.\n",
    "\n",
    "* Bonus: List the summary in bullet points.\n",
    "\n",
    "* Customer feedback you will work with:\n",
    "\n",
    "I started my loan process toward securing a VA loan. I was waiting for a a month and a\n",
    "couple weeks, then I was told that the VA needed to acquire my retirement points to\n",
    "verify my veteran status. If I knew this is what my loan was on hold for, I could have\n",
    "contacted the VA office right away and got this cleared up. For whatever reason, it took\n",
    "the underwriting department a long time to verify my employment status, even after I\n",
    "uploaded a couple years of my W2 forms from both of my jobs, and they had my Social\n",
    "Security number to further verify my employment status. My loan completion date was\n",
    "extended, because I wasn't made aware that they were waiting for my VA status to be\n",
    "approved. The push back for my mortgage is common for mortgage companies, but this\n",
    "caused my interest rate to go up. Then, the securing of a closing lawyer being made\n",
    "aware to me and the lawyer needing three days to get their end prepared for me to go\n",
    "to their office to sign the paperwork wasn't made aware to me. My loan missed the\n",
    "second closing date. For whatever reason, the locked in interest rate jumped up 5/8\n",
    "points. After making the banker I was working with aware of this, he didn't understand\n",
    "why the locked in interest rate jumped up either. He was nice enough to work on it and\n",
    "was able to get the interest rate down in 1/4 of a point, so my mortgage has an interest\n",
    "rate that is 3/8 of a point higher than my locked in interest rate in the beginning of this\n",
    "process. Although my interest rate is higher than the locked in interest point, at the\n",
    "end, the mortgage is successfully finished.\n",
    "\n",
    "* Sample output:\n",
    "\n",
    "```\n",
    "* Positive aspects:\n",
    "\t+ The banker was nice and helpful in resolving the issue with the interest rate.\n",
    "\t+ The loan was successfully finished despite the challenges.\n",
    "* Negative aspects:\n",
    "\t+ The loan process took longer than expected due to delays in verifying the customer's veteran status and employment status.\n",
    "\t+ The customer was not kept informed about the status of their loan and was not aware of the need for a closing lawyer.\n",
    "\t+ The interest rate increased by 5/8 of a point, resulting in a higher interest rate than the customer had locked in.\n",
    "\t+ The customer had to work with the banker to get the interest rate reduced by 1/4 of a point."
   ]
  },
  {
   "cell_type": "code",
   "execution_count": null,
   "metadata": {},
   "outputs": [],
   "source": [
    "prompt_input = \"***\""
   ]
  },
  {
   "cell_type": "code",
   "execution_count": null,
   "metadata": {},
   "outputs": [],
   "source": [
    "# Run the test\n",
    "prompt = Prompt(access_token, project_id)\n",
    "prompt.generate(prompt_input, model_id, parameters)"
   ]
  },
  {
   "cell_type": "markdown",
   "metadata": {},
   "source": [
    "## Task 3: Targeted summarization focusing interest rate\n",
    "\n",
    "* You will be working with the same customer feedback from Task 2. But this time you will write a prompt that generates a summary focusing on **interest rate**.\n",
    "\n",
    "\n",
    "* Customer feedback you will work with:\n",
    "\n",
    "I started my loan process toward securing a VA loan. I was waiting for a a month and a\n",
    "couple weeks, then I was told that the VA needed to acquire my retirement points to\n",
    "verify my veteran status. If I knew this is what my loan was on hold for, I could have\n",
    "contacted the VA office right away and got this cleared up. For whatever reason, it took\n",
    "the underwriting department a long time to verify my employment status, even after I\n",
    "uploaded a couple years of my W2 forms from both of my jobs, and they had my Social\n",
    "Security number to further verify my employment status. My loan completion date was\n",
    "extended, because I wasn't made aware that they were waiting for my VA status to be\n",
    "approved. The push back for my mortgage is common for mortgage companies, but this\n",
    "caused my interest rate to go up. Then, the securing of a closing lawyer being made\n",
    "aware to me and the lawyer needing three days to get their end prepared for me to go\n",
    "to their office to sign the paperwork wasn't made aware to me. My loan missed the\n",
    "second closing date. For whatever reason, the locked in interest rate jumped up 5/8\n",
    "points. After making the banker I was working with aware of this, he didn't understand\n",
    "why the locked in interest rate jumped up either. He was nice enough to work on it and\n",
    "was able to get the interest rate down in 1/4 of a point, so my mortgage has an interest\n",
    "rate that is 3/8 of a point higher than my locked in interest rate in the beginning of this\n",
    "process. Although my interest rate is higher than the locked in interest point, at the\n",
    "end, the mortgage is successfully finished.\n",
    "\n",
    "* Sample output (Note: your output may vary)\n",
    "\n",
    "```\n",
    "The customer experienced multiple delays in the loan process, which ultimately caused the locked-in interest rate to increase by 5/8 points. However, after raising the issue, the banker managed to reduce it by 1/4 of a point, resulting in a final interest rate that was 3/8 of a point higher than the initial agreement, but the mortgage was successfully completed.\n",
    "```\n"
   ]
  },
  {
   "cell_type": "code",
   "execution_count": null,
   "metadata": {},
   "outputs": [],
   "source": [
    "prompt_input = \"***\""
   ]
  },
  {
   "cell_type": "code",
   "execution_count": null,
   "metadata": {},
   "outputs": [],
   "source": [
    "# Run the test\n",
    "prompt = Prompt(access_token, project_id)\n",
    "prompt.generate(prompt_input, model_id, parameters)"
   ]
  },
  {
   "cell_type": "markdown",
   "metadata": {},
   "source": [
    "## Task 4: Sentiment Analysis\n",
    "\n",
    "* Use an IBM model and write a prompt to return the sentiment (positive or negative) of the following reviews:\n",
    "\n",
    "**Customer feedback 1:**\n",
    "\n",
    "I started my loan process toward securing a VA loan. I was waiting for a a month and a\n",
    "couple weeks, then I was told that the VA needed to acquire my retirement points to\n",
    "verify my veteran status. If I knew this is what my loan was on hold for, I could have\n",
    "contacted the VA office right away and got this cleared up. For whatever reason, it took\n",
    "the underwriting department a long time to verify my employment status, even after I\n",
    "uploaded a couple years of my W2 forms from both of my jobs, and they had my Social\n",
    "Security number to further verify my employment status. My loan completion date was\n",
    "extended, because I wasn't made aware that they were waiting for my VA status to be\n",
    "approved. The push back for my mortgage is common for mortgage companies, but this\n",
    "caused my interest rate to go up. Then, the securing of a closing lawyer being made\n",
    "aware to me and the lawyer needing three days to get their end prepared for me to go\n",
    "to their office to sign the paperwork wasn't made aware to me. My loan missed the\n",
    "second closing date. For whatever reason, the locked in interest rate jumped up 5/8\n",
    "points. After making the banker I was working with aware of this, he didn't understand\n",
    "why the locked in interest rate jumped up either. He was nice enough to work on it and\n",
    "was able to get the interest rate down in 1/4 of a point, so my mortgage has an interest\n",
    "rate that is 3/8 of a point higher than my locked in interest rate in the beginning of this\n",
    "process. Although my interest rate is higher than the locked in interest point, at the\n",
    "end, the mortgage is successfully finished.\n",
    "\n",
    "**Customer Feedback 2:**\n",
    "\n",
    "I hope this message finds you well. I am writing to express my deep disappointment\n",
    "and frustration regarding my recent loan application experience with your institution.\n",
    "While I understand that creditworthiness plays a significant role in the approval\n",
    "process, I am troubled by the lack of communication and transparency throughout the\n",
    "entire journey.\n",
    "From the outset, I believed that I had a strong chance of securing the loan I applied for.\n",
    "However, to my surprise and dismay, my loan application was rejected due to my bad\n",
    "credit history. What troubles me most is that this crucial information was not\n",
    "communicated to me by you or any other member of your team. As an applicant, I had\n",
    "a right to be informed promptly about any setbacks or challenges that could potentially\n",
    "impact the outcome of my application.\n",
    "Had I been made aware of the issues with my credit, I could have taken immediate\n",
    "action to rectify the situation. I would have appreciated an open and honest discussion\n",
    "about the concerns surrounding my creditworthiness. Instead, I was left in the dark,\n",
    "unaware that my dreams of obtaining the loan were rapidly fading.\n",
    "Furthermore, the lack of transparency is not the only aspect of this experience that has\n",
    "left me disheartened. Throughout the application process, I provided all the required\n",
    "documentation promptly and diligently. I expected a level of professionalism that\n",
    "would include timely updates and proactive communication regarding the progress of\n",
    "my application. Regrettably, I found myself repeatedly following up for information,\n",
    "only to be met with vague responses and delayed replies.\n",
    "As a valued customer, I expected better treatment from your institution. The failure to\n",
    "inform me about the detrimental impact of my bad credit and the overall lack of\n",
    "communication have not only caused immense frustration but have also wasted\n",
    "valuable time and effort. I trusted your expertise and guidance throughout this\n",
    "process, only to be let down by the absence of effective communication channels.\n",
    "I believe that clear communication is the cornerstone of any successful business\n",
    "relationship. Had I received timely and accurate updates regarding my loan\n",
    "application, I would have been able to explore alternative options or address the credit\n",
    "concerns more proactively. Instead, I was left feeling deceived and abandoned.\n",
    "I sincerely hope that you will take this feedback seriously and reevaluate your internal\n",
    "procedures. Improving communication practices and ensuring transparency will not\n",
    "only enhance the customer experience but also promote trust and loyalty. As a\n",
    "prospective borrower, I genuinely believe in the value of constructive criticism and\n",
    "hope that my feedback will contribute to the improvement of your loan application\n",
    "process.\n",
    "\n",
    "Thank you for your attention to this matter. I trust that you will take the necessary\n",
    "steps to address these concerns and prevent such disappointments from happening in\n",
    "the future.\n",
    "\n",
    "**Customer feedback 3:**\n",
    "\n",
    "I recently went through the home loan process, and I must say it was a smooth and\n",
    "efficient experience. From the initial application to the final closing, the loan officer\n",
    "guided me every step of the way, ensuring all my questions were answered. The\n",
    "communication was excellent, with timely updates on the progress of my loan. The\n",
    "team was highly professional and dedicated to getting me the best possible terms.\n",
    "They worked diligently to secure a competitive interest rate, and the loan was\n",
    "completed within the expected timeframe. I am extremely satisfied with the service\n",
    "provided and would highly recommend their home loan services to anyone in need of\n",
    "financing.\n",
    "\n",
    "* Expected output:\n",
    "```\n",
    "Negative\n",
    "negative\n",
    "positive\n",
    "```\n",
    "\n"
   ]
  },
  {
   "cell_type": "code",
   "execution_count": null,
   "metadata": {},
   "outputs": [],
   "source": [
    "prompt_input = \"***\""
   ]
  },
  {
   "cell_type": "code",
   "execution_count": null,
   "metadata": {},
   "outputs": [],
   "source": [
    "# Run the test\n",
    "prompt = Prompt(access_token, project_id)\n",
    "prompt.generate(prompt_input, model_id, parameters)"
   ]
  },
  {
   "cell_type": "markdown",
   "metadata": {},
   "source": [
    "## Task 5: Named entity Extraction\n",
    "\n",
    "* Please use an IBM model for this task and write a prompt to extract details about the insured vehicle from the auto insturance claim report below. The expected output should in JSON format that looks like this:\n",
    "```\n",
    "{\n",
    "    \"Car Make and Model\": \"Tesla Model S\",\n",
    "    \"Location\": \"Astor Place, New York\",\n",
    "    \"Date\": \"April 15th, 2023\",\n",
    "    \"Time\": \"Not Found\"\n",
    "}\n",
    "\n",
    "```\n",
    "\n",
    "* Customer feedback you will work with:\n",
    "\n",
    "The insured vehicle, a Tesla Model S, was parked outside on Astor Place, New York on April 15th, 2023 when an unexpected and violent hailstorm struck the area.\\n Hailstones of varying sizes, ranging from small pellets to large golf balls, rained down on the vehicle with relentless force. The impact of the hailstones caused extensive damage to the exterior of the vehicle, leaving behind a multitude of dents and dings on the roof, hood, trunk, and all sides.\\n The hailstones were so powerful that they shattered the windshield and side windows, resulting in shattered glass fragments scattered throughout the interior of the vehicle. The insured immediately contacted their insurance company to report the incident and initiated the claims process.\\n Recognizing the severity of the damage, the insurance company promptly dispatched an experienced auto appraiser to assess the extent of the hail damage.\\nThe appraiser meticulously inspected the vehicle, documenting each dent, ding, and broken window. Based on their assessment, the appraiser estimated the cost of repairs, taking into account the need for paintless dent removal, panel replacements, windshield replacement, and window repairs. With the appraisal report in hand, the insured is now filing a comprehensive claim for the necessary repairs.\\n Along with the report, the insured is submitting detailed photographs of the damaged vehicle from multiple angles, capturing the extent of the hail damage.\\nThe insured understands the importance of providing compelling evidence to support their claim and has meticulously documented the damage. They are also including any additional information or documentation requested by the insurance company. The insured is eagerly awaiting the outcome of their claim, hopeful that the insurance company will process it promptly.\\nThey recognize that the repairs required to restore their beloved Tesla Model S to its pre-hailstorm condition will be extensive and costly. However, they have confidence in the insurance company's commitment to providing the necessary coverage and support. Their ultimate goal is to see their vehicle restored to its original beauty and performance, ready to hit the road once again, unaffected by the devastating hailstorm.\n",
    "\n",
    "* <span style=\"color:red\">Hint: You can try few-shot prompting using sample customer feedback in the sample_insurance_claims.txt file. If you did not download the whole repo for the lab, you can find it [here](https://ibm.box.com/s/sj4cxdu05bv9onyxzl43ye0w8vd4xhmk)</span>.\n"
   ]
  },
  {
   "cell_type": "code",
   "execution_count": null,
   "metadata": {},
   "outputs": [],
   "source": [
    "prompt_input = \"***\""
   ]
  },
  {
   "cell_type": "code",
   "execution_count": null,
   "metadata": {},
   "outputs": [],
   "source": [
    "# Run the test\n",
    "prompt = Prompt(access_token, project_id)\n",
    "prompt.generate(prompt_input, model_id, parameters)"
   ]
  },
  {
   "cell_type": "markdown",
   "metadata": {},
   "source": [
    "## Task 6: Question and Answering\n",
    "\n",
    "* Write a prompt to get the model to answer a question based on the following Exclusions section from an auto insurance policy. \n",
    "\n",
    "```\n",
    "The Insurance Company will not pay for any damages an insured\n",
    "person is legally obligated to pay because of:\n",
    "\n",
    "1. bodily injury or property damage arising out of\n",
    "the use of your insured auto while used to carry\n",
    "persons or property for a charge, or any auto\n",
    "you are driving while available for hire by the\n",
    "public to the extent that the limits of liability for\n",
    "this coverage exceed the limits of liability\n",
    "required by the Nevada financial responsibility\n",
    "law. This exclusion does not apply to shared\n",
    "expense car pools.\n",
    "\n",
    "2. bodily injury or property damage arising out of\n",
    "the use of a non-owned auto in any business or\n",
    "occupation of an insured person to the extent\n",
    "that the limits of liability for this coverage exceed\n",
    "the limits of liability required by the Nevada\n",
    "financial responsibility law. However, this\n",
    "exclusion does not apply while you, your\n",
    "chauffeur, or domestic servant are using a\n",
    "private passenger auto or trailer.\n",
    "\n",
    "3. bodily injury to an employee of any insured\n",
    "person arising in the course of employment.\n",
    "This exclusion does not apply to your domestic employee \n",
    "who is not required to be covered by\n",
    "a workers compensation law or similar law.\n",
    "\n",
    "4. bodily injury to a co-worker injured in the\n",
    "course of employment. This exclusion does not\n",
    "apply to you.\n",
    "\n",
    "5. bodily injury to you or any resident of your\n",
    "household related to you by blood, marriage, or\n",
    "adoption to the extent that the limits of liability\n",
    "for this coverage exceed the limits of liability\n",
    "required by the Nevada financial responsibility\n",
    "law.\n",
    "\n",
    "6. damage to or destruction of property an insured\n",
    "person owns, transports, is in charge of, or\n",
    "rents. However, a private residence or a garage\n",
    "rented by that person is covered.\n",
    "\n",
    "7. bodily injury or property damage which may\n",
    "reasonably be expected to result from the\n",
    "intentional acts of an insured person or which\n",
    "are in fact intended by an insured person to the\n",
    "extent that the limits of liability for this coverage\n",
    "exceed the limits of liability required by the\n",
    "Nevada financial responsibility law.\n",
    "\n",
    "8. bodily injury or property damage which would\n",
    "also be covered under nuclear energy liability\n",
    "insurance to the extent that the limits of liability\n",
    "for this coverage exceed the limits of liability\n",
    "required by the Nevada financial responsibility\n",
    "law. This applies even if the limits of that\n",
    "insurance are exhausted.\n",
    "```\n",
    "* You can come up with your own questions, here are some examples:\n",
    "```\n",
    "- Will this policy cover me if I use my personal vehicle for business purposes?\n",
    "- Does this policy cover me if I get into an accident while driving for a ride-sharing company?\n",
    "- Does this policy cover injuries to my family members?\n",
    "```"
   ]
  },
  {
   "cell_type": "code",
   "execution_count": null,
   "metadata": {},
   "outputs": [],
   "source": [
    "prompt_input = \"***\""
   ]
  },
  {
   "cell_type": "code",
   "execution_count": null,
   "metadata": {},
   "outputs": [],
   "source": [
    "# Run the test\n",
    "prompt = Prompt(access_token, project_id)\n",
    "prompt.generate(prompt_input, model_id, parameters)"
   ]
  },
  {
   "cell_type": "markdown",
   "metadata": {
    "pycharm": {
     "name": "#%% md\n"
    }
   },
   "source": [
    "### Authors: \n",
    " **Catherine Cao and Elena Lowery"
   ]
  }
 ],
 "metadata": {
  "kernelspec": {
   "display_name": "Python 3.10",
   "language": "python",
   "name": "python3"
  },
  "language_info": {
   "codemirror_mode": {
    "name": "ipython",
    "version": 3
   },
   "file_extension": ".py",
   "mimetype": "text/x-python",
   "name": "python",
   "nbconvert_exporter": "python",
   "pygments_lexer": "ipython3",
   "version": "3.10.12"
  }
 },
 "nbformat": 4,
 "nbformat_minor": 2
}
