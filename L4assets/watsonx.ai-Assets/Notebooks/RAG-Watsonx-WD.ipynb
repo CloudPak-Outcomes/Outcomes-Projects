{
 "cells": [
  {
   "cell_type": "code",
   "execution_count": 18,
   "id": "b1345eb9",
   "metadata": {},
   "outputs": [],
   "source": [
    "# This package is required for Watson Discovery \n",
    "# You might need to run the command below once if you don't have this package installed.\n",
    "#!pip install --upgrade ibm-watson"
   ]
  },
  {
   "cell_type": "code",
   "execution_count": 19,
   "id": "39e97e07",
   "metadata": {},
   "outputs": [],
   "source": [
    "import json\n",
    "\n",
    "from ibm_watson import DiscoveryV2\n",
    "from ibm_cloud_sdk_core.authenticators import IAMAuthenticator\n",
    "\n",
    "# WML python SDK\n",
    "from ibm_watson_machine_learning.foundation_models import Model\n",
    "from ibm_watson_machine_learning.metanames import GenTextParamsMetaNames as GenParams\n",
    "from ibm_watson_machine_learning.foundation_models.utils.enums import ModelTypes, DecodingMethods"
   ]
  },
  {
   "cell_type": "markdown",
   "id": "bbc5c5d6",
   "metadata": {},
   "source": [
    "## 1. Watson Discovery Configuration"
   ]
  },
  {
   "cell_type": "code",
   "execution_count": 20,
   "id": "94ab9f92",
   "metadata": {},
   "outputs": [],
   "source": [
    "authenticator = IAMAuthenticator('rF5cc4r9ZyEEKDWw7fv9eVvTK8izlkzdQU5R4nULSAv9')\n",
    "discovery = DiscoveryV2(\n",
    "    version='2020-08-30',\n",
    "    authenticator=authenticator\n",
    ")\n",
    "\n",
    "discovery.set_service_url('https://api.us-south.discovery.watson.cloud.ibm.com/instances/9b45b9ef-5a76-4921-91cd-8de6226d87e5')"
   ]
  },
  {
   "cell_type": "markdown",
   "id": "e174c40e",
   "metadata": {},
   "source": [
    "## 2. Watson Discovery Search "
   ]
  },
  {
   "cell_type": "code",
   "execution_count": 21,
   "id": "eba2a135",
   "metadata": {},
   "outputs": [],
   "source": [
    "question = 'I’m interested in IBM’s effect on the environment.  What efforts have they been making in sustainability??'"
   ]
  },
  {
   "cell_type": "code",
   "execution_count": 22,
   "id": "ba64b96d",
   "metadata": {},
   "outputs": [],
   "source": [
    "response = discovery.query(\n",
    "  project_id='aa55396e-690c-4faa-8025-d1ccde561640',\n",
    "  collection_ids = ['50482a47-2d12-941b-0000-018ab47e2892'],\n",
    "  passages = {'enabled': True, \n",
    "              'max_per_document': 5,\n",
    "             'find_answers': True},\n",
    "  natural_language_query = question\n",
    ").get_result()\n",
    "\n",
    "with open('data.json', 'w') as f:\n",
    "    json.dump(response, f)"
   ]
  },
  {
   "cell_type": "code",
   "execution_count": 23,
   "id": "60e7f453",
   "metadata": {},
   "outputs": [
    {
     "data": {
      "text/plain": [
       "dict_keys(['matching_results', 'retrieval_details', 'aggregations', 'results'])"
      ]
     },
     "execution_count": 23,
     "metadata": {},
     "output_type": "execute_result"
    }
   ],
   "source": [
    "# inspecting the key fields in the WD output\n",
    "response.keys()"
   ]
  },
  {
   "cell_type": "code",
   "execution_count": 24,
   "id": "787e54bf",
   "metadata": {},
   "outputs": [
    {
     "data": {
      "text/plain": [
       "1"
      ]
     },
     "execution_count": 24,
     "metadata": {},
     "output_type": "execute_result"
    }
   ],
   "source": [
    "# only one relevant document (because one document in the collection)\n",
    "len(response['results'])"
   ]
  },
  {
   "cell_type": "code",
   "execution_count": 25,
   "id": "f399b32a",
   "metadata": {},
   "outputs": [
    {
     "data": {
      "text/plain": [
       "['Environmental, equitable, and ethical impactBoth internally, and in our work with clients, IBM aspires to make a lasting, positive impact on the world by protecting the environment, advocating for inclusion, and fostering trust and transparency in both technology and business.',\n",
       " 'To help power hybrid cloud environments, and the AI that runs on them, IBM introduced the z16 platform with an integrated on-chip AI accelerator specifically designed to process and analyze real-time transactions at scale. We also unveiled IBM’s next generation LinuxONE servers, which help clients dramatically reduce data center energy consumption in support of their sustainability goals.',\n",
       " 'We continued to make progress towards our goal of net-zero operational greenhouse gas emissions by 2030. In fact, we have reduced those emissions by 61% since 2010. We are using IBM Sustainability solutions to simplify and automate our sustainability reporting processes. During',\n",
       " 'cloud and AI solutions. It is clear that technology is playing a significant role in today’s environment as clients continue to navigate several challenges including inflation and demographic shifts, supply chain issues and heightened sustainability efforts.',\n",
       " 'We do not have retained interests in assets transferred to unconsolidated entities or other material off-balance sheet interests or instruments. Critical Accounting Estimates The application of GAAP requires IBM to make estimates and assumptions about certain items and future events that directly affect its reported financial condition.']"
      ]
     },
     "execution_count": 25,
     "metadata": {},
     "output_type": "execute_result"
    }
   ],
   "source": [
    "# removing some tags\n",
    "passages = response['results'][0]['document_passages']\n",
    "passages = [p['passage_text'].replace('<em>', '').replace('</em>', '').replace('\\n','') for p in passages]\n",
    "passages"
   ]
  },
  {
   "cell_type": "code",
   "execution_count": 26,
   "id": "e662b1e2",
   "metadata": {},
   "outputs": [
    {
     "data": {
      "text/plain": [
       "'Environmental, equitable, and ethical impactBoth internally, and in our work with clients, IBM aspires to make a lasting, positive impact on the world by protecting the environment, advocating for inclusion, and fostering trust and transparency in both technology and business.\\n To help power hybrid cloud environments, and the AI that runs on them, IBM introduced the z16 platform with an integrated on-chip AI accelerator specifically designed to process and analyze real-time transactions at scale. We also unveiled IBM’s next generation LinuxONE servers, which help clients dramatically reduce data center energy consumption in support of their sustainability goals.\\n We continued to make progress towards our goal of net-zero operational greenhouse gas emissions by 2030. In fact, we have reduced those emissions by 61% since 2010. We are using IBM Sustainability solutions to simplify and automate our sustainability reporting processes. During\\n cloud and AI solutions. It is clear that technology is playing a significant role in today’s environment as clients continue to navigate several challenges including inflation and demographic shifts, supply chain issues and heightened sustainability efforts.\\n We do not have retained interests in assets transferred to unconsolidated entities or other material off-balance sheet interests or instruments. Critical Accounting Estimates The application of GAAP requires IBM to make estimates and assumptions about certain items and future events that directly affect its reported financial condition.'"
      ]
     },
     "execution_count": 26,
     "metadata": {},
     "output_type": "execute_result"
    }
   ],
   "source": [
    "# concatenating passages\n",
    "context = '\\n '.join(passages)\n",
    "context"
   ]
  },
  {
   "cell_type": "markdown",
   "id": "02e8474f",
   "metadata": {},
   "source": [
    "## 3. Creating Prompt"
   ]
  },
  {
   "cell_type": "code",
   "execution_count": 9,
   "id": "92c047d1",
   "metadata": {},
   "outputs": [
    {
     "name": "stdout",
     "output_type": "stream",
     "text": [
      "----------------------------------------------------------------------------------------------------\n",
      "*** Prompt:<s>[INST] <<SYS>> Please answer the following question in one sentence using this text. If the question is unanswerable, say 'unanswerable'. If you responded to the question, don't say 'unanswerable'. Do not include information that's not relevant to the question. Do not answer other questions. Make sure the language used is English.'Do not use repetitions' Question:I’m interested in IBM’s effect on the environment.  What efforts have they been making in sustainability??<</SYS>>Environmental, equitable, and ethical impactBoth internally, and in our work with clients, IBM aspires to make a lasting, positive impact on the world by protecting the environment, advocating for inclusion, and fostering trust and transparency in both technology and business.\n",
      " To help power hybrid cloud environments, and the AI that runs on them, IBM introduced the z16 platform with an integrated on-chip AI accelerator specifically designed to process and analyze real-time transactions at scale. We also unveiled IBM’s next generation LinuxONE servers, which help clients dramatically reduce data center energy consumption in support of their sustainability goals.\n",
      " We continued to make progress towards our goal of net-zero operational greenhouse gas emissions by 2030. In fact, we have reduced those emissions by 61% since 2010. We are using IBM Sustainability solutions to simplify and automate our sustainability reporting processes. During\n",
      " cloud and AI solutions. It is clear that technology is playing a significant role in today’s environment as clients continue to navigate several challenges including inflation and demographic shifts, supply chain issues and heightened sustainability efforts.\n",
      " We do not have retained interests in assets transferred to unconsolidated entities or other material off-balance sheet interests or instruments. Critical Accounting Estimates The application of GAAP requires IBM to make estimates and assumptions about certain items and future events that directly affect its reported financial condition.[/INST]***\n",
      "----------------------------------------------------------------------------------------------------\n"
     ]
    }
   ],
   "source": [
    "# https://huggingface.co/blog/llama2#how-to-prompt-llama-2\n",
    "\n",
    "prompt = \\\n",
    "\"<s>[INST] <<SYS>> \\\n",
    "Please answer the following question in one sentence using this text. \\\n",
    "If the question is unanswerable, say 'unanswerable'. \\\n",
    "If you responded to the question, don't say 'unanswerable'. \\\n",
    "Do not include information that's not relevant to the question. \\\n",
    "Do not answer other questions. \\\n",
    "Make sure the language used is English.'\\\n",
    "Do not use repetitions' \\\n",
    "Question:\" + question + \\\n",
    "'<</SYS>>' + context + '[/INST]'\n",
    "\n",
    "#complete_prompt = context + instruction + question\n",
    "\n",
    "print(\"----------------------------------------------------------------------------------------------------\")\n",
    "print(\"*** Prompt:\" + prompt + \"***\")\n",
    "print(\"----------------------------------------------------------------------------------------------------\")"
   ]
  },
  {
   "cell_type": "code",
   "execution_count": 27,
   "id": "f2048b47",
   "metadata": {},
   "outputs": [],
   "source": [
    "def get_model(model_type,max_tokens,min_tokens,decoding,temperature):#, repetition_penalty):\n",
    "\n",
    "    generate_params = {\n",
    "        GenParams.MAX_NEW_TOKENS: max_tokens,\n",
    "        GenParams.MIN_NEW_TOKENS: min_tokens,\n",
    "        GenParams.DECODING_METHOD: decoding,\n",
    "        GenParams.TEMPERATURE: temperature,\n",
    "    }\n",
    "    \n",
    "    model = Model(\n",
    "        model_id=model_type,\n",
    "        params=generate_params,\n",
    "        credentials={\n",
    "            \"apikey\": api_key,\n",
    "            \"url\": url\n",
    "        },\n",
    "        project_id=watsonx_project_id\n",
    "        )\n",
    "\n",
    "    return model"
   ]
  },
  {
   "cell_type": "markdown",
   "id": "fdf44eba",
   "metadata": {},
   "source": [
    "## 4. Configuring watsonx.ai"
   ]
  },
  {
   "cell_type": "code",
   "execution_count": 28,
   "id": "ed017b3e",
   "metadata": {},
   "outputs": [],
   "source": [
    "# URL of the hosted LLMs is hardcoded because at this time all LLMs share the same endpoint\n",
    "url = \"https://us-south.ml.cloud.ibm.com\"\n",
    "\n",
    "# Replace with your watsonx project id (look up in the project Manage tab)\n",
    "watsonx_project_id = \"\"\n",
    "# Replace with your IBM Cloud key\n",
    "api_key = \"\""
   ]
  },
  {
   "cell_type": "code",
   "execution_count": 29,
   "id": "5b867491",
   "metadata": {},
   "outputs": [],
   "source": [
    "model_type = \"meta-llama/llama-2-70b-chat\"\n",
    "max_tokens = 100\n",
    "min_tokens = 50\n",
    "decoding = DecodingMethods.GREEDY\n",
    "temperature = 0.7\n",
    "\n",
    "# Get the watsonx model\n",
    "model = get_model(model_type, max_tokens, min_tokens, decoding, temperature)"
   ]
  },
  {
   "cell_type": "markdown",
   "id": "d79b8207",
   "metadata": {},
   "source": [
    "## 5. Answer Generation"
   ]
  },
  {
   "cell_type": "code",
   "execution_count": 30,
   "id": "1e049cc7",
   "metadata": {},
   "outputs": [
    {
     "name": "stdout",
     "output_type": "stream",
     "text": [
      "--------------------------------- Generated response -----------------------------------\n",
      "  IBM has made efforts in sustainability by reducing their operational greenhouse gas emissions by 61% since 2010 and aiming to reach net-zero emissions by 2030, and have introduced new technology such as the z16 platform and LinuxONE servers that help clients reduce data center energy consumption.\n",
      "*********************************************************************************************\n"
     ]
    }
   ],
   "source": [
    "generated_response = model.generate(prompt)\n",
    "response_text = generated_response['results'][0]['generated_text']\n",
    "\n",
    "# print model response\n",
    "print(\"--------------------------------- Generated response -----------------------------------\")\n",
    "print(response_text)\n",
    "print(\"*********************************************************************************************\")"
   ]
  },
  {
   "cell_type": "code",
   "execution_count": null,
   "id": "9a307ed2",
   "metadata": {},
   "outputs": [],
   "source": []
  }
 ],
 "metadata": {
  "kernelspec": {
   "display_name": "Python 3 (ipykernel)",
   "language": "python",
   "name": "python3"
  },
  "language_info": {
   "codemirror_mode": {
    "name": "ipython",
    "version": 3
   },
   "file_extension": ".py",
   "mimetype": "text/x-python",
   "name": "python",
   "nbconvert_exporter": "python",
   "pygments_lexer": "ipython3",
   "version": "3.11.4"
  }
 },
 "nbformat": 4,
 "nbformat_minor": 5
}
