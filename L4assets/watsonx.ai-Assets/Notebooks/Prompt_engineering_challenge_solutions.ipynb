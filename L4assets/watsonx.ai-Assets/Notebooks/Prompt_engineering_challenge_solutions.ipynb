{
 "cells": [
  {
   "cell_type": "markdown",
   "metadata": {
    "pycharm": {
     "name": "#%% md\n"
    }
   },
   "source": [
    "![image](https://raw.githubusercontent.com/IBM/watson-machine-learning-samples/master/cloud/notebooks/headers/watsonx-Prompt_Lab-Notebook.png)"
   ]
  },
  {
   "cell_type": "markdown",
   "metadata": {},
   "source": [
    "## Prompt Engineering Challenge ##\n",
    "\n",
    "In this notebook you will be challeanged to write your own prompts. \n",
    "\n",
    "## Before you start\n",
    "\n",
    "Keep in mind that <br> \n",
    "\n",
    "💡 Prompt engineering is essentially the art and science of crafting well-structured and precise queries that enable AI models to provide accurate, informative and context-aware responses. So feel free to experiment with different prompts to find the one works the best for your use case!  \n",
    "\n",
    "🎈 The default model defined in the helper function is `llama` You can choose another model supported by watsonx.ai and test the prompts. Read the [WML docs](https://ibm.github.io/watson-machine-learning-sdk/index.html) and find the model parameter you need to switch to the model of your choice. Yes, this is also an exercise about reading documentaion and python code:) Don't forget that you can adjust other model parameters such as decoding_method, max_new_tokens, min_new_tokens as well!\n",
    "\n",
    "⏰ It should take you about 30-45 min to walk through the exercises self paced. \n",
    "\n",
    "**If you prefer to use the Prompt Lab, and not a notebook, you can simply copy the prompts into the Prompt Lab UI**"
   ]
  },
  {
   "cell_type": "markdown",
   "metadata": {
    "pycharm": {
     "name": "#%% md\n"
    }
   },
   "source": [
    "<a id=\"setup\"></a>\n",
    "## Set up the environment\n",
    "\n",
    "Before you use the sample code in this notebook, you must perform the following setup tasks:\n",
    "\n",
    "-  Create a <a href=\"https://console.ng.bluemix.net/catalog/services/ibm-watson-machine-learning/\" target=\"_blank\" rel=\"noopener no referrer\">Watson Machine Learning (WML) Service</a> instance (a free plan is offered and information about how to create the instance can be found <a href=\"https://dataplatform.cloud.ibm.com/docs/content/wsj/analyze-data/ml-service-instance.html?context=analytics\" target=\"_blank\" rel=\"noopener no referrer\">here</a>)."
   ]
  },
  {
   "cell_type": "markdown",
   "metadata": {
    "pycharm": {
     "name": "#%% md\n"
    }
   },
   "source": [
    "### Install and import the `datasets` and dependecies"
   ]
  },
  {
   "cell_type": "code",
   "execution_count": 1,
   "metadata": {
    "pycharm": {
     "is_executing": true,
     "name": "#%%\n"
    }
   },
   "outputs": [
    {
     "name": "stdout",
     "output_type": "stream",
     "text": [
      "Requirement already satisfied: ibm-watson-machine-learning in /opt/conda/envs/Python-3.10/lib/python3.10/site-packages (1.0.320)\n",
      "Collecting ibm-watson-machine-learning\n",
      "  Downloading ibm_watson_machine_learning-1.0.326-py3-none-any.whl (1.7 MB)\n",
      "\u001b[2K     \u001b[90m━━━━━━━━━━━━━━━━━━━━━━━━━━━━━━━━━━━━━━━━\u001b[0m \u001b[32m1.7/1.7 MB\u001b[0m \u001b[31m47.6 MB/s\u001b[0m eta \u001b[36m0:00:00\u001b[0m00:01\u001b[0m\n",
      "\u001b[?25hRequirement already satisfied: pandas<1.6.0,>=0.24.2 in /opt/conda/envs/Python-3.10/lib/python3.10/site-packages (from ibm-watson-machine-learning) (1.4.3)\n",
      "Requirement already satisfied: importlib-metadata in /opt/conda/envs/Python-3.10/lib/python3.10/site-packages (from ibm-watson-machine-learning) (4.11.3)\n",
      "Requirement already satisfied: lomond in /opt/conda/envs/Python-3.10/lib/python3.10/site-packages (from ibm-watson-machine-learning) (0.3.3)\n",
      "Requirement already satisfied: certifi in /opt/conda/envs/Python-3.10/lib/python3.10/site-packages (from ibm-watson-machine-learning) (2023.7.22)\n",
      "Requirement already satisfied: urllib3 in /opt/conda/envs/Python-3.10/lib/python3.10/site-packages (from ibm-watson-machine-learning) (1.26.11)\n",
      "Requirement already satisfied: tabulate in /opt/conda/envs/Python-3.10/lib/python3.10/site-packages (from ibm-watson-machine-learning) (0.8.10)\n",
      "Requirement already satisfied: ibm-cos-sdk<2.14.0,>=2.12.0 in /opt/conda/envs/Python-3.10/lib/python3.10/site-packages (from ibm-watson-machine-learning) (2.12.0)\n",
      "Requirement already satisfied: requests in /opt/conda/envs/Python-3.10/lib/python3.10/site-packages (from ibm-watson-machine-learning) (2.31.0)\n",
      "Requirement already satisfied: packaging in /opt/conda/envs/Python-3.10/lib/python3.10/site-packages (from ibm-watson-machine-learning) (21.3)\n",
      "Requirement already satisfied: ibm-cos-sdk-s3transfer==2.12.0 in /opt/conda/envs/Python-3.10/lib/python3.10/site-packages (from ibm-cos-sdk<2.14.0,>=2.12.0->ibm-watson-machine-learning) (2.12.0)\n",
      "Requirement already satisfied: jmespath<1.0.0,>=0.10.0 in /opt/conda/envs/Python-3.10/lib/python3.10/site-packages (from ibm-cos-sdk<2.14.0,>=2.12.0->ibm-watson-machine-learning) (0.10.0)\n",
      "Requirement already satisfied: ibm-cos-sdk-core==2.12.0 in /opt/conda/envs/Python-3.10/lib/python3.10/site-packages (from ibm-cos-sdk<2.14.0,>=2.12.0->ibm-watson-machine-learning) (2.12.0)\n",
      "Requirement already satisfied: python-dateutil<3.0.0,>=2.8.2 in /opt/conda/envs/Python-3.10/lib/python3.10/site-packages (from ibm-cos-sdk-core==2.12.0->ibm-cos-sdk<2.14.0,>=2.12.0->ibm-watson-machine-learning) (2.8.2)\n",
      "Requirement already satisfied: pytz>=2020.1 in /opt/conda/envs/Python-3.10/lib/python3.10/site-packages (from pandas<1.6.0,>=0.24.2->ibm-watson-machine-learning) (2022.1)\n",
      "Requirement already satisfied: numpy>=1.21.0 in /opt/conda/envs/Python-3.10/lib/python3.10/site-packages (from pandas<1.6.0,>=0.24.2->ibm-watson-machine-learning) (1.23.1)\n",
      "Requirement already satisfied: idna<4,>=2.5 in /opt/conda/envs/Python-3.10/lib/python3.10/site-packages (from requests->ibm-watson-machine-learning) (3.3)\n",
      "Requirement already satisfied: charset-normalizer<4,>=2 in /opt/conda/envs/Python-3.10/lib/python3.10/site-packages (from requests->ibm-watson-machine-learning) (2.0.4)\n",
      "Requirement already satisfied: zipp>=0.5 in /opt/conda/envs/Python-3.10/lib/python3.10/site-packages (from importlib-metadata->ibm-watson-machine-learning) (3.8.0)\n",
      "Requirement already satisfied: six>=1.10.0 in /opt/conda/envs/Python-3.10/lib/python3.10/site-packages (from lomond->ibm-watson-machine-learning) (1.16.0)\n",
      "Requirement already satisfied: pyparsing!=3.0.5,>=2.0.2 in /opt/conda/envs/Python-3.10/lib/python3.10/site-packages (from packaging->ibm-watson-machine-learning) (3.0.9)\n",
      "Installing collected packages: ibm-watson-machine-learning\n",
      "  Attempting uninstall: ibm-watson-machine-learning\n",
      "    Found existing installation: ibm-watson-machine-learning 1.0.320\n",
      "    Uninstalling ibm-watson-machine-learning-1.0.320:\n",
      "      Successfully uninstalled ibm-watson-machine-learning-1.0.320\n",
      "Successfully installed ibm-watson-machine-learning-1.0.326\n"
     ]
    }
   ],
   "source": [
    "!pip install ibm-watson-machine-learning --upgrade"
   ]
  },
  {
   "cell_type": "markdown",
   "metadata": {
    "pycharm": {
     "name": "#%% md\n"
    }
   },
   "source": [
    "### Defining the WML credentials\n",
    "This cell defines the WML credentials required to work with watsonx Foundation Model inferencing.\n",
    "\n",
    "**Action:** Provide the IBM Cloud user API key. For details, see\n",
    "[documentation](https://cloud.ibm.com/docs/account?topic=account-userapikey&interface=ui)."
   ]
  },
  {
   "cell_type": "code",
   "execution_count": 2,
   "metadata": {
    "pycharm": {
     "name": "#%%\n"
    }
   },
   "outputs": [
    {
     "name": "stdout",
     "output_type": "stream",
     "text": [
      "Please enter your api key (hit enter): ········\n"
     ]
    }
   ],
   "source": [
    "from ibm_cloud_sdk_core import IAMTokenManager\n",
    "from ibm_cloud_sdk_core.authenticators import IAMAuthenticator, BearerTokenAuthenticator\n",
    "import os, getpass\n",
    "\n",
    "access_token = IAMTokenManager(\n",
    "    apikey = getpass.getpass(\"Please enter your api key (hit enter): \"),\n",
    "    url = \"https://iam.cloud.ibm.com/identity/token\"\n",
    ").get_token()\n"
   ]
  },
  {
   "cell_type": "markdown",
   "metadata": {
    "pycharm": {
     "name": "#%% md\n"
    }
   },
   "source": [
    "### Defining the project id\n",
    "The Foundation Model requires project id that provides the context for the call. We will obtain the id from the project in which this notebook runs. Otherwise, please provide the project id."
   ]
  },
  {
   "cell_type": "code",
   "execution_count": 4,
   "metadata": {
    "pycharm": {
     "name": "#%%\n"
    }
   },
   "outputs": [],
   "source": [
    "import os\n",
    "\n",
    "try:\n",
    "    project_id = os.environ[\"PROJECT_ID\"]\n",
    "except KeyError:\n",
    "    project_id = input(\"Please enter your project_id (hit enter): \")"
   ]
  },
  {
   "cell_type": "markdown",
   "metadata": {},
   "source": [
    "## Define the inference function\n",
    "In this section we define the inference function. \n",
    "Invocation parameters can be modified in the following cell"
   ]
  },
  {
   "cell_type": "code",
   "execution_count": 5,
   "metadata": {},
   "outputs": [],
   "source": [
    "import requests\n",
    "\n",
    "class Prompt:\n",
    "    def __init__(self, access_token, project_id):\n",
    "        self.access_token = access_token\n",
    "        self.project_id = project_id\n",
    "\n",
    "    def generate(self, input, model_id, parameters):\n",
    "        wml_url = \"https://us-south.ml.cloud.ibm.com/ml/v1-beta/generation/text?version=2023-05-28\"\n",
    "        Headers = {\n",
    "            \"Authorization\": \"Bearer \" + self.access_token,\n",
    "            \"Content-Type\": \"application/json\",\n",
    "            \"Accept\": \"application/json\"\n",
    "        }\n",
    "        data = {\n",
    "            \"model_id\": model_id,\n",
    "            \"input\": input,\n",
    "            \"parameters\": parameters,\n",
    "            \"project_id\": self.project_id\n",
    "        }\n",
    "        response = requests.post(wml_url, json=data, headers=Headers)\n",
    "        if response.status_code == 200:\n",
    "            return response.json()[\"results\"][0][\"generated_text\"]\n",
    "        else:\n",
    "            return response.text"
   ]
  },
  {
   "cell_type": "markdown",
   "metadata": {
    "pycharm": {
     "name": "#%% md\n"
    }
   },
   "source": [
    "#### List available models\n",
    "\n",
    "All avaliable models are presented under `ModelTypes` class."
   ]
  },
  {
   "cell_type": "code",
   "execution_count": 6,
   "metadata": {
    "pycharm": {
     "name": "#%%\n"
    }
   },
   "outputs": [
    {
     "name": "stdout",
     "output_type": "stream",
     "text": [
      "['FLAN_T5_XXL', 'FLAN_UL2', 'MT0_XXL', 'GPT_NEOX', 'MPT_7B_INSTRUCT2', 'STARCODER', 'LLAMA_2_70B_CHAT', 'GRANITE_13B_INSTRUCT', 'GRANITE_13B_CHAT']\n"
     ]
    }
   ],
   "source": [
    "from ibm_watson_machine_learning.foundation_models.utils.enums import ModelTypes\n",
    "from ibm_watson_machine_learning.metanames import GenTextParamsMetaNames as GenParams\n",
    "from ibm_watson_machine_learning.foundation_models.utils.enums import ModelTypes, DecodingMethods\n",
    "\n",
    "\n",
    "print([model.name for model in ModelTypes])"
   ]
  },
  {
   "cell_type": "markdown",
   "metadata": {},
   "source": [
    "**If you wish, change model parameters** (don't forget to rerun the cell)"
   ]
  },
  {
   "cell_type": "code",
   "execution_count": 7,
   "metadata": {},
   "outputs": [],
   "source": [
    "parameters = {\n",
    "    \"decoding_method\": \"greedy\",\n",
    "    \"max_new_tokens\": 300,\n",
    "    \"min_new_tokens\": 50,\n",
    "    \"stop_sequences\": [\".\"],\n",
    "    \"repetition_penalty\": 1\n",
    "}"
   ]
  },
  {
   "cell_type": "markdown",
   "metadata": {
    "pycharm": {
     "name": "#%% md\n"
    }
   },
   "source": [
    "**If you wish, change the model type for prompting** (don't forget to rerun the cell)"
   ]
  },
  {
   "cell_type": "code",
   "execution_count": 8,
   "metadata": {
    "pycharm": {
     "name": "#%%\n"
    }
   },
   "outputs": [],
   "source": [
    "model_id = \"meta-llama/llama-2-70b-chat\""
   ]
  },
  {
   "cell_type": "markdown",
   "metadata": {},
   "source": [
    "## Task 1: General summarization\n",
    "\n",
    "* Write a prompt to summarize the following customer feedback regarding their loan application experience. If needed, you can use prompt lab for experimentation and bring your final prompt to this notebook. \n",
    "\n",
    "* Bonus: The default model is `google/flan-ul2` but is it the best model for this task? Maybe? You can choose another model supported by watsonx.ai. Read the [WML docs](https://ibm.github.io/watson-machine-learning-sdk/index.html) and find the model parameter you need to switch to the model of your choice. Yes, it is an exercise about reading documentaion and python code:) Don't forget that you can adjust other model parameters such as decoding_method, max_new_tokens, min_new_tokens as well!\n",
    "\n",
    "* Customer feedback:\n",
    "\n",
    "I hope this message finds you well. I am writing to express my deep disappointment\n",
    "and frustration regarding my recent loan application experience with your institution.\n",
    "While I understand that creditworthiness plays a significant role in the approval\n",
    "process, I am troubled by the lack of communication and transparency throughout the\n",
    "entire journey.\n",
    "From the outset, I believed that I had a strong chance of securing the loan I applied for.\n",
    "However, to my surprise and dismay, my loan application was rejected due to my bad\n",
    "credit history. What troubles me most is that this crucial information was not\n",
    "communicated to me by you or any other member of your team. As an applicant, I had\n",
    "a right to be informed promptly about any setbacks or challenges that could potentially\n",
    "impact the outcome of my application.\n",
    "Had I been made aware of the issues with my credit, I could have taken immediate\n",
    "action to rectify the situation. I would have appreciated an open and honest discussion\n",
    "about the concerns surrounding my creditworthiness. Instead, I was left in the dark,\n",
    "unaware that my dreams of obtaining the loan were rapidly fading.\n",
    "Furthermore, the lack of transparency is not the only aspect of this experience that has\n",
    "left me disheartened. Throughout the application process, I provided all the required\n",
    "documentation promptly and diligently. I expected a level of professionalism that\n",
    "would include timely updates and proactive communication regarding the progress of\n",
    "my application. Regrettably, I found myself repeatedly following up for information,\n",
    "only to be met with vague responses and delayed replies.\n",
    "As a valued customer, I expected better treatment from your institution. The failure to\n",
    "inform me about the detrimental impact of my bad credit and the overall lack of\n",
    "communication have not only caused immense frustration but have also wasted\n",
    "valuable time and effort. I trusted your expertise and guidance throughout this\n",
    "process, only to be let down by the absence of effective communication channels.\n",
    "I believe that clear communication is the cornerstone of any successful business\n",
    "relationship. Had I received timely and accurate updates regarding my loan\n",
    "application, I would have been able to explore alternative options or address the credit\n",
    "concerns more proactively. Instead, I was left feeling deceived and abandoned.\n",
    "I sincerely hope that you will take this feedback seriously and reevaluate your internal\n",
    "procedures. Improving communication practices and ensuring transparency will not\n",
    "only enhance the customer experience but also promote trust and loyalty. As a\n",
    "prospective borrower, I genuinely believe in the value of constructive criticism and\n",
    "hope that my feedback will contribute to the improvement of your loan application\n",
    "process.\n",
    "Thank you for your attention to this matter. I trust that you will take the necessary\n",
    "steps to address these concerns and prevent such disappointments from happening in\n",
    "the future.\n",
    "\n",
    "\n",
    "* sample output:\n",
    "\n",
    "The customer expresses deep disappointment and frustration with the institution's lack of transparency and communication, particularly in regard to their bad credit history, which ultimately led to the rejection of their loan application, and they hope their feedback will lead to improved procedures and greater trust in the future.\n"
   ]
  },
  {
   "cell_type": "markdown",
   "metadata": {},
   "source": [
    "**Replace with your prompt**"
   ]
  },
  {
   "cell_type": "code",
   "execution_count": 9,
   "metadata": {},
   "outputs": [],
   "source": [
    "prompt_input = \"\"\"Summarize the customer feedback:\n",
    "\n",
    "Email:\n",
    "I hope this message finds you well. I am writing to express my deep disappointment\n",
    "and frustration regarding my recent loan application experience with your institution.\n",
    "While I understand that creditworthiness plays a significant role in the approval\n",
    "process, I am troubled by the lack of communication and transparency throughout the\n",
    "entire journey.\n",
    "From the outset, I believed that I had a strong chance of securing the loan I applied for.\n",
    "However, to my surprise and dismay, my loan application was rejected due to my bad\n",
    "credit history. What troubles me most is that this crucial information was not\n",
    "communicated to me by you or any other member of your team. As an applicant, I had\n",
    "a right to be informed promptly about any setbacks or challenges that could potentially\n",
    "impact the outcome of my application.\n",
    "Had I been made aware of the issues with my credit, I could have taken immediate\n",
    "action to rectify the situation. I would have appreciated an open and honest discussion\n",
    "about the concerns surrounding my creditworthiness. Instead, I was left in the dark,\n",
    "unaware that my dreams of obtaining the loan were rapidly fading.\n",
    "Furthermore, the lack of transparency is not the only aspect of this experience that has\n",
    "left me disheartened. Throughout the application process, I provided all the required\n",
    "documentation promptly and diligently. I expected a level of professionalism that\n",
    "would include timely updates and proactive communication regarding the progress of\n",
    "my application. Regrettably, I found myself repeatedly following up for information,\n",
    "only to be met with vague responses and delayed replies.\n",
    "As a valued customer, I expected better treatment from your institution. The failure to\n",
    "inform me about the detrimental impact of my bad credit and the overall lack of\n",
    "communication have not only caused immense frustration but have also wasted\n",
    "valuable time and effort. I trusted your expertise and guidance throughout this\n",
    "process, only to be let down by the absence of effective communication channels.\n",
    "I believe that clear communication is the cornerstone of any successful business\n",
    "relationship. Had I received timely and accurate updates regarding my loan\n",
    "application, I would have been able to explore alternative options or address the credit\n",
    "concerns more proactively. Instead, I was left feeling deceived and abandoned.\n",
    "I sincerely hope that you will take this feedback seriously and reevaluate your internal\n",
    "procedures. Improving communication practices and ensuring transparency will not\n",
    "only enhance the customer experience but also promote trust and loyalty. As a\n",
    "prospective borrower, I genuinely believe in the value of constructive criticism and\n",
    "hope that my feedback will contribute to the improvement of your loan application\n",
    "process.\n",
    "Thank you for your attention to this matter. I trust that you will take the necessary\n",
    "steps to address these concerns and prevent such disappointments from happening in\n",
    "the future.\n",
    "\n",
    "Summary: \"\"\""
   ]
  },
  {
   "cell_type": "code",
   "execution_count": 10,
   "metadata": {},
   "outputs": [
    {
     "data": {
      "text/plain": [
       "'\\nThe customer is unhappy with their recent loan application experience with the institution. They claim that there was a lack of communication and transparency throughout the process, particularly regarding their bad credit history, which ultimately led to their loan application being rejected.'"
      ]
     },
     "execution_count": 10,
     "metadata": {},
     "output_type": "execute_result"
    }
   ],
   "source": [
    "# Run the test\n",
    "prompt = Prompt(access_token, project_id)\n",
    "prompt.generate(prompt_input, model_id, parameters)"
   ]
  },
  {
   "cell_type": "markdown",
   "metadata": {},
   "source": [
    "## Task 2: Targeted summarization\n",
    "\n",
    "* Write a prompt that summarize both positive and negative aspects in the following customer feedback regarding their loan application experience.\n",
    "\n",
    "* Bonus: List the summary in bullet points.\n",
    "\n",
    "* Customer feedback you will work with:\n",
    "\n",
    "I started my loan process toward securing a VA loan. I was waiting for a a month and a\n",
    "couple weeks, then I was told that the VA needed to acquire my retirement points to\n",
    "verify my veteran status. If I knew this is what my loan was on hold for, I could have\n",
    "contacted the VA office right away and got this cleared up. For whatever reason, it took\n",
    "the underwriting department a long time to verify my employment status, even after I\n",
    "uploaded a couple years of my W2 forms from both of my jobs, and they had my Social\n",
    "Security number to further verify my employment status. My loan completion date was\n",
    "extended, because I wasn't made aware that they were waiting for my VA status to be\n",
    "approved. The push back for my mortgage is common for mortgage companies, but this\n",
    "caused my interest rate to go up. Then, the securing of a closing lawyer being made\n",
    "aware to me and the lawyer needing three days to get their end prepared for me to go\n",
    "to their office to sign the paperwork wasn't made aware to me. My loan missed the\n",
    "second closing date. For whatever reason, the locked in interest rate jumped up 5/8\n",
    "points. After making the banker I was working with aware of this, he didn't understand\n",
    "why the locked in interest rate jumped up either. He was nice enough to work on it and\n",
    "was able to get the interest rate down in 1/4 of a point, so my mortgage has an interest\n",
    "rate that is 3/8 of a point higher than my locked in interest rate in the beginning of this\n",
    "process. Although my interest rate is higher than the locked in interest point, at the\n",
    "end, the mortgage is successfully finished.\n",
    "\n",
    "* Sample output:\n",
    "\n",
    "```\n",
    "* Positive aspects:\n",
    "\t+ The banker was nice and helpful in resolving the issue with the interest rate.\n",
    "\t+ The loan was successfully finished despite the challenges.\n",
    "* Negative aspects:\n",
    "\t+ The loan process took longer than expected due to delays in verifying the customer's veteran status and employment status.\n",
    "\t+ The customer was not kept informed about the status of their loan and was not aware of the need for a closing lawyer.\n",
    "\t+ The interest rate increased by 5/8 of a point, resulting in a higher interest rate than the customer had locked in.\n",
    "\t+ The customer had to work with the banker to get the interest rate reduced by 1/4 of a point."
   ]
  },
  {
   "cell_type": "code",
   "execution_count": 11,
   "metadata": {},
   "outputs": [],
   "source": [
    "prompt_input = \"\"\"Summarize the following customer feedback and focus on both positive and negative aspects in bullet points. \n",
    "\n",
    "Email:\n",
    "I started my loan process toward securing a VA loan. I was waiting for a a month and a\n",
    "couple weeks, then I was told that the VA needed to acquire my retirement points to\n",
    "verify my veteran status. If I knew this is what my loan was on hold for, I could have\n",
    "contacted the VA office right away and got this cleared up. For whatever reason, it took\n",
    "the underwriting department a long time to verify my employment status, even after I\n",
    "uploaded a couple years of my W2 forms from both of my jobs, and they had my Social\n",
    "Security number to further verify my employment status. My loan completion date was\n",
    "extended, because I wasn't made aware that they were waiting for my VA status to be\n",
    "approved. The push back for my mortgage is common for mortgage companies, but this\n",
    "caused my interest rate to go up. Then, the securing of a closing lawyer being made\n",
    "aware to me and the lawyer needing three days to get their end prepared for me to go\n",
    "to their office to sign the paperwork wasn't made aware to me. My loan missed the\n",
    "second closing date. For whatever reason, the locked in interest rate jumped up 5/8\n",
    "points. After making the banker I was working with aware of this, he didn't understand\n",
    "why the locked in interest rate jumped up either. He was nice enough to work on it and\n",
    "was able to get the interest rate down in 1/4 of a point, so my mortgage has an interest\n",
    "rate that is 3/8 of a point higher than my locked in interest rate in the beginning of this\n",
    "process. Although my interest rate is higher than the locked in interest point, at the\n",
    "end, the mortgage is successfully finished.\n",
    "\n",
    "Summary: \"\"\""
   ]
  },
  {
   "cell_type": "code",
   "execution_count": 12,
   "metadata": {},
   "outputs": [
    {
     "data": {
      "text/plain": [
       "'\\n\\n* Positive aspects:\\n\\t+ The customer was able to secure a VA loan.\\n\\t+ The banker was nice and helpful in resolving the issue with the interest rate.\\n\\t+ The mortgage was successfully finished.'"
      ]
     },
     "execution_count": 12,
     "metadata": {},
     "output_type": "execute_result"
    }
   ],
   "source": [
    "# Run the test\n",
    "prompt = Prompt(access_token, project_id)\n",
    "prompt.generate(prompt_input, model_id, parameters)"
   ]
  },
  {
   "cell_type": "markdown",
   "metadata": {},
   "source": [
    "## Task 3: Targeted summarization focusing interest rate\n",
    "\n",
    "* You will be working with the same customer feedback from Task 2. But this time you will write a prompt that generates a summary focusing on **interest rate**.\n",
    "\n",
    "\n",
    "* Customer feedback you will work with:\n",
    "\n",
    "I started my loan process toward securing a VA loan. I was waiting for a a month and a\n",
    "couple weeks, then I was told that the VA needed to acquire my retirement points to\n",
    "verify my veteran status. If I knew this is what my loan was on hold for, I could have\n",
    "contacted the VA office right away and got this cleared up. For whatever reason, it took\n",
    "the underwriting department a long time to verify my employment status, even after I\n",
    "uploaded a couple years of my W2 forms from both of my jobs, and they had my Social\n",
    "Security number to further verify my employment status. My loan completion date was\n",
    "extended, because I wasn't made aware that they were waiting for my VA status to be\n",
    "approved. The push back for my mortgage is common for mortgage companies, but this\n",
    "caused my interest rate to go up. Then, the securing of a closing lawyer being made\n",
    "aware to me and the lawyer needing three days to get their end prepared for me to go\n",
    "to their office to sign the paperwork wasn't made aware to me. My loan missed the\n",
    "second closing date. For whatever reason, the locked in interest rate jumped up 5/8\n",
    "points. After making the banker I was working with aware of this, he didn't understand\n",
    "why the locked in interest rate jumped up either. He was nice enough to work on it and\n",
    "was able to get the interest rate down in 1/4 of a point, so my mortgage has an interest\n",
    "rate that is 3/8 of a point higher than my locked in interest rate in the beginning of this\n",
    "process. Although my interest rate is higher than the locked in interest point, at the\n",
    "end, the mortgage is successfully finished.\n",
    "\n",
    "* Sample output (Note: your output may vary)\n",
    "\n",
    "```\n",
    "The customer experienced multiple delays in the loan process, which ultimately caused the locked-in interest rate to increase by 5/8 points. However, after raising the issue, the banker managed to reduce it by 1/4 of a point, resulting in a final interest rate that was 3/8 of a point higher than the initial agreement, but the mortgage was successfully completed.\n",
    "```\n"
   ]
  },
  {
   "cell_type": "code",
   "execution_count": 13,
   "metadata": {},
   "outputs": [],
   "source": [
    "prompt_input = \"\"\"Summarize what happened to the interest rate from the customer feedback.\n",
    "\n",
    "Customer feedback:\n",
    "\n",
    "I started my loan process toward securing a VA loan. I was waiting for a a month and a\n",
    "couple weeks, then I was told that the VA needed to acquire my retirement points to\n",
    "verify my veteran status. If I knew this is what my loan was on hold for, I could have\n",
    "contacted the VA office right away and got this cleared up. For whatever reason, it took\n",
    "the underwriting department a long time to verify my employment status, even after I\n",
    "uploaded a couple years of my W2 forms from both of my jobs, and they had my Social\n",
    "Security number to further verify my employment status. My loan completion date was\n",
    "extended, because I wasn't made aware that they were waiting for my VA status to be\n",
    "approved. The push back for my mortgage is common for mortgage companies, but this\n",
    "caused my interest rate to go up. Then, the securing of a closing lawyer being made\n",
    "aware to me and the lawyer needing three days to get their end prepared for me to go\n",
    "to their office to sign the paperwork wasn't made aware to me. My loan missed the\n",
    "second closing date. For whatever reason, the locked in interest rate jumped up 5/8\n",
    "points. After making the banker I was working with aware of this, he didn't understand\n",
    "why the locked in interest rate jumped up either. He was nice enough to work on it and\n",
    "was able to get the interest rate down in 1/4 of a point, so my mortgage has an interest\n",
    "rate that is 3/8 of a point higher than my locked in interest rate in the beginning of this\n",
    "process. Although my interest rate is higher than the locked in interest point, at the\n",
    "end, the mortgage is successfully finished.\n",
    "\n",
    "Summary:\"\"\""
   ]
  },
  {
   "cell_type": "code",
   "execution_count": 14,
   "metadata": {},
   "outputs": [
    {
     "data": {
      "text/plain": [
       "\"\\n\\nThe customer's interest rate increased by 5/8 points due to delays in the loan process, specifically in the underwriting department, and the customer was not made aware of the delay in securing a closing lawyer. The banker was able to lower the interest rate by 1/4 of a point, resulting in a final interest rate that is 3/8 of a point higher than the original locked-in rate.\""
      ]
     },
     "execution_count": 14,
     "metadata": {},
     "output_type": "execute_result"
    }
   ],
   "source": [
    "# Run the test\n",
    "prompt = Prompt(access_token, project_id)\n",
    "prompt.generate(prompt_input, model_id, parameters)"
   ]
  },
  {
   "cell_type": "markdown",
   "metadata": {},
   "source": [
    "## Task 4: Sentiment Analysis\n",
    "\n",
    "* Use an IBM model and write a prompt to return the sentiment (positive or negative) of the following reviews:\n",
    "\n",
    "**Customer feedback 1:**\n",
    "\n",
    "I started my loan process toward securing a VA loan. I was waiting for a a month and a\n",
    "couple weeks, then I was told that the VA needed to acquire my retirement points to\n",
    "verify my veteran status. If I knew this is what my loan was on hold for, I could have\n",
    "contacted the VA office right away and got this cleared up. For whatever reason, it took\n",
    "the underwriting department a long time to verify my employment status, even after I\n",
    "uploaded a couple years of my W2 forms from both of my jobs, and they had my Social\n",
    "Security number to further verify my employment status. My loan completion date was\n",
    "extended, because I wasn't made aware that they were waiting for my VA status to be\n",
    "approved. The push back for my mortgage is common for mortgage companies, but this\n",
    "caused my interest rate to go up. Then, the securing of a closing lawyer being made\n",
    "aware to me and the lawyer needing three days to get their end prepared for me to go\n",
    "to their office to sign the paperwork wasn't made aware to me. My loan missed the\n",
    "second closing date. For whatever reason, the locked in interest rate jumped up 5/8\n",
    "points. After making the banker I was working with aware of this, he didn't understand\n",
    "why the locked in interest rate jumped up either. He was nice enough to work on it and\n",
    "was able to get the interest rate down in 1/4 of a point, so my mortgage has an interest\n",
    "rate that is 3/8 of a point higher than my locked in interest rate in the beginning of this\n",
    "process. Although my interest rate is higher than the locked in interest point, at the\n",
    "end, the mortgage is successfully finished.\n",
    "\n",
    "**Customer Feedback 2:**\n",
    "\n",
    "I hope this message finds you well. I am writing to express my deep disappointment\n",
    "and frustration regarding my recent loan application experience with your institution.\n",
    "While I understand that creditworthiness plays a significant role in the approval\n",
    "process, I am troubled by the lack of communication and transparency throughout the\n",
    "entire journey.\n",
    "From the outset, I believed that I had a strong chance of securing the loan I applied for.\n",
    "However, to my surprise and dismay, my loan application was rejected due to my bad\n",
    "credit history. What troubles me most is that this crucial information was not\n",
    "communicated to me by you or any other member of your team. As an applicant, I had\n",
    "a right to be informed promptly about any setbacks or challenges that could potentially\n",
    "impact the outcome of my application.\n",
    "Had I been made aware of the issues with my credit, I could have taken immediate\n",
    "action to rectify the situation. I would have appreciated an open and honest discussion\n",
    "about the concerns surrounding my creditworthiness. Instead, I was left in the dark,\n",
    "unaware that my dreams of obtaining the loan were rapidly fading.\n",
    "Furthermore, the lack of transparency is not the only aspect of this experience that has\n",
    "left me disheartened. Throughout the application process, I provided all the required\n",
    "documentation promptly and diligently. I expected a level of professionalism that\n",
    "would include timely updates and proactive communication regarding the progress of\n",
    "my application. Regrettably, I found myself repeatedly following up for information,\n",
    "only to be met with vague responses and delayed replies.\n",
    "As a valued customer, I expected better treatment from your institution. The failure to\n",
    "inform me about the detrimental impact of my bad credit and the overall lack of\n",
    "communication have not only caused immense frustration but have also wasted\n",
    "valuable time and effort. I trusted your expertise and guidance throughout this\n",
    "process, only to be let down by the absence of effective communication channels.\n",
    "I believe that clear communication is the cornerstone of any successful business\n",
    "relationship. Had I received timely and accurate updates regarding my loan\n",
    "application, I would have been able to explore alternative options or address the credit\n",
    "concerns more proactively. Instead, I was left feeling deceived and abandoned.\n",
    "I sincerely hope that you will take this feedback seriously and reevaluate your internal\n",
    "procedures. Improving communication practices and ensuring transparency will not\n",
    "only enhance the customer experience but also promote trust and loyalty. As a\n",
    "prospective borrower, I genuinely believe in the value of constructive criticism and\n",
    "hope that my feedback will contribute to the improvement of your loan application\n",
    "process.\n",
    "\n",
    "Thank you for your attention to this matter. I trust that you will take the necessary\n",
    "steps to address these concerns and prevent such disappointments from happening in\n",
    "the future.\n",
    "\n",
    "**Customer feedback 3:**\n",
    "\n",
    "I recently went through the home loan process, and I must say it was a smooth and\n",
    "efficient experience. From the initial application to the final closing, the loan officer\n",
    "guided me every step of the way, ensuring all my questions were answered. The\n",
    "communication was excellent, with timely updates on the progress of my loan. The\n",
    "team was highly professional and dedicated to getting me the best possible terms.\n",
    "They worked diligently to secure a competitive interest rate, and the loan was\n",
    "completed within the expected timeframe. I am extremely satisfied with the service\n",
    "provided and would highly recommend their home loan services to anyone in need of\n",
    "financing.\n",
    "\n",
    "* Expected output:\n",
    "```\n",
    "Negative\n",
    "negative\n",
    "positive\n",
    "```\n",
    "\n"
   ]
  },
  {
   "cell_type": "code",
   "execution_count": 20,
   "metadata": {},
   "outputs": [],
   "source": [
    "reviews = f\"\"\"\n",
    "    \n",
    "Review 1: I started my loan process toward securing a VA loan. I was waiting for a a month and a\n",
    "couple weeks, then I was told that the VA needed to acquire my retirement points to\n",
    "verify my veteran status. If I knew this is what my loan was on hold for, I could have\n",
    "contacted the VA office right away and got this cleared up. For whatever reason, it took\n",
    "the underwriting department a long time to verify my employment status, even after I\n",
    "uploaded a couple years of my W2 forms from both of my jobs, and they had my Social\n",
    "Security number to further verify my employment status. My loan completion date was\n",
    "extended, because I wasn't made aware that they were waiting for my VA status to be\n",
    "approved. The push back for my mortgage is common for mortgage companies, but this\n",
    "caused my interest rate to go up. Then, the securing of a closing lawyer being made\n",
    "aware to me and the lawyer needing three days to get their end prepared for me to go\n",
    "to their office to sign the paperwork wasn't made aware to me. My loan missed the\n",
    "second closing date. For whatever reason, the locked in interest rate jumped up 5/8\n",
    "points. After making the banker I was working with aware of this, he didn't understand\n",
    "why the locked in interest rate jumped up either. He was nice enough to work on it and\n",
    "was able to get the interest rate down in 1/4 of a point, so my mortgage has an interest\n",
    "rate that is 3/8 of a point higher than my locked in interest rate in the beginning of this\n",
    "process. Although my interest rate is higher than the locked in interest point, at the\n",
    "end, the mortgage is successfully finished.\n",
    "\n",
    "Review 2: I hope this message finds you well. I am writing to express my deep disappointment\n",
    "and frustration regarding my recent loan application experience with your institution.\n",
    "While I understand that creditworthiness plays a significant role in the approval\n",
    "process, I am troubled by the lack of communication and transparency throughout the\n",
    "entire journey.\n",
    "From the outset, I believed that I had a strong chance of securing the loan I applied for.\n",
    "However, to my surprise and dismay, my loan application was rejected due to my bad\n",
    "credit history. What troubles me most is that this crucial information was not\n",
    "communicated to me by you or any other member of your team. As an applicant, I had\n",
    "a right to be informed promptly about any setbacks or challenges that could potentially\n",
    "impact the outcome of my application.\n",
    "Had I been made aware of the issues with my credit, I could have taken immediate\n",
    "action to rectify the situation. I would have appreciated an open and honest discussion\n",
    "about the concerns surrounding my creditworthiness. Instead, I was left in the dark,\n",
    "unaware that my dreams of obtaining the loan were rapidly fading.\n",
    "Furthermore, the lack of transparency is not the only aspect of this experience that has\n",
    "left me disheartened. Throughout the application process, I provided all the required\n",
    "documentation promptly and diligently. I expected a level of professionalism that\n",
    "would include timely updates and proactive communication regarding the progress of\n",
    "my application. Regrettably, I found myself repeatedly following up for information,\n",
    "only to be met with vague responses and delayed replies.\n",
    "As a valued customer, I expected better treatment from your institution. The failure to\n",
    "inform me about the detrimental impact of my bad credit and the overall lack of\n",
    "communication have not only caused immense frustration but have also wasted\n",
    "valuable time and effort. I trusted your expertise and guidance throughout this\n",
    "process, only to be let down by the absence of effective communication channels.\n",
    "I believe that clear communication is the cornerstone of any successful business\n",
    "relationship. Had I received timely and accurate updates regarding my loan\n",
    "application, I would have been able to explore alternative options or address the credit\n",
    "concerns more proactively. Instead, I was left feeling deceived and abandoned.\n",
    "I sincerely hope that you will take this feedback seriously and reevaluate your internal\n",
    "procedures. Improving communication practices and ensuring transparency will not\n",
    "only enhance the customer experience but also promote trust and loyalty. As a\n",
    "prospective borrower, I genuinely believe in the value of constructive criticism and\n",
    "hope that my feedback will contribute to the improvement of your loan application\n",
    "process. Thank you for your attention to this matter. I trust that you will take the necessary\n",
    "steps to address these concerns and prevent such disappointments from happening in\n",
    "the future.\n",
    "\n",
    "Review 3: I recently went through the home loan process, and I must say it was a smooth and\n",
    "efficient experience. From the initial application to the final closing, the loan officer\n",
    "guided me every step of the way, ensuring all my questions were answered. The\n",
    "communication was excellent, with timely updates on the progress of my loan. The\n",
    "team was highly professional and dedicated to getting me the best possible terms.\n",
    "They worked diligently to secure a competitive interest rate, and the loan was\n",
    "completed within the expected timeframe. I am extremely satisfied with the service\n",
    "provided and would highly recommend their home loan services to anyone in need of\n",
    "financing.\"\"\"\n",
    "\n",
    "\n",
    "prompt_input = f\"\"\"Classify sentiment for Review 1, Review 2, and Review 3 to positive or negative. Provide output in this format: Review 1: sentiment, Review 2: sentiment.\n",
    "\n",
    "                Reviews:\n",
    "                {reviews}\n",
    "    \n",
    "                Sentiment:\n",
    "                \"\"\"\n"
   ]
  },
  {
   "cell_type": "code",
   "execution_count": 21,
   "metadata": {},
   "outputs": [
    {
     "data": {
      "text/plain": [
       "'\\nReview 1: Negative\\nReview 2: Negative\\nReview 3: Positive\\n\\nThe sentiment of Review 1 is negative because the reviewer expresses frustration with the loan process, specifically with the lack of communication and transparency from the lender.'"
      ]
     },
     "execution_count": 21,
     "metadata": {},
     "output_type": "execute_result"
    }
   ],
   "source": [
    "# Run the test\n",
    "prompt = Prompt(access_token, project_id)\n",
    "prompt.generate(prompt_input, model_id, parameters)"
   ]
  },
  {
   "cell_type": "markdown",
   "metadata": {},
   "source": [
    "## Task 5: Named entity Extraction\n",
    "\n",
    "* Please use an IBM model for this task and write a prompt to extract details about the insured vehicle from the auto insturance claim report below. The expected output should in JSON format that looks like this:\n",
    "```\n",
    "{\n",
    "    \"Car Make and Model\": \"Tesla Model S\",\n",
    "    \"Location\": \"Astor Place, New York\",\n",
    "    \"Date\": \"April 15th, 2023\",\n",
    "    \"Time\": \"Not Found\"\n",
    "}\n",
    "\n",
    "```\n",
    "\n",
    "* Customer feedback you will work with:\n",
    "\n",
    "The insured vehicle, a Tesla Model S, was parked outside on Astor Place, New York on April 15th, 2023 when an unexpected and violent hailstorm struck the area.\\n Hailstones of varying sizes, ranging from small pellets to large golf balls, rained down on the vehicle with relentless force. The impact of the hailstones caused extensive damage to the exterior of the vehicle, leaving behind a multitude of dents and dings on the roof, hood, trunk, and all sides.\\n The hailstones were so powerful that they shattered the windshield and side windows, resulting in shattered glass fragments scattered throughout the interior of the vehicle. The insured immediately contacted their insurance company to report the incident and initiated the claims process.\\n Recognizing the severity of the damage, the insurance company promptly dispatched an experienced auto appraiser to assess the extent of the hail damage.\\nThe appraiser meticulously inspected the vehicle, documenting each dent, ding, and broken window. Based on their assessment, the appraiser estimated the cost of repairs, taking into account the need for paintless dent removal, panel replacements, windshield replacement, and window repairs. With the appraisal report in hand, the insured is now filing a comprehensive claim for the necessary repairs.\\n Along with the report, the insured is submitting detailed photographs of the damaged vehicle from multiple angles, capturing the extent of the hail damage.\\nThe insured understands the importance of providing compelling evidence to support their claim and has meticulously documented the damage. They are also including any additional information or documentation requested by the insurance company. The insured is eagerly awaiting the outcome of their claim, hopeful that the insurance company will process it promptly.\\nThey recognize that the repairs required to restore their beloved Tesla Model S to its pre-hailstorm condition will be extensive and costly. However, they have confidence in the insurance company's commitment to providing the necessary coverage and support. Their ultimate goal is to see their vehicle restored to its original beauty and performance, ready to hit the road once again, unaffected by the devastating hailstorm.\n",
    "\n",
    "* <span style=\"color:red\">Hint: You can try few-shot prompting using sample customer feedback in the sample_insurance_claims.txt file. If you did not download the whole repo for the lab, you can find it [here](https://ibm.box.com/s/sj4cxdu05bv9onyxzl43ye0w8vd4xhmk)</span>.\n"
   ]
  },
  {
   "cell_type": "code",
   "execution_count": 25,
   "metadata": {},
   "outputs": [],
   "source": [
    "prompt_input = \"\"\"Extract car make and model, location, date and time from the insurance claim description below.  If you don't find these details in the description, please fill it as Not Found. Format the output in JSON format.\n",
    "\n",
    "Insurance claim description: \n",
    "A car accident occurred on Jan 1st, 2023 at 5pm at the intersection of woodbridge. The insured vehicle, a Honda Civic, was hit by another vehicle that ran a red light. The insured driver, John, was driving within the speed limit and following all traffic rules. The accident resulted in significant damage to the insured vehicle, including a broken bumper and damaged front fender. There were no injuries reported. The insured is filing a claim for the repairs and any necessary medical expenses. \n",
    "\n",
    "Output:\n",
    "{Car make and model: Honda Civic; Location: Woodbridge; Date: Jan 1st, 2023; Time: 5pm}\n",
    "\n",
    "Insurance claim description: \n",
    "The insured vehicle, a Ford RAM, was stolen from Boston on Dec 2nd 2022. The vehicle was parked in a secure parking lot, and all necessary precautions were taken, such as locking the doors and activating the alarm system. The insured immediately reported the theft to the police and obtained a police report. The vehicle had comprehensive insurance coverage, and the insured is filing a claim for the stolen vehicle, including its estimated value, accessories, and personal belongings that were inside the vehicle at the time of theft. \n",
    "\n",
    "Output:\n",
    "{Car make and model: Ford RAM; Location: Boston; Date: Dec 2nd 2022; Time: Not Found}\n",
    "\n",
    "Insurance claim description: \n",
    "The insured vehicle, a Tesla model X, was vandalized on march 23rd while parked in front of the insured's residence on Magador Street. The vandalism included scratched paint, broken windows, and damage to the side mirrors. The insured promptly reported the incident to the police and obtained a police report. The insured is filing a claim for the repairs and any necessary replacement parts. The estimated cost of repairs has been assessed by a reputable auto repair shop. \n",
    "\n",
    "Output:\n",
    "{Car make and model: Tesla Model X; Location: Magador Street; Date: march 23rd; Time: Not Found}\n",
    "\n",
    "Insurance claim description: \n",
    "The insured vehicle, a Tesla Model S, was parked outside on Astor Place, New York on April 15th, 2023 when an unexpected and violent hailstorm struck the area.\\n Hailstones of varying sizes, ranging from small pellets to large golf balls, rained down on the vehicle with relentless force. The impact of the hailstones caused extensive damage to the exterior of the vehicle, leaving behind a multitude of dents and dings on the roof, hood, trunk, and all sides.\\n The hailstones were so powerful that they shattered the windshield and side windows, resulting in shattered glass fragments scattered throughout the interior of the vehicle. The insured immediately contacted their insurance company to report the incident and initiated the claims process.\\n Recognizing the severity of the damage, the insurance company promptly dispatched an experienced auto appraiser to assess the extent of the hail damage.\\nThe appraiser meticulously inspected the vehicle, documenting each dent, ding, and broken window. Based on their assessment, the appraiser estimated the cost of repairs, taking into account the need for paintless dent removal, panel replacements, windshield replacement, and window repairs. With the appraisal report in hand, the insured is now filing a comprehensive claim for the necessary repairs.\\n Along with the report, the insured is submitting detailed photographs of the damaged vehicle from multiple angles, capturing the extent of the hail damage.\\nThe insured understands the importance of providing compelling evidence to support their claim and has meticulously documented the damage. They are also including any additional information or documentation requested by the insurance company. The insured is eagerly awaiting the outcome of their claim, hopeful that the insurance company will process it promptly.\\nThey recognize that the repairs required to restore their beloved Tesla Model S to its pre-hailstorm condition will be extensive and costly. However, they have confidence in the insurance company's commitment to providing the necessary coverage and support. Their ultimate goal is to see their vehicle restored to its original beauty and performance, ready to hit the road once again, unaffected by the devastating hailstorm.\n",
    "\n",
    "Output:\n",
    "\"\"\""
   ]
  },
  {
   "cell_type": "code",
   "execution_count": 26,
   "metadata": {},
   "outputs": [
    {
     "data": {
      "text/plain": [
       "'{Car make and model: Tesla Model S; Location: Astor Place, New York; Date: April 15th, 2023; Time: Not Found}\\n\\nInsurance claim description: \\nThe insured vehicle, a Toyota Camry, was involved in a hit-and-run accident on June 12th, 2023, at 10:30 am.'"
      ]
     },
     "execution_count": 26,
     "metadata": {},
     "output_type": "execute_result"
    }
   ],
   "source": [
    "# Run the test\n",
    "prompt = Prompt(access_token, project_id)\n",
    "prompt.generate(prompt_input, model_id, parameters)"
   ]
  },
  {
   "cell_type": "markdown",
   "metadata": {},
   "source": [
    "## Task 6: Question and Answering\n",
    "\n",
    "* Write a prompt to get the model to answer a question based on the following Exclusions section from an auto insurance policy. \n",
    "\n",
    "```\n",
    "The Insurance Company will not pay for any damages an insured\n",
    "person is legally obligated to pay because of:\n",
    "\n",
    "1. bodily injury or property damage arising out of\n",
    "the use of your insured auto while used to carry\n",
    "persons or property for a charge, or any auto\n",
    "you are driving while available for hire by the\n",
    "public to the extent that the limits of liability for\n",
    "this coverage exceed the limits of liability\n",
    "required by the Nevada financial responsibility\n",
    "law. This exclusion does not apply to shared\n",
    "expense car pools.\n",
    "\n",
    "2. bodily injury or property damage arising out of\n",
    "the use of a non-owned auto in any business or\n",
    "occupation of an insured person to the extent\n",
    "that the limits of liability for this coverage exceed\n",
    "the limits of liability required by the Nevada\n",
    "financial responsibility law. However, this\n",
    "exclusion does not apply while you, your\n",
    "chauffeur, or domestic servant are using a\n",
    "private passenger auto or trailer.\n",
    "\n",
    "3. bodily injury to an employee of any insured\n",
    "person arising in the course of employment.\n",
    "This exclusion does not apply to your domestic employee \n",
    "who is not required to be covered by\n",
    "a workers compensation law or similar law.\n",
    "\n",
    "4. bodily injury to a co-worker injured in the\n",
    "course of employment. This exclusion does not\n",
    "apply to you.\n",
    "\n",
    "5. bodily injury to you or any resident of your\n",
    "household related to you by blood, marriage, or\n",
    "adoption to the extent that the limits of liability\n",
    "for this coverage exceed the limits of liability\n",
    "required by the Nevada financial responsibility\n",
    "law.\n",
    "\n",
    "6. damage to or destruction of property an insured\n",
    "person owns, transports, is in charge of, or\n",
    "rents. However, a private residence or a garage\n",
    "rented by that person is covered.\n",
    "\n",
    "7. bodily injury or property damage which may\n",
    "reasonably be expected to result from the\n",
    "intentional acts of an insured person or which\n",
    "are in fact intended by an insured person to the\n",
    "extent that the limits of liability for this coverage\n",
    "exceed the limits of liability required by the\n",
    "Nevada financial responsibility law.\n",
    "\n",
    "8. bodily injury or property damage which would\n",
    "also be covered under nuclear energy liability\n",
    "insurance to the extent that the limits of liability\n",
    "for this coverage exceed the limits of liability\n",
    "required by the Nevada financial responsibility\n",
    "law. This applies even if the limits of that\n",
    "insurance are exhausted.\n",
    "```\n",
    "* You can come up with your own questions, here are some examples:\n",
    "```\n",
    "- Will this policy cover me if I use my personal vehicle for business purposes?\n",
    "- Does this policy cover me if I get into an accident while driving for a ride-sharing company?\n",
    "- Does this policy cover injuries to my family members?\n",
    "```"
   ]
  },
  {
   "cell_type": "code",
   "execution_count": 27,
   "metadata": {},
   "outputs": [],
   "source": [
    "context = \"\"\"\n",
    "Insurance Company will not pay for any damages an insured\n",
    "person is legally obligated to pay because of:\n",
    "\n",
    "1. bodily injury or property damage arising out of\n",
    "the use of your insured auto while used to carry\n",
    "persons or property for a charge, or any auto\n",
    "you are driving while available for hire by the\n",
    "public to the extent that the limits of liability for\n",
    "this coverage exceed the limits of liability\n",
    "required by the Nevada financial responsibility\n",
    "law. This exclusion does not apply to shared\n",
    "expense car pools.\n",
    "\n",
    "2. bodily injury or property damage arising out of\n",
    "the use of a non-owned auto in any business or\n",
    "occupation of an insured person to the extent\n",
    "that the limits of liability for this coverage exceed\n",
    "the limits of liability required by the Nevada\n",
    "financial responsibility law. However, this\n",
    "exclusion does not apply while you, your\n",
    "chauffeur, or domestic servant are using a\n",
    "private passenger auto or trailer.\n",
    "\n",
    "3. bodily injury to an employee of any insured\n",
    "person arising in the course of employment.\n",
    "This exclusion does not apply to your domestic employee who is not required to be covered by\n",
    "a workers compensation law or similar law.\n",
    "\n",
    "4. bodily injury to a co-worker injured in the\n",
    "course of employment. This exclusion does not\n",
    "apply to you.\n",
    "\n",
    "5. bodily injury to you or any resident of your\n",
    "household related to you by blood, marriage, or\n",
    "adoption to the extent that the limits of liability\n",
    "for this coverage exceed the limits of liability\n",
    "required by the Nevada financial responsibility\n",
    "law.\n",
    "\n",
    "6. damage to or destruction of property an insured\n",
    "person owns, transports, is in charge of, or\n",
    "rents. However, a private residence or a garage\n",
    "rented by that person is covered.\n",
    "\n",
    "7. bodily injury or property damage which may\n",
    "reasonably be expected to result from the\n",
    "intentional acts of an insured person or which\n",
    "are in fact intended by an insured person to the\n",
    "extent that the limits of liability for this coverage\n",
    "exceed the limits of liability required by the\n",
    "Nevada financial responsibility law.\n",
    "\n",
    "8. bodily injury or property damage which would\n",
    "also be covered under nuclear energy liability\n",
    "insurance to the extent that the limits of liability\n",
    "for this coverage exceed the limits of liability\n",
    "required by the Nevada financial responsibility\n",
    "law. This applies even if the limits of that\n",
    "insurance are exhausted.\"\"\"\n",
    "\n",
    "quesiton = \"Does this policy cover injuries to my family members?\"\n",
    "\n",
    "# Note: the <<SYS>> format is specific to llama model\n",
    "\n",
    "prompt_input = f\"\"\"<<SYS>>\n",
    "Context information is below.\n",
    "------------------------------\n",
    "{context}\n",
    "------------------------------\n",
    "\n",
    "Given the context information answer the following question (if you don't know the answer, use the best of your knowledge) \n",
    "\n",
    "<<SYS>>\n",
    "\n",
    "[INST]{quesiton}[/INST]\n",
    "\"\"\""
   ]
  },
  {
   "cell_type": "code",
   "execution_count": 28,
   "metadata": {},
   "outputs": [
    {
     "data": {
      "text/plain": [
       "'\\nBased on the context information provided, the policy excludes coverage for bodily injury to you or any resident of your household related to you by blood, marriage, or adoption to the extent that the limits of liability for this coverage exceed the limits of liability required by the Nevada financial responsibility law.'"
      ]
     },
     "execution_count": 28,
     "metadata": {},
     "output_type": "execute_result"
    }
   ],
   "source": [
    "# Run the test\n",
    "prompt = Prompt(access_token, project_id)\n",
    "prompt.generate(prompt_input, model_id, parameters)"
   ]
  },
  {
   "cell_type": "markdown",
   "metadata": {
    "pycharm": {
     "name": "#%% md\n"
    }
   },
   "source": [
    "### Authors: \n",
    " **Catherine Cao and Elena Lowery"
   ]
  }
 ],
 "metadata": {
  "kernelspec": {
   "display_name": "Python 3.10",
   "language": "python",
   "name": "python3"
  },
  "language_info": {
   "codemirror_mode": {
    "name": "ipython",
    "version": 3
   },
   "file_extension": ".py",
   "mimetype": "text/x-python",
   "name": "python",
   "nbconvert_exporter": "python",
   "pygments_lexer": "ipython3",
   "version": "3.10.12"
  }
 },
 "nbformat": 4,
 "nbformat_minor": 2
}
