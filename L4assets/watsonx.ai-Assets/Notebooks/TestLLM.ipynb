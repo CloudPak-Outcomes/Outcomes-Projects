{
 "cells": [
  {
   "cell_type": "markdown",
   "metadata": {},
   "source": [
    "# Test LLM Inference\n",
    "This notebook can be used to test inference of LLM models deployed in watsonx.ai. It uses the Watson Machine Learning API. You can find more information about the API [here](https://dataplatform.cloud.ibm.com/docs/content/wsj/analyze-data/fm-python-lib.html?context=wx&audience=wdp)"
   ]
  },
  {
   "cell_type": "markdown",
   "metadata": {},
   "source": [
    "## Get the token\n",
    "Run this cell and enter the token when prompted. For more information, see [documentation](https://cloud.ibm.com/docs/account?topic=account-userapikey&interface=ui#create_user_key)"
   ]
  },
  {
   "cell_type": "code",
   "execution_count": null,
   "metadata": {},
   "outputs": [],
   "source": [
    "from ibm_cloud_sdk_core import IAMTokenManager\n",
    "from ibm_cloud_sdk_core.authenticators import IAMAuthenticator, BearerTokenAuthenticator\n",
    "import os, getpass\n",
    "\n",
    "access_token = IAMTokenManager(\n",
    "    apikey = getpass.getpass(\"Please enter your api key (hit enter): \"),\n",
    "    url = \"https://iam.cloud.ibm.com/identity/token\"\n",
    ").get_token()"
   ]
  },
  {
   "cell_type": "markdown",
   "metadata": {},
   "source": [
    "## Define the inference function\n",
    "In this section we define the inference function. \n",
    "Invocation parameters can be modified in the following cell"
   ]
  },
  {
   "cell_type": "code",
   "execution_count": null,
   "metadata": {},
   "outputs": [],
   "source": [
    "import requests\n",
    "\n",
    "class Prompt:\n",
    "    def __init__(self, access_token, project_id):\n",
    "        self.access_token = access_token\n",
    "        self.project_id = project_id\n",
    "\n",
    "    def generate(self, input, model_id, parameters):\n",
    "        wml_url = \"https://us-south.ml.cloud.ibm.com/ml/v1-beta/generation/text?version=2023-05-28\"\n",
    "        Headers = {\n",
    "            \"Authorization\": \"Bearer \" + self.access_token,\n",
    "            \"Content-Type\": \"application/json\",\n",
    "            \"Accept\": \"application/json\"\n",
    "        }\n",
    "        data = {\n",
    "            \"model_id\": model_id,\n",
    "            \"input\": input,\n",
    "            \"parameters\": parameters,\n",
    "            \"project_id\": self.project_id\n",
    "        }\n",
    "        response = requests.post(wml_url, json=data, headers=Headers)\n",
    "        if response.status_code == 200:\n",
    "            return response.json()[\"results\"][0][\"generated_text\"]\n",
    "        else:\n",
    "            return response.text"
   ]
  },
  {
   "cell_type": "markdown",
   "metadata": {},
   "source": [
    "## Define parameters and the prompt for testing\n",
    "**Important: provide your project id (look up in the Project Manage tab)**"
   ]
  },
  {
   "cell_type": "code",
   "execution_count": null,
   "metadata": {},
   "outputs": [],
   "source": [
    "# Provide your project id\n",
    "project_id = \"\"\n",
    "\n",
    "model_id = \"google/flan-ul2\"\n",
    "\n",
    "parameters = {\n",
    "    \"decoding_method\": \"greedy\",\n",
    "    \"max_new_tokens\": 300,\n",
    "    \"min_new_tokens\": 50,\n",
    "    \"stop_sequences\": [\".\"],\n",
    "    \"repetition_penalty\": 1\n",
    "}\n",
    "\n",
    "prompt_input = f\"\"\"\n",
    "Please provide top 5 bullet points in the review provided in '''.\\\\n\\\\\n",
    "nReview:\\\\n'''I had 2 problems with my experience with my refinance. 1) The appraisal company used only tried to lower \n",
    "my house value to fit the comps that he was able to find in the area. My house is unique and he did not use the unique\n",
    "pictures to compare value. He purposely left them out of the appraisal. 2) I started my loan process on a Thursday. On Saturday \n",
    "I tried to contact my loan officer to tell him of the American Express offer that I wanted to apply for.\n",
    "I was informed that it was too late and I could not use it because it would delay the process. \n",
    "I had just received the email about the offer and I had just started the process so how was \n",
    "it too late to get in on the $2,000 credit on my current bill. I let it go but I should have dropped \n",
    "the process and restarted it because that would have helped me out with my bill.'''\\\\n\\\\nTop bullet points:\\\\n1. \n",
    "The appraisal company undervalued the reviewer's house by purposely excluding unique pictures that would have accurately \n",
    "ssessed its value.\\\\n2. The uniqueness of the house was not taken into consideration, and the appraiser relied solely on comps \n",
    "that did not reflect its true worth.\\\\n3. The reviewer attempted to inform their loan officer about an American Express offer they \n",
    "wanted to apply for, which would have provided a $2,000 credit on their current bill.\\\\n4. The loan officer stated it was too late \n",
    "to take advantage of the offer as it would delay the process, despite the reviewer having just received the email and recently \n",
    "started the loan process.\\\\n5. The reviewer regrets not dropping the process and restarting it to benefit from the offer,\n",
    "as it would have helped them with their bill.\\\\n\\\\nReview:'''\\\\nFor the most part my experience was very quick and very easy. \n",
    "I did however, have 3 issues.\\\\n\\\\n#1 - When I received my final numbers, my costs were over $2000 more than was quoted to \n",
    "me over the phone. This was straightened out quickly and matched what I was quoted.\\\\n\\\\n#2 - The appraiser had to change \n",
    "his schedule and when I didn't know if I could be home for the appraisal, he said he could do it with me not there. \n",
    "I do not think this is a wise thing to do or to offer.\\\\n\\\\n#3 - When I received my appraisal, it was far lower than \n",
    "it should have been. My house appraised for basically the same price I purchased it for 14 years ago. I have kept the \n",
    "home up with flooring, paint, etc. It has new shingles on it from last summer, the driveway has been paved, I have about \n",
    "three acres landscaped compared to maybe one when I bought it, and have paved the driveway which was originally gravel.\\\\n\\\\nEven \n",
    "if you discount the insanely high prices that houses are selling for in today's market, the house has increased in value over \n",
    "the past fourteen years. In fact, some of the compared properties looked like camps that were not on water, had no basement or\n",
    "possibly no slab, and very minimal acreage. These comparably priced houses were in no way equal to my 4 bedroom cape, with \n",
    "a wraparound deck, on 4 acres, though not on the water, it is overlooking lake around 100 feet away at the most. I feel \n",
    "very strongly that the appraisal price was put in at a high enough estimate to satisfy the needs of the refinance loan.'''\\\\n\\\\n\n",
    "Top bullet points:\\\\n1. Overall, the experience was quick and easy, but there were three specific issues.\\\\n2. Initially, \n",
    "the quoted costs over the phone did not match the final numbers, resulting in a discrepancy of over $2000. However, this \n",
    "was promptly resolved.\\\\n3. The appraiser offered to conduct the appraisal without the homeowner present, which the reviewer \n",
    "felt was unwise and not recommended.\\\\n4. The appraisal value of the house was significantly lower than expected, even considering \n",
    "the current high housing market prices. The reviewer mentioned various upgrades and improvements made to the house over the past \n",
    "14 years.\\\\n5. The reviewer expressed a strong belief that the appraisal was deliberately set at a lower value to meet the \n",
    "requirements of the refinance loan, despite the property's unique features and advantages compared to the comparables \n",
    "used.\\\\n\\\\nReview:'''\\\\nI was told upfront and throughout most of the process that I would be able to get a $25K \n",
    "payout/cash back based on the market value of my house that was discussed in the original conversation with the loan officer. \n",
    "owever, midway into the process I was told by the loan officer that I was only able to get $17.5K back. Additionally, \n",
    "I was told that I would be able to skip 2 months of mortgage payment to help makeup for the cash shortage. However, \n",
    "at the end of the day I was told that I could only skip 1 mortgage payment. These 2 drawbacks caused me to not fully satisfy \n",
    "the financial reason of why I originally wanted to refinance which was to get the $25K cash.\\\\n\\\\nTop bullet points:\\\\n1. \n",
    "The initial agreement with the loan officer stated that the reviewer would receive a $25K cash payout based on the market value \n",
    "of their house.\\\\n2. Midway through the process, the loan officer informed the reviewer that they would only be eligible \n",
    "for a $17.5K cash payout, which was lower than initially discussed.\\\\n3. The reviewer was also promised the ability to\n",
    "skip two months of mortgage payments to compensate for the cash shortage, but they were later informed that they could\n",
    "only skip one payment.\\\\n4. These discrepancies in the cash payout amount and the reduced mortgage payment relief \n",
    "prevented the reviewer from fulfilling their original financial objective of obtaining the $25K cash.\\\\n5. The limitations \n",
    "and changes in the terms impacted the overall satisfaction with the refinancing process and compromised the financial benefits \n",
    "the reviewer had anticipated.\\\\n\\\\nReview:'''\\\\nI started my loan process toward securing a VA loan. I was waiting for a a\n",
    "month and a couple weeks, then I was told that the VA needed to acquire my retirement points to verify my veteran status. \n",
    "If I knew this is what my loan was on hold for, I could have contacted the VA office right away and got this cleared up. \\\\nFor whatever reason, \n",
    "it took the underwriting department a long time to verify my employment status, even after I uploaded a couple years of my W2\n",
    "forms from both of my jobs, and they had my Social Security number to further verify my employment status. My loan completion \n",
    "date was extended, because I wasn't made aware that they were waiting for my VA status to be approved. The push back for\n",
    "my mortgage is common for mortgage companies, but this caused my interest rate to go up. Then, the securing of a closing \n",
    "lawyer being made aware to me and the lawyer needing three days to get their end prepared for me to go to their office to \n",
    "sign the paperwork wasn't made aware to me. My loan missed the second closing date. For whatever reason, the locked in \n",
    "interest rate jumped up 5/8 points. After making the banker I was working with aware of this, he didn't understand why \n",
    "the locked in interest rate jumped up either. He was nice enough to work on it and was able to get the interest rate \n",
    "down in 1/4 of a point, so my mortgage has an interest rate that is 3/8 of a point higher than my locked in interest \n",
    "rate in the beginning of this process. Although my interest rate is higher than the locked in interest point, at the end, \n",
    "the mortgage is successfully finished.\\\\n'''\\\\n\\\\nTop bullet points:\\\\n\"\"\"\n"
   ]
  },
  {
   "cell_type": "markdown",
   "metadata": {},
   "source": [
    "## Invoke inference"
   ]
  },
  {
   "cell_type": "code",
   "execution_count": null,
   "metadata": {},
   "outputs": [],
   "source": [
    "prompt = Prompt(access_token, project_id)\n",
    "prompt.generate(prompt_input, model_id, parameters)"
   ]
  },
  {
   "cell_type": "markdown",
   "metadata": {},
   "source": [
    "*Updated by Elena Lowery*"
   ]
  },
  {
   "cell_type": "code",
   "execution_count": null,
   "metadata": {},
   "outputs": [],
   "source": []
  }
 ],
 "metadata": {
  "kernelspec": {
   "display_name": "Python 3.10",
   "language": "python",
   "name": "python3"
  },
  "language_info": {
   "codemirror_mode": {
    "name": "ipython",
    "version": 3
   },
   "file_extension": ".py",
   "mimetype": "text/x-python",
   "name": "python",
   "nbconvert_exporter": "python",
   "pygments_lexer": "ipython3",
   "version": "3.10.9"
  }
 },
 "nbformat": 4,
 "nbformat_minor": 1
}
