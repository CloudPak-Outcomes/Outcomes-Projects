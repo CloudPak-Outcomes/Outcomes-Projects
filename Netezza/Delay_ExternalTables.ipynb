{
 "cells": [
  {
   "cell_type": "markdown",
   "metadata": {},
   "source": [
    "## Loading Parquet Files as External Tables in Netezza  "
   ]
  },
  {
   "cell_type": "markdown",
   "metadata": {},
   "source": [
    "Its possible your system is missing some python libraries. If when you try to import the various libraries below a \"Module Not Found\" error is returned. Use the pip install commands to load the proper libraries on your system. "
   ]
  },
  {
   "cell_type": "code",
   "execution_count": null,
   "metadata": {},
   "outputs": [],
   "source": [
    "###\n",
    "###\n",
    "!pip install nzpy \n",
    "\n",
    "# Import Libraries \n",
    "import nzpy\n",
    "import datetime"
   ]
  },
  {
   "cell_type": "code",
   "execution_count": null,
   "metadata": {},
   "outputs": [],
   "source": [
    "#Netezza Cloud Connection Information \n",
    "\n",
    "nz_host             = \"\"\n",
    "nz_port             = 5480\n",
    "nz_database         = \"\"\n",
    "nz_user             = \"\"\n",
    "nz_password         = \"\"\n"
   ]
  },
  {
   "cell_type": "code",
   "execution_count": null,
   "metadata": {},
   "outputs": [],
   "source": [
    "# Create nzpy connection to cloud instance \n",
    "\n",
    "nzcon = nzpy.connect(user=nz_user, password=nz_password, host=nz_host, database=nz_database, port=nz_port)\n"
   ]
  },
  {
   "cell_type": "code",
   "execution_count": null,
   "metadata": {},
   "outputs": [],
   "source": [
    "# Create the external tables for the historical data stored in Parquet files\n",
    "\n",
    "with nzcon.cursor() as cursor:\n",
    "    years = [\"2003\",\"2004\",\"2005\",\"2006\",\"2007\",\"2008\",\"2009\",\"2010\",\"2011\",\"2012\",\"2013\",\"2014\",\"2015\",\"2016\",\"2017\",\"2018\"]\n",
    "    cursor.execute(\"set ENABLE_EXTERNAL_DATASOURCE = 1\")\n",
    "    for year in years:\n",
    "        ddl=\"create EXTERNAL table ext_airline_delay_cause_\" + year + \" on cosdb.admin.airline_cos_datasource using ( DATAOBJECT ('/airline/airline_delay_cause_\" + year + \".parquet') FORMAT 'PARQUET');\"\n",
    "        try:\n",
    "            cursor.execute(ddl)\n",
    "            print(\"Data Lakehouse table EXT_AIRLINE_DELAY_CAUSE_\" + year + \" created successfully\")\n",
    "        except Exception as e:\n",
    "            print(str(e))"
   ]
  },
  {
   "cell_type": "code",
   "execution_count": null,
   "metadata": {},
   "outputs": [],
   "source": [
    "# Create a single external table for all historical flight delay data\n",
    "\n",
    "ddl=\"\"\"create EXTERNAL table airline_delay_cause_history on cosdb.admin.airline_cos_datasource\n",
    "    using ( DATAOBJECT ('/airline/airline_delay_cause_history_2003_2018.parquet') FORMAT 'PARQUET')\"\"\"\n",
    "\n",
    "with nzcon.cursor() as cursor:\n",
    "    cursor.execute(\"set ENABLE_EXTERNAL_DATASOURCE = 1\")\n",
    "    try:\n",
    "        cursor.execute(ddl)\n",
    "        print(\"Data Lakehouse external table AIRLINE_DELAY_CAUSE_HISTORY created successfully\")\n",
    "    except Exception as e:\n",
    "            print(str(e))"
   ]
  },
  {
   "cell_type": "code",
   "execution_count": null,
   "metadata": {},
   "outputs": [],
   "source": [
    "# Create Netezza Native table for years 2018 from parquet external table\n",
    "\n",
    "ddl=\"\"\"create table demo.airline_delay_cause_2018_local\n",
    "as select * from demo.ext_airline_delay_cause_2018\n",
    "distribute on random\n",
    "organize on (year, month, carrier, airport)\n",
    ";\n",
    "\"\"\"\n",
    "\n",
    "with nzcon.cursor() as cursor:\n",
    "    try:\n",
    "        cursor.execute(ddl)\n",
    "        print(\"Table AIRLINE_DELAY_CAUSE_2018_LOCAL created successfully.\")\n",
    "    except Exception as e:\n",
    "        print(str(e))\n"
   ]
  }
 ],
 "metadata": {
  "hide_input": false,
  "kernelspec": {
   "display_name": "Python 3",
   "language": "python",
   "name": "python3"
  },
  "language_info": {
   "codemirror_mode": {
    "name": "ipython",
    "version": 3
   },
   "file_extension": ".py",
   "mimetype": "text/x-python",
   "name": "python",
   "nbconvert_exporter": "python",
   "pygments_lexer": "ipython3",
   "version": "3.7.4"
  }
 },
 "nbformat": 4,
 "nbformat_minor": 5
}
