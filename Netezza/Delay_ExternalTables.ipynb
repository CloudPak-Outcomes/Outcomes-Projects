{
 "cells": [
  {
   "cell_type": "markdown",
   "metadata": {},
   "source": [
    "## Netezza python driver "
   ]
  },
  {
   "cell_type": "code",
   "execution_count": null,
   "metadata": {
    "code_folding": [
     0
    ]
   },
   "outputs": [],
   "source": [
    "# Install and import Netezza python driver\n",
    "!pip install nzpy \n",
    "import nzpy\n",
    "import datetime"
   ]
  },
  {
   "cell_type": "markdown",
   "metadata": {},
   "source": [
    "## Establish a Netezza Cloud Connection"
   ]
  },
  {
   "cell_type": "code",
   "execution_count": null,
   "metadata": {
    "code_folding": []
   },
   "outputs": [],
   "source": [
    "# Netezza Cloud Connection Information \n",
    "nz_host             = \"\"\n",
    "nz_port             = 5480\n",
    "nz_database         = \"\"\n",
    "nz_user             = \"\"\n",
    "nz_password         = \"\""
   ]
  },
  {
   "cell_type": "code",
   "execution_count": null,
   "metadata": {
    "code_folding": [
     0,
     2
    ]
   },
   "outputs": [],
   "source": [
    "# Connect to Netezza cloud instance \n",
    "nzcon = nzpy.connect(user=nz_user, password=nz_password, host=nz_host, database=nz_database, port=nz_port)\n",
    "if bool(nzcon):\n",
    "    print(\"Host     : \" + nz_host)\n",
    "    print(\"Port     :\", nz_port)\n",
    "    print(\"User     : \" + nz_user)\n",
    "    print(\"Password : ********\")\n",
    "    print(\"Database : \" + nz_database)\n",
    "    print()\n",
    "    print(\"Connection successful.\")\n",
    "    print()\n",
    "    print(\"Notebook is ready.\")"
   ]
  },
  {
   "cell_type": "markdown",
   "metadata": {},
   "source": [
    "## Define Lakehouse Historical tables for 2003-2008"
   ]
  },
  {
   "cell_type": "code",
   "execution_count": null,
   "metadata": {
    "code_folding": [
     0
    ]
   },
   "outputs": [],
   "source": [
    "# Create a singularity table for all historical flight delay data on AWS S3\n",
    "\n",
    "ddl=\"\"\"create EXTERNAL table airline_delay_cause_history on cosdb.admin.airline_cos_datasource\n",
    "    using ( DATAOBJECT ('/airline/airline_delay_cause_history_2003_2018.parquet') FORMAT 'PARQUET')\"\"\"\n",
    "\n",
    "\n",
    "with nzcon.cursor() as cursor:\n",
    "    cursor.execute(\"set ENABLE_EXTERNAL_DATASOURCE = 1\")\n",
    "    try:\n",
    "        cursor.execute(ddl)\n",
    "        print(\"Netezza Parquet table AIRLINE_DELAY_CAUSE_HISTORY created successfully\")\n",
    "    except Exception as e:\n",
    "            print(str(e))"
   ]
  },
  {
   "cell_type": "markdown",
   "metadata": {
    "code_folding": [
     0
    ]
   },
   "source": [
    "> Note: External Datasource object was created by the DBA and grant use to your user ID.  See below for DDL used.\n",
    "\n",
    "\n",
    "\n",
    "```\n",
    "set ENABLE_EXTERNAL_DATASOURCE = 1\n",
    ";\n",
    "create EXTERNAL DATASOURCE cosdb.admin.airline_cos_datasource on AWSS3\n",
    "using (\n",
    "        ACCESSKEYID '*****************'\n",
    "        SECRETACCESSKEY '********************'\n",
    "        BUCKET 'concerto-bnr-test'\n",
    "        REGION 'us-east-1'\n",
    ")\n",
    ";\n",
    "```"
   ]
  },
  {
   "cell_type": "markdown",
   "metadata": {},
   "source": [
    "## Define Lakehouse Historical tables for each year (2003...2008)"
   ]
  },
  {
   "cell_type": "code",
   "execution_count": null,
   "metadata": {
    "code_folding": [
     0
    ]
   },
   "outputs": [],
   "source": [
    "# Create the external tables for the historical data stored in Parquet files\n",
    "\n",
    "with nzcon.cursor() as cursor:\n",
    "    years = [\"2003\",\"2004\",\"2005\",\"2006\",\"2007\",\"2008\",\"2009\",\"2010\",\"2011\",\"2012\",\"2013\",\"2014\",\"2015\",\"2016\",\"2017\",\"2018\"]\n",
    "    cursor.execute(\"set ENABLE_EXTERNAL_DATASOURCE = 1\")\n",
    "    for year in years:\n",
    "        ddl=\"create EXTERNAL table ext_airline_delay_cause_\" + year + \" on cosdb.admin.airline_cos_datasource using ( DATAOBJECT ('/airline/airline_delay_cause_\" + year + \".parquet') FORMAT 'PARQUET');\"\n",
    "        try:\n",
    "            cursor.execute(ddl)\n",
    "            print(\"Parquet table EXT_AIRLINE_DELAY_CAUSE_\" + year + \" created successfully\")\n",
    "        except Exception as e:\n",
    "            print(str(e))"
   ]
  },
  {
   "cell_type": "markdown",
   "metadata": {},
   "source": [
    "## Persist Parquet Data into Native Netezza Storage (2008)"
   ]
  },
  {
   "cell_type": "code",
   "execution_count": null,
   "metadata": {
    "code_folding": [
     0
    ]
   },
   "outputs": [],
   "source": [
    "# CTAS: Create Netezza Native table using Parquet table for 2018\n",
    "\n",
    "ddl=\"\"\"create table airline_delay_cause_2018_local\n",
    "as select * from ext_airline_delay_cause_2018\n",
    "distribute on random\n",
    "organize on (year, month, carrier, airport)\n",
    ";\n",
    "\"\"\"\n",
    "\n",
    "with nzcon.cursor() as cursor:\n",
    "    try:\n",
    "        cursor.execute(ddl)\n",
    "        print(\"Table AIRLINE_DELAY_CAUSE_2018_LOCAL created successfully.\")\n",
    "    except Exception as e:\n",
    "        print(str(e))\n"
   ]
  }
 ],
 "metadata": {
  "hide_input": false,
  "kernelspec": {
   "display_name": "Python 3",
   "language": "python",
   "name": "python3"
  },
  "language_info": {
   "codemirror_mode": {
    "name": "ipython",
    "version": 3
   },
   "file_extension": ".py",
   "mimetype": "text/x-python",
   "name": "python",
   "nbconvert_exporter": "python",
   "pygments_lexer": "ipython3",
   "version": "3.7.4"
  },
  "toc": {
   "base_numbering": 1,
   "nav_menu": {},
   "number_sections": true,
   "sideBar": true,
   "skip_h1_title": false,
   "title_cell": "Table of Contents",
   "title_sidebar": "Contents",
   "toc_cell": false,
   "toc_position": {
    "height": "calc(100% - 180px)",
    "left": "10px",
    "top": "150px",
    "width": "438px"
   },
   "toc_section_display": true,
   "toc_window_display": true
  }
 },
 "nbformat": 4,
 "nbformat_minor": 5
}
