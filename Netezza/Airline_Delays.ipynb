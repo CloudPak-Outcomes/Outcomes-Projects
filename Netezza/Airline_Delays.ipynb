{
 "cells": [
  {
   "cell_type": "markdown",
   "id": "average-dispatch",
   "metadata": {},
   "source": [
    "# Airline Delay Analysis with Jupyter Notebook"
   ]
  },
  {
   "cell_type": "markdown",
   "id": "afraid-moses",
   "metadata": {},
   "source": [
    "Global Travel Associates (GTA) has been receiving feedback from their air travel clients within the United States concerning the increase in flight delays during the return to travel in 2023 after the pandemic. GTA has learned that the U.S. Department of Transportation, Bureau of Transportation Statistics has a data set available that contains flight delay information for the United States from 2003 through June 2023. GTA will perform analysis on this data using a Jupyter notebook to determine if:\n",
    "(1) flight delays have increased in 2023 over prior years as their customers claim, and \n",
    "(2) arrive at a list of airlines and airports that can be recommended to their customers where flight delays are at a minimum (to reduce the chances of their customers encountering a flight delay).\n",
    "\n",
    "GTA wants to keep the costs of this analysis to a minimum, so the current data (2019 through April 2023) will be stored in a fully managed Netezza Performance Server as a Service (NPSaaS) database on Microsoft Azure and the historical data (2003 through 2018) will be stored in a Parquet format file on AWS S3 storage (low cost, resilient cloud storage) to reduce the overall cost of the data analysis effort."
   ]
  },
  {
   "cell_type": "markdown",
   "id": "collective-exchange",
   "metadata": {},
   "source": [
    "# Netezza python driver and python libraries "
   ]
  },
  {
   "cell_type": "code",
   "execution_count": null,
   "id": "optimum-initial",
   "metadata": {
    "scrolled": false
   },
   "outputs": [],
   "source": [
    "# import python libraries \n",
    "!pip install nzpy\n",
    "!pip install pandasql\n",
    "import numpy as np \n",
    "import nzpy\n",
    "import pandas as pd\n",
    "import matplotlib.pyplot as plt\n",
    "import seaborn as sns\n",
    "import datetime\n",
    "import numpy as np\n",
    "from pandasql import sqldf\n",
    "import warnings\n",
    "warnings.filterwarnings('ignore')"
   ]
  },
  {
   "cell_type": "markdown",
   "id": "velvet-delay",
   "metadata": {},
   "source": [
    "# Netezza Cloud Connection and Verify Available Tables"
   ]
  },
  {
   "cell_type": "code",
   "execution_count": null,
   "id": "directed-coverage",
   "metadata": {},
   "outputs": [],
   "source": [
    "# Netezza Cloud Connection Information\n",
    "nz_host             = \"\"\n",
    "nz_port             = 5480\n",
    "nz_database         = \"\"\n",
    "nz_user             = \"\"\n",
    "nz_password         = \"\""
   ]
  },
  {
   "cell_type": "code",
   "execution_count": null,
   "id": "nominated-chinese",
   "metadata": {},
   "outputs": [],
   "source": [
    "# Connect to Netezza Performance Server on Cloud\n",
    "nzcon = nzpy.connect(user=nz_user, password=nz_password, host=nz_host, database=nz_database, port=nz_port)\n",
    "\n",
    "if bool(nzcon):\n",
    "    print(\"Host     : \" + nz_host)\n",
    "    print(\"Port     :\", nz_port)\n",
    "    print(\"User     : \" + nz_user)\n",
    "    print(\"Password : ********\")\n",
    "    print(\"Database : \" + nz_database)\n",
    "    print()\n",
    "    print(\"Connection successful.\")\n",
    "    print()\n",
    "    print(\"Notebook is ready.\")"
   ]
  },
  {
   "cell_type": "markdown",
   "id": "comic-keyboard",
   "metadata": {},
   "source": [
    "> The table creation and data loading portion of the demonstration has already been completed. The first query in this notebook checks that the tables are defined and available. "
   ]
  },
  {
   "cell_type": "code",
   "execution_count": null,
   "id": "floppy-rainbow",
   "metadata": {},
   "outputs": [],
   "source": [
    "# List Netezza tables\n",
    "# AIRLINE_DELAY_CAUSE_CURRENT - Netezza Table with 2019 - April 2023\n",
    "# AIRLINE_DELAY_CAUSE_HISTORY - Neteza Parquet Table with 2003 - 2019\n",
    "\n",
    "q0 = f\"\"\"\n",
    "select OBJNAME as TABLENAME,\n",
    "case\n",
    "when objclass = 4905 then 'NETEZZA TABLE'\n",
    "when objclass = 4911 then 'NETEZZA TABLE'\n",
    "when objclass = 4999 then 'PARQUET TABLE'\n",
    "when objclass = 4996 then 'EXTERNAL DATASOURCE'\n",
    "end as OBJ_TYPE\n",
    "from _t_object \n",
    "where objname like '%AIRLINE%' \n",
    "and objclass in (4905, 4911, 4999, 4996)\n",
    "and objdb =\n",
    "(select objid from _t_object where objname = '{nz_database.upper()}')\n",
    "\"\"\"\n",
    "\n",
    "q1 = \"\"\"\n",
    "select tablename from _v_table\n",
    "\"\"\"\n",
    "# if Netezza user with select on _t_object\n",
    "df = pd.read_sql_query(q0, nzcon)\n",
    "\n",
    "#df = pd.read_sql_query(q1, nzcon)\n",
    "df"
   ]
  },
  {
   "cell_type": "markdown",
   "id": "optional-stand",
   "metadata": {},
   "source": [
    "## Quick View of the Data \n",
    "The next query is a snapshot of the first couple of rows in the `AIRLINE_DELAY_CAUSE_CURRENT` table. The first objective in this analysis is to assess the current state of airline delays, to do this the data between 2019 and 2023 contained in the `AIRLINE_DELAY_CAUSE_CURRENT` table will be accessed. This query selects the first 5 rows of the table to verify the table exists and contains data."
   ]
  },
  {
   "cell_type": "code",
   "execution_count": null,
   "id": "authorized-irrigation",
   "metadata": {},
   "outputs": [],
   "source": [
    "# years in Netezza table\n",
    "q = \"\"\"\n",
    "SELECT \n",
    "DISTINCT YEAR\n",
    "FROM AIRLINE_DELAY_CAUSE_CURRENT\n",
    "ORDER BY 1\n",
    "\"\"\"\n",
    "\n",
    "df = pd.read_sql_query(q, nzcon)\n",
    "pd.set_option('display.max_columns', None)\n",
    "#df.columns = df.columns.str.decode('utf-8')\n",
    "df"
   ]
  },
  {
   "cell_type": "code",
   "execution_count": null,
   "id": "spoken-orange",
   "metadata": {},
   "outputs": [],
   "source": [
    "# years in parquet table\n",
    "q = \"\"\"\n",
    "SELECT \n",
    "DISTINCT YEAR\n",
    "FROM AIRLINE_DELAY_CAUSE_HISTORY\n",
    "ORDER BY 1\n",
    "\"\"\"\n",
    "\n",
    "df = pd.read_sql_query(q, nzcon)\n",
    "pd.set_option('display.max_columns', None)\n",
    "#df.columns = df.columns.str.decode('utf-8')\n",
    "df"
   ]
  },
  {
   "cell_type": "code",
   "execution_count": null,
   "id": "revised-spoke",
   "metadata": {},
   "outputs": [],
   "source": [
    "# years in Netezza table\n",
    "q = \"\"\"\n",
    "SELECT \n",
    "*\n",
    "FROM AIRLINE_DELAY_CAUSE_CURRENT\n",
    "LIMIT 10\n",
    "\"\"\"\n",
    "\n",
    "df = pd.read_sql_query(q, nzcon)\n",
    "pd.set_option('display.max_columns', None)\n",
    "#df.columns = df.columns.str.decode('utf-8')\n",
    "df"
   ]
  },
  {
   "cell_type": "markdown",
   "id": "informational-selling",
   "metadata": {},
   "source": [
    "## Defining Columns \n",
    "\n",
    "- Year \n",
    "- Month \n",
    "- Carrier: Abbreviation\n",
    "- Carrier_Name: Carrier name full\n",
    "- Airport: Abbreviation \n",
    "- Airport_City\n",
    "- Airport_State: State Abbreviation \n",
    "- Airport_Name: Airport Name Full \n",
    "- Arr_Flights: Total Arrived Flights \n",
    "- Arr_Del15: Total Delayed Flights as defined by 15 minutes or more \n",
    "- Carrier_CT: Total delayed flights due to air carrier issues\n",
    "- Weather_CT: Total delayed flights due to weather\n",
    "- NAS_CT: Total delayed flights due to National Aviation System \n",
    "- Security_CT: Count of delayed flights caused by security \n",
    "- Late_Aircraft_CT: Count of delayed flights caused by late arriving aircraft \n",
    "- Arr_Cancelled: Count of cancelled flights \n",
    "- Arr_Diverted: Count of aircrafts diverted \n",
    "- Arr_Delay: Total minutes delayed \n",
    "- Carrier_Delay: Total minutes delayed due to the carrier  \n",
    "- Weather_Delay: Total minutes delayed due to weather\n",
    "- NAS_Delay: Total minutes delayed due to National Aviation System\n",
    "- Security_Delay: Total minutes delayed due to Security \n",
    "- Late_Aircraft_Delay: Total minutes delayed due to late arriving aircraft \n",
    "\n",
    "\n",
    "> **Please note**: \"count\" (_CT) columns are pro-rated by minutes.  \n",
    "For example, if the total delay was 45 minutes and 15 minutes was due to Weather and 30 minutes was due to Late Aircraft the count would be .33 for Weather and .66 for Late Aircraft. \n"
   ]
  },
  {
   "cell_type": "markdown",
   "id": "agricultural-yesterday",
   "metadata": {},
   "source": [
    "**How are these categories defined?**\n",
    "\n",
    "**Air Carrier**: The cause of the cancellation or delay was due to circumstances within the airline's control (for example; maintenance or crew problems, aircraft cleaning, baggage loading, fueling, and other reasons.).\n",
    "\n",
    "**Extreme Weather**: Significant meteorological conditions (actual or forecasted) that, in the judgment of the carrier, delays or prevents the operation of a flight such as a thunderstorm, tornado, blizzard or hurricane.\n",
    "\n",
    "**National Aviation System (NAS)**: Delays and cancellations attributable to the national aviation system that refer to a broad set of conditions, such as non-extreme weather conditions, airport operations, heavy traffic volume, and air traffic control.\n",
    "\n",
    "**Late-arriving aircraft**: A previous flight using the same aircraft arrived late, causing the present flight to depart late.\n",
    "\n",
    "**Security**: Delays or cancellations caused by evacuation of a terminal or concourse, re-boarding of aircraft because of security breach, inoperative screening equipment and/or long lines in excess of 29 minutes at screening areas."
   ]
  },
  {
   "cell_type": "markdown",
   "id": "professional-zoning",
   "metadata": {},
   "source": [
    "# Analysis  1 - comparing total delayed flights by reason\n",
    "The end goal is to get an understanding of how airline delays have changed over time. The analysis begins with Query 1, comparing total delayed flights by reason (carrier, weather, NAS, security, and late aircraft).  "
   ]
  },
  {
   "cell_type": "markdown",
   "id": "hollywood-sentence",
   "metadata": {},
   "source": [
    "## Causes of Delays Over Peak Covid "
   ]
  },
  {
   "cell_type": "code",
   "execution_count": null,
   "id": "endless-rapid",
   "metadata": {},
   "outputs": [],
   "source": [
    "# SQL delays\n",
    "q = \"\"\"\n",
    "SELECT year,\n",
    "SUM(CAST(carrier_ct AS FLOAT)) as Carrier_Delay,\n",
    "SUM(CAST(weather_ct AS FLOAT)) as Weather_Delay,\n",
    "SUM(CAST(nas_ct AS FLOAT)) as NAS_Delay,\n",
    "SUM(CAST(security_ct AS FLOAT)) as Security_Delay,\n",
    "SUM(CAST(late_aircraft_ct AS FLOAT)) as Late_Aircraft_Delay\n",
    "FROM AIRLINE_DELAY_CAUSE_CURRENT\n",
    "GROUP BY year ORDER BY YEAR\"\"\"\n",
    "\n",
    "pd.options.display.float_format = '{:,.2f}'.format\n",
    "delays_cause_df = pd.read_sql_query(q, nzcon)\n",
    "#delays_cause_df.columns = delays_cause_df.columns.str.decode('utf-8')\n",
    "delays_cause_df"
   ]
  },
  {
   "cell_type": "markdown",
   "id": "authentic-traveler",
   "metadata": {},
   "source": [
    "The following code displays a bar chart visualizing the different delay counts by reason. This allows a quick assessment of why flights may have been having issues. "
   ]
  },
  {
   "cell_type": "code",
   "execution_count": null,
   "id": "insured-silly",
   "metadata": {},
   "outputs": [],
   "source": [
    "# set width of bars\n",
    "barWidth = 0.15\n",
    "\n",
    "# Set position of bar on X axis\n",
    "r1 = np.arange(len(delays_cause_df['CARRIER_DELAY']))\n",
    "r2 = [x + barWidth for x in r1]\n",
    "r3 = [x + barWidth for x in r2]\n",
    "r4 = [x + barWidth for x in r3]\n",
    "r5 = [x + barWidth for x in r4]\n",
    "\n",
    "plt.figure(figsize=(15, 6))  # width:10, height:8\n",
    "\n",
    "# Make the plot\n",
    "plt.bar(r1, delays_cause_df['CARRIER_DELAY'], color='blue', width=barWidth, edgecolor='white', label='Carrier Delay')\n",
    "plt.bar(r2, delays_cause_df['WEATHER_DELAY'], color='orange', width=barWidth, edgecolor='white', label='Weather Delay')\n",
    "plt.bar(r3, delays_cause_df['NAS_DELAY'], color='pink', width=barWidth, edgecolor='white', label='NAS Delay')\n",
    "plt.bar(r4, delays_cause_df['LATE_AIRCRAFT_DELAY'], color='purple', width=barWidth, edgecolor='white', label='Late Aircraft Delay')\n",
    "plt.bar(r5, delays_cause_df['SECURITY_DELAY'], color='green', width=barWidth, edgecolor='white', label='Security Delay')\n",
    "\n",
    "# Add xticks on the middle of the group bars\n",
    "plt.xlabel('Year', fontweight='bold')\n",
    "plt.ylabel('Total Flights', fontweight='bold')\n",
    "plt.xticks([r + barWidth for r in range(len(delays_cause_df['CARRIER_DELAY']))], ['2019', '2020', '2021', '2022', '2023'])\n",
    "\n",
    "\n",
    "\n",
    "# Create legend & Show graphic\n",
    "plt.legend()\n",
    "plt.show()\n"
   ]
  },
  {
   "cell_type": "markdown",
   "id": "experienced-antenna",
   "metadata": {},
   "source": [
    "With the data visualized, it is clear there are some major descrepancies both by year as well as reason. Security days are minumal across all years. While Carrier and Late Aircrafts are the number 1 and 2 cause for flight delays consistently. An uninformed viewer may interpret 2020 and 2023 as being a particularly great years to travel since there were significantly less delays. However, due to the impacts of COVID, this assumption may be inaccurate. Additionally the year 2023 is in progress (not yet a complete year) so there is missing data that does not allow a full year comparison. \n",
    "\n",
    "Because 2023 is a partial year, the data needs to be normalized to allow flight delays to be accurately compared between years. By examining the total flight delays compared to the total number of flights for the period, a more accurate analysis and comparison of flight delay data can be achieved."
   ]
  },
  {
   "cell_type": "markdown",
   "id": "healthy-architecture",
   "metadata": {},
   "source": [
    "# Analysis 2 - normalized view of the flight delay data"
   ]
  },
  {
   "cell_type": "markdown",
   "id": "large-poverty",
   "metadata": {},
   "source": [
    "The following code cells are a build to the final graph of flight delay data. \n",
    "First the sums are collected for the Total Cancelled Flights, Total Delayed Flights, Total Flights, Carrier Delays, Weather Delays, NAS Delays, Security Delays and Late Aircraft Delays. \n",
    "Next, using the pandas and numpy python libraries, the dataframe can calculate ratios for Delayed, Cancelled, and total Distrupted Flights (Delayed and Canceled combined). \n",
    "Lastly, a new data frame can be created from the original data frame indicating the percentage of delayed flights that had to do with Carrier, Weather, NAS, Security, and Late Aircraft Delays. \n",
    "The final cell combines all this data into a normalized and informed graph that displays distrupted flight ratios between 2019 and 2023."
   ]
  },
  {
   "cell_type": "markdown",
   "id": "environmental-connection",
   "metadata": {},
   "source": [
    "## Understanding Delays with Context"
   ]
  },
  {
   "cell_type": "code",
   "execution_count": null,
   "id": "sorted-local",
   "metadata": {},
   "outputs": [],
   "source": [
    "q = \"\"\"\n",
    "SELECT year,\n",
    "SUM(CAST(arr_cancelled AS FLOAT)) as Total_Cancelled_Flights,\n",
    "SUM(CAST(arr_del15 AS FLOAT)) as Total_Delayed_Flights,\n",
    "SUM(CAST(arr_flights AS FLOAT)) as Total_Flights,\n",
    "SUM(CAST(carrier_ct AS FLOAT)) as Carrier_Delay,\n",
    "SUM(CAST(weather_ct AS FLOAT)) as Weather_Delay,\n",
    "SUM(CAST(nas_ct AS FLOAT)) as NAS_Delay,\n",
    "SUM(CAST(security_ct AS FLOAT)) as Security_Delay,\n",
    "SUM(CAST(late_aircraft_ct AS FLOAT)) as Late_Aircraft_Delay\n",
    "FROM AIRLINE_DELAY_CAUSE_CURRENT\n",
    "GROUP BY year ORDER BY YEAR\"\"\"\n",
    "\n",
    "pd.options.display.float_format = '{:,.2f}'.format\n",
    "delays_cause_df2 = pd.read_sql_query(q, nzcon)\n",
    "#delays_cause_df2.columns = delays_cause_df2.columns.str.decode('utf-8')\n",
    "delays_cause_df2"
   ]
  },
  {
   "cell_type": "markdown",
   "id": "grave-queue",
   "metadata": {},
   "source": [
    "### Calculate the Flight Ratios to account for partial 2023 data and COVID distruptions\n",
    "> Delayed_Total_Ratio,\n",
    "Cancelled_Total_Ratio,\n",
    "Distrupted_Total_Ratio"
   ]
  },
  {
   "cell_type": "code",
   "execution_count": null,
   "id": "unauthorized-walker",
   "metadata": {},
   "outputs": [],
   "source": [
    "q = \"\"\"\n",
    "WITH FLIGHT_DELAYS AS(\n",
    "    SELECT\n",
    "        YEAR,\n",
    "        SUM(CAST(arr_cancelled AS FLOAT)) AS Total_Cancelled_Flights,\n",
    "        SUM(CAST(arr_del15 AS FLOAT)) AS Total_Delayed_Flights,\n",
    "        SUM(CAST(arr_flights AS FLOAT)) AS Total_Flights,\n",
    "        SUM(CAST(carrier_ct AS FLOAT)) AS Carrier_Delay_sum,\n",
    "        SUM(CAST(weather_ct AS FLOAT)) AS Weather_Delay_sum,\n",
    "        SUM(CAST(nas_ct AS FLOAT)) AS NAS_Delay_sum,\n",
    "        SUM(CAST(security_ct AS FLOAT)) AS Security_Delay_sum,\n",
    "        SUM(CAST(late_aircraft_ct AS FLOAT)) AS Late_aircraftd_delay_sum\n",
    "    FROM\n",
    "        AIRLINE_DELAY_CAUSE_CURRENT\n",
    "    GROUP BY\n",
    "        YEAR\n",
    ")\n",
    "SELECT\n",
    "    YEAR,\n",
    "    --Total_Cancelled_Flights,\n",
    "    --Total_Delayed_Flights,\n",
    "    --Total_Flights,\n",
    "    --Carrier_Delay_SUM,\n",
    "    --Weather_Delay,\n",
    "    --NAS_Delay,\n",
    "    --Security_Delay,\n",
    "    --Late_aircraftd_delay,\n",
    "    Total_Delayed_Flights/Total_Flights*100 AS Delayed_Total_Ratio,\n",
    "    100 * TOTAL_CANCELLED_FLIGHTS/TOTAL_FLIGHTS AS Cancelled_Total_Ratio,\n",
    "    (TOTAL_CANCELLED_FLIGHTS + TOTAL_DELAYED_FLIGHTS) / TOTAL_FLIGHTS * 100 AS Distrupted_Total_Ratio,\n",
    "    Carrier_Delay_SUM / TOTAL_DELAYED_FLIGHTS * Delayed_Total_Ratio AS CARRIER_DELAY,\n",
    "    Weather_Delay_SUM / TOTAL_DELAYED_FLIGHTS * Delayed_Total_Ratio AS WEATHER_DELAY,\n",
    "    NAS_Delay_SUM / TOTAL_DELAYED_FLIGHTS * Delayed_Total_Ratio AS NAS_DELAY,\n",
    "    Security_Delay_SUM / TOTAL_DELAYED_FLIGHTS * Delayed_Total_Ratio AS Security_DELAY,\n",
    "    Late_aircraftd_delay_sum / TOTAL_DELAYED_FLIGHTS * Delayed_Total_Ratio AS Late_aircraft_delay\n",
    "FROM\n",
    "    FLIGHT_DELAYS AS Cancelled_Total_Ratio\n",
    "ORDER BY\n",
    "    YEAR\n",
    "\"\"\"\n",
    "\n",
    "pd.options.display.float_format = '{:,.2f}'.format\n",
    "delays_ratio_df = pd.read_sql_query(q, nzcon)\n",
    "#delays_ratio_df.columns = delays_cause_df2.columns.str.decode('utf-8')\n",
    "delays_ratio_df"
   ]
  },
  {
   "cell_type": "code",
   "execution_count": null,
   "id": "pursuant-trademark",
   "metadata": {},
   "outputs": [],
   "source": [
    "# normalized view of the flight delay data\n",
    "barWidth = 0.15\n",
    "\n",
    "# Set position of bar on X axis\n",
    "r1 = np.arange(len(delays_cause_df2['YEAR']))\n",
    "r2 = [x + barWidth for x in r1]\n",
    "r3 = [x + barWidth for x in r2]\n",
    "\n",
    "plt.figure(figsize=(14, 6))  # width:10, height:8\n",
    "\n",
    "# Make the plot\n",
    "#plt.bar(r1, delays_cause_df2['Delayed:Total Ratio'], color='#d0c4ef', width=barWidth, edgecolor='white', label='Delay Ratio')\n",
    "plt.bar(r2, delays_ratio_df['CANCELLED_TOTAL_RATIO'], color='#c75f44', width=barWidth, edgecolor='white', label='Cancelled Ratio')\n",
    "plt.bar(r3, delays_ratio_df['DISTRUPTED_TOTAL_RATIO'], color='#7e9b89', width=barWidth, edgecolor='white', label='Distrupted Ratio')\n",
    "plt.bar(r1, delays_ratio_df['CARRIER_DELAY'], color='#d0c4ef', width=barWidth, edgecolor='white', label='CARRIER_DELAY')\n",
    "plt.bar(r1, delays_ratio_df['WEATHER_DELAY'], bottom=delays_ratio_df['CARRIER_DELAY'], color='#7e9bb9', width=barWidth, edgecolor='white', label='WEATHER_DELAY')\n",
    "plt.bar(r1, delays_ratio_df['NAS_DELAY'], bottom=delays_ratio_df['CARRIER_DELAY']+delays_ratio_df['WEATHER_DELAY'], color='#4e9bc9', width=barWidth, edgecolor='white', label='NAS_DELAY')\n",
    "plt.bar(r1, delays_ratio_df['SECURITY_DELAY'], bottom=delays_ratio_df['CARRIER_DELAY']+delays_ratio_df['WEATHER_DELAY']+delays_ratio_df['NAS_DELAY'], color='#2e9b89', width=barWidth, label='SECURITY_DELAY')\n",
    "plt.bar(r1, delays_ratio_df['LATE_AIRCRAFT_DELAY'], bottom=delays_ratio_df['CARRIER_DELAY']+delays_ratio_df['WEATHER_DELAY']+delays_ratio_df['NAS_DELAY']+delays_ratio_df['SECURITY_DELAY'], color='#3eab89', width=barWidth, edgecolor='white', label='LATE_AIRCRAFT_DELAY')\n",
    "\n",
    "\n",
    "\n",
    "\n",
    "# Add xticks on the middle of the group bars\n",
    "plt.xlabel('Year', fontweight='bold')\n",
    "plt.ylabel('Percentage', fontweight='bold')\n",
    "plt.xticks([r + barWidth for r in range(len(delays_cause_df2['YEAR']))], ['2019', '2020', '2021', '2022', '2023'])\n",
    "\n",
    "\n",
    "plt.title(label = \"Normalized Distruption Ratios\")\n",
    "# Create legend & Show graphic\n",
    "plt.legend(bbox_to_anchor=(1.01, 1), loc='upper left', borderaxespad=0)\n",
    "plt.show()"
   ]
  },
  {
   "cell_type": "markdown",
   "id": "attended-effort",
   "metadata": {},
   "source": [
    "With this new normalized view of the flight delay data, it can be seen that the initial analysis of flight delays was not completely fair. Although 2020 was not a great year to travel due to COVID-19, of the flights that did operate, the overall chance of a flight delay was relatively low compared to prior years. 2023 looked as though it had a low quantity of flight delays. However, when analyzing the amount of flight delays compared to the total number of flights scheduled, it is clear that 2023 has not been performing well. To date, 2023 has the highest percentage of distrupted flights overall. \n",
    "\n",
    "This data analysis provides a strong understanding of how the airline industry has been performing with respect to flight delays for the past couple of years. The analysis within this demonstration will now be extended to include historical data and determine if the current 2019 through mid-year 2023 data trends are identical to past trends or whether flight delays have been improving over time. "
   ]
  },
  {
   "cell_type": "markdown",
   "id": "sexual-breed",
   "metadata": {},
   "source": [
    "# Analysis 3 - current data to historical data"
   ]
  },
  {
   "cell_type": "markdown",
   "id": "elect-distribution",
   "metadata": {},
   "source": [
    "It's good practice to get an overall understanding of the data prior to diving deeper. The first query run using historical data will look at the total flight delays by year from 2003 through 2018.\n",
    "\n",
    "Historical data stored in AWS S3 - Netezza Parquet Tables used to access history (`AIRLINE_DELAY_CAUSE_HISTORY`)"
   ]
  },
  {
   "cell_type": "markdown",
   "id": "congressional-armenia",
   "metadata": {},
   "source": [
    "## Comparing Current to Historical "
   ]
  },
  {
   "cell_type": "code",
   "execution_count": null,
   "id": "immune-unemployment",
   "metadata": {},
   "outputs": [],
   "source": [
    "# SQL - Total Delays by Year 2003-2018 (Parquet table)\n",
    "q = \"\"\"\n",
    "SELECT \n",
    "year, SUM(CAST(arr_del15 as float)) as \"Total Delays\"\n",
    "FROM AIRLINE_DELAY_CAUSE_HISTORY GROUP BY year order by year asc\n",
    "\"\"\"\n",
    "\n",
    "all_delay_df = pd.read_sql_query(q, nzcon)\n",
    "#all_delay_df.columns = all_delay_df.columns.str.decode('utf-8')\n",
    "all_delay_df"
   ]
  },
  {
   "cell_type": "code",
   "execution_count": null,
   "id": "destroyed-bruce",
   "metadata": {},
   "outputs": [],
   "source": [
    "# Graph - Total Delays by Year\n",
    "plt.plot(all_delay_df[\"YEAR\"],all_delay_df[\"Total Delays\"])\n",
    "plt.title('Total Delays by Year')\n",
    "plt.xlabel('Year')\n",
    "plt.ylabel('Total Delays')\n",
    "plt.rcParams[\"figure.figsize\"] = (17,5)\n",
    "plt.show()"
   ]
  },
  {
   "cell_type": "markdown",
   "id": "bacterial-indication",
   "metadata": {},
   "source": [
    "> A quick and simple line graph shows the overall trend has been a decline in flight delays from 2003 through 2018. Lets see if a closer look at the data supports this fact."
   ]
  },
  {
   "cell_type": "markdown",
   "id": "bibliographic-extraction",
   "metadata": {},
   "source": [
    "# Analysis 4 - delays been trending from the early 2000s until the 2018 timeframe "
   ]
  },
  {
   "cell_type": "markdown",
   "id": "satisfactory-validity",
   "metadata": {},
   "source": [
    "The goal of analysis 4 is to get the total average delays by month from 2003-2012 and compare that to the total avereage delays by month from 2013-2018. This data analysis can answer the question, \"Overall how have flight delays been trending from the early 2000s until the 2018 timeframe?\" \n",
    "\n",
    "\n",
    "First, a query is run to gather the total flight delays per month of each year from 2002 through 2018."
   ]
  },
  {
   "cell_type": "markdown",
   "id": "nearby-weekly",
   "metadata": {},
   "source": [
    "## Total Delays by Month and Year"
   ]
  },
  {
   "cell_type": "code",
   "execution_count": null,
   "id": "graphic-contamination",
   "metadata": {},
   "outputs": [],
   "source": [
    "# SQL - Total Delays by Month and Year 2003-2018 (Parquet table)\n",
    "q = \"\"\"\n",
    "SELECT \n",
    "year, month,\n",
    "SUM(arr_del15) as TOTAL_DELAYS_PER_MONTH\n",
    "FROM AIRLINE_DELAY_CAUSE_HISTORY GROUP BY year, month order by year, month\n",
    "\"\"\"\n",
    "\n",
    "delay_by_month_df1 = pd.read_sql_query(q, nzcon)\n",
    "#delay_by_month_df1.columns = delay_by_month_df1.columns.str.decode('utf-8')\n",
    "\n",
    "delay_by_month_df1"
   ]
  },
  {
   "cell_type": "markdown",
   "id": "honey-guess",
   "metadata": {},
   "source": [
    "> From this data the average flight delays by month from 2003-2012 as well as the average flight delays by month from 2013-2018 are determined."
   ]
  },
  {
   "cell_type": "markdown",
   "id": "deluxe-certificate",
   "metadata": {},
   "source": [
    "## Average Delays by Month from 2003-2012 compared to 2013-2018"
   ]
  },
  {
   "cell_type": "code",
   "execution_count": null,
   "id": "current-ordinary",
   "metadata": {},
   "outputs": [],
   "source": [
    "# avg delays compared by time period\n",
    "\n",
    "q = \"\"\"\n",
    "SELECT t1.FINAL_MONTH1 as Month, t1.\"2003-2012\", t2.\"2013-2018\"\n",
    "\n",
    "FROM \n",
    "\n",
    "(SELECT month as FINAL_MONTH1, AVG(SUM1) as \"2003-2012\" \n",
    "FROM\n",
    "(SELECT \n",
    "month, year,\n",
    "SUM(CAST(arr_del15 as FLOAT)) as SUM1\n",
    "FROM AIRLINE_DELAY_CAUSE_HISTORY \n",
    "GROUP BY year, month order by year, month) as t02\n",
    "WHERE year <= 2012 GROUP BY FINAL_MONTH1 ORDER BY FINAL_MONTH1) as t1\n",
    "\n",
    "INNER JOIN \n",
    "\n",
    "(SELECT month as FINAL_MONTH2, AVG(SUM2) as \"2013-2018\" \n",
    "FROM\n",
    "(SELECT \n",
    "month, year,\n",
    "SUM(CAST(arr_del15 as FLOAT)) as SUM2\n",
    "FROM AIRLINE_DELAY_CAUSE_HISTORY\n",
    "GROUP BY year, month order by year, month) as t02\n",
    "WHERE year >= 2013 and year <= 2019 GROUP BY FINAL_MONTH2 ORDER BY FINAL_MONTH2) as t2\n",
    "\n",
    "ON t1.FINAL_MONTH1=t2.FINAL_MONTH2 ORDER BY t1.FINAL_MONTH1\n",
    "\n",
    "\"\"\"\n",
    "pd.options.display.max_rows = None\n",
    "delay_by_month_df2 = pd.read_sql_query(q, nzcon)\n",
    "#delay_by_month_df2.columns = delay_by_month_df2.columns.str.decode('utf-8')\n",
    "\n",
    "delay_by_month_df2"
   ]
  },
  {
   "cell_type": "markdown",
   "id": "detailed-neighborhood",
   "metadata": {},
   "source": [
    "> At a glance, this numeric output in tabular format provides a good comparison but lets perform some additional analysis and view it in a graph format to get a better understanding of the data. "
   ]
  },
  {
   "cell_type": "code",
   "execution_count": null,
   "id": "technical-retention",
   "metadata": {},
   "outputs": [],
   "source": [
    "# calculate early years to later years\n",
    "array_1 = delay_by_month_df2['2003-2012']\n",
    "array_2 = delay_by_month_df2['2013-2018']\n",
    "\n",
    "sum_total = 0\n",
    "\n",
    "zip_object = zip(array_1, array_2)\n",
    "for element1, element2 in zip_object:\n",
    "    if (element1 > element2):\n",
    "        sum_total += 1\n",
    "\n",
    "\n",
    "early_sum = delay_by_month_df2['2003-2012'].sum()\n",
    "late_sum = delay_by_month_df2['2013-2018'].sum()\n",
    "print(str(sum_total) + \" out of 12 months the early 2000s had more delays than late 2000s\")\n",
    "print(((late_sum - early_sum)/late_sum)*100)"
   ]
  },
  {
   "cell_type": "markdown",
   "id": "accompanied-negotiation",
   "metadata": {},
   "source": [
    "Above, the flight delay information for each month-year combination has been calculated and this data highlights that the flight delays for every month from 2003-2012 were higher than the same months from 2012-2018. In summary, the data shows a **20%** decline in flight delays between the two historical time periods (2003-2012 and 2013-2018). This confirms the initial thinking that airlines delays were in decline leading up to 2019. "
   ]
  },
  {
   "cell_type": "markdown",
   "id": "paperback-playback",
   "metadata": {},
   "source": [
    "## Delays Compared 2003-2012 and 2013-2018"
   ]
  },
  {
   "cell_type": "code",
   "execution_count": null,
   "id": "greenhouse-escape",
   "metadata": {},
   "outputs": [],
   "source": [
    "# set width of bars\n",
    "barWidth = 0.25\n",
    "\n",
    "# Set position of bar on X axis\n",
    "r1 = np.arange(len(delay_by_month_df2['MONTH']))\n",
    "r2 = [x + barWidth for x in r1]\n",
    "\n",
    "plt.figure(figsize=(15, 6))  # width:10, height:8\n",
    "\n",
    "# Make the plot\n",
    "plt.bar(r1, delay_by_month_df2['2003-2012'], color='blue', width=barWidth, edgecolor='white', label='Delays 2003-2012')\n",
    "plt.bar(r2, delay_by_month_df2['2013-2018'], color='green', width=barWidth, edgecolor='white', label='Delays 2013-2018')\n",
    "\n",
    "# Add xticks on the middle of the group bars\n",
    "plt.xlabel('Month', fontweight='bold')\n",
    "plt.ylabel('Total Delays', fontweight='bold')\n",
    "plt.xticks([r + barWidth for r in range(len(delay_by_month_df2['MONTH']))], delay_by_month_df2['MONTH'])\n",
    "\n",
    "\n",
    "\n",
    "# Create legend & Show graphic\n",
    "plt.legend()\n",
    "plt.show()"
   ]
  },
  {
   "cell_type": "markdown",
   "id": "precious-railway",
   "metadata": {},
   "source": [
    "> Data visualization using bar chart confirms the smaller number of flight delays for the latter of the historical time periods."
   ]
  },
  {
   "cell_type": "markdown",
   "id": "suspected-divide",
   "metadata": {},
   "source": [
    "## Analysis 5 - Impact of COVID and other events on Flight Delays"
   ]
  },
  {
   "cell_type": "markdown",
   "id": "adapted-faculty",
   "metadata": {},
   "source": [
    "Now that we have seen a decline in flight delays leading up to 2019, lets compare to our current data with the historical data to answer the question, \"Are flight delays still in decline or have they risen since the impact of COVID-19 and other events?\" "
   ]
  },
  {
   "cell_type": "markdown",
   "id": "unknown-taxation",
   "metadata": {},
   "source": [
    "Now a simple query is used to determine the number of delays for each month in 2023 (up to April 2023 which is the most recent data)."
   ]
  },
  {
   "cell_type": "markdown",
   "id": "preceding-accused",
   "metadata": {},
   "source": [
    "## Delay Trends for 2023"
   ]
  },
  {
   "cell_type": "code",
   "execution_count": null,
   "id": "mechanical-vulnerability",
   "metadata": {},
   "outputs": [],
   "source": [
    "q = \"\"\"\n",
    "SELECT month,\n",
    "\n",
    "SUM(case when year = 2023 then SUM else 0 end) as \"2023\" FROM \n",
    "\n",
    "(SELECT \n",
    "month, year,\n",
    "SUM(CAST(arr_del15 as FLOAT)) as SUM\n",
    "FROM AIRLINE_DELAY_CAUSE_CURRENT GROUP BY year, month order by year, month) as t1 \n",
    "\n",
    "GROUP BY month order by month\n",
    "\"\"\"\n",
    "\n",
    "delay_by_month_df3 = pd.read_sql_query(q, nzcon)\n",
    "#delay_by_month_df3.columns = delay_by_month_df3.columns.str.decode('utf-8')\n",
    "delay_by_month_df3"
   ]
  },
  {
   "cell_type": "markdown",
   "id": "medieval-senegal",
   "metadata": {},
   "source": [
    "## Total Compared Delays over Time "
   ]
  },
  {
   "cell_type": "markdown",
   "id": "expected-findings",
   "metadata": {},
   "source": [
    "Combining the 2023 monthly data with the original historical data provides this result ..."
   ]
  },
  {
   "cell_type": "code",
   "execution_count": null,
   "id": "social-usage",
   "metadata": {},
   "outputs": [],
   "source": [
    "# set width of bars\n",
    "barWidth = 0.25\n",
    "\n",
    "# Set position of bar on X axis\n",
    "r1 = np.arange(len(delay_by_month_df2['MONTH']))\n",
    "r2 = [x + barWidth for x in r1]\n",
    "r3 = [x + barWidth for x in r2]\n",
    "\n",
    "plt.figure(figsize=(15, 6))  # width:10, height:8\n",
    "\n",
    "# Make the plot\n",
    "plt.bar(r1, delay_by_month_df2['2003-2012'], color='#4169e1', width=barWidth, edgecolor='white', label='Delays 2003-2012')\n",
    "plt.bar(r2, delay_by_month_df2['2013-2018'], color='#93c47d', width=barWidth, edgecolor='white', label='Delays 2013-2018')\n",
    "plt.bar(r3, delay_by_month_df3['2023'], color='#ca4c4c', width=barWidth, edgecolor='white', label='Delays 2023')\n",
    "\n",
    "# Add xticks on the middle of the group bars\n",
    "plt.xlabel('Month', fontweight='bold')\n",
    "plt.ylabel('Total Delays', fontweight='bold')\n",
    "plt.xticks([r + barWidth for r in range(len(delay_by_month_df2['MONTH']))], delay_by_month_df2['MONTH'])\n",
    "\n",
    "\n",
    "\n",
    "# Create legend & Show graphic\n",
    "plt.legend()\n",
    "plt.show()"
   ]
  },
  {
   "cell_type": "markdown",
   "id": "prospective-masters",
   "metadata": {},
   "source": [
    "> As mentioned earlier, 2023 has been trending very poorly for delays when compared to the earlier years (2019, 2020, 2021, and 2022) in the current time period data. The data in the graph highlights that 2023 flight delays are trending very poorly against the averages in the late 2010s when delays were improving. In some cases, 2023 is even worse than the average flight delaysin the earlier 2000s (2003-2012). This is a fantastic visual to understand how the airline industry has not completely recovered after the COVID-19 pandemic or has been impacted by other outside facters causing worsening flight delays. "
   ]
  },
  {
   "cell_type": "markdown",
   "id": "neural-strike",
   "metadata": {},
   "source": [
    "# Analysis 6 - Which air carriers and airports are best?"
   ]
  },
  {
   "cell_type": "markdown",
   "id": "precious-toyota",
   "metadata": {},
   "source": [
    "For the last portion of the analysis, the data analysis will determine which air carriers and airports are best to use if a passenger is trying to avoid delays. Since many of the airlines have merged or no longer exist, the air carrier recommendation should suggest only those air carriers still in operation as well as major airports with over 100,000 arriving flights overall. "
   ]
  },
  {
   "cell_type": "markdown",
   "id": "attractive-postage",
   "metadata": {},
   "source": [
    "## Delays by carrier"
   ]
  },
  {
   "cell_type": "code",
   "execution_count": null,
   "id": "compatible-flour",
   "metadata": {},
   "outputs": [],
   "source": [
    "q = \"\"\"\n",
    "SELECT carrier_name, sum(arr_del15)\n",
    "FROM AIRLINE_DELAY_CAUSE_HISTORY GROUP BY carrier_name ORDER BY carrier_name\n",
    "\n",
    "\"\"\"\n",
    "\n",
    "delay_by_month_df3 = pd.read_sql_query(q, nzcon)\n",
    "#delay_by_month_df3.columns = delay_by_month_df3.columns.str.decode('utf-8')\n",
    "delay_by_month_df3"
   ]
  },
  {
   "cell_type": "markdown",
   "id": "connected-paradise",
   "metadata": {},
   "source": [
    "From the current collections of data, a list of all active carries will be extracted."
   ]
  },
  {
   "cell_type": "code",
   "execution_count": null,
   "id": "micro-trinidad",
   "metadata": {},
   "outputs": [],
   "source": [
    "## find Carriers that are still operating \n",
    "\n",
    "#q = \"\"\"\n",
    "#SELECT UNIQUE(carrier_name)\n",
    "#FROM AIRLINE_DELAY_CAUSE_CURRENT\n",
    "\n",
    "#\"\"\"\n",
    "#carrier_names_df = pd.read_sql_query(q, nzcon)\n",
    "#carrier_names_df.columns = carrier_names_df.columns.str.decode('utf-8')\n",
    "#carrier_list = carrier_names_df['CARRIER_NAME'].to_list()\n",
    "#carriers = \"','\".join(carrier_list)\n",
    "#carrier_list\n",
    "\n",
    "\n",
    "\n",
    "## find Carriers that are still operating \n",
    "\n",
    "q = \"\"\"\n",
    "SELECT UNIQUE(carrier_name)\n",
    "FROM AIRLINE_DELAY_CAUSE_CURRENT\n",
    "\"\"\"\n",
    "carrier_names_df = pd.read_sql_query(q, nzcon)\n",
    "carrier_list = carrier_names_df['CARRIER_NAME'].to_list()\n",
    "joined_carrier_list = \"','\".join(carrier_list)\n",
    "joined_carrier_list"
   ]
  },
  {
   "cell_type": "code",
   "execution_count": null,
   "id": "stunning-mailman",
   "metadata": {},
   "outputs": [],
   "source": [
    "q = \"\"\"\n",
    "SELECT \n",
    "t1.carrier_name,\n",
    "SUM(t1.TOTAL_FLIGHTS) as TOTAL_FLIGHTS,\n",
    "SUM(t1.Total_Delayed_Flights) as Total_Delayed_Flights,\n",
    "SUM(t1.Diverted_Flights) as Diverted_Flights,\n",
    "SUM(t1.Cancelled_Flights) as Cancelled_Flights,\n",
    "(SUM(t1.Diverted_Flights) + SUM(t1.Total_Delayed_Flights) + SUM(t1.Cancelled_Flights))/SUM(t1.TOTAL_FLIGHTS) as Delay_Percentage\n",
    "\n",
    "FROM \n",
    "(SELECT carrier_name,\n",
    "SUM(CAST(arr_flights as FLOAT)) as TOTAL_FLIGHTS,\n",
    "SUM(CAST(arr_del15 as FLOAT)) as Total_Delayed_Flights,\n",
    "SUM(CAST(arr_diverted as FLOAT)) as Diverted_Flights,\n",
    "SUM(CAST(arr_cancelled as FLOAT)) as Cancelled_Flights\n",
    "FROM \n",
    "AIRLINE_DELAY_CAUSE_CURRENT WHERE AIRLINE_DELAY_CAUSE_CURRENT.CARRIER_NAME in ('{}')\n",
    "GROUP BY AIRLINE_DELAY_CAUSE_CURRENT.CARRIER_NAME\n",
    "\n",
    "UNION ALL\n",
    "\n",
    "SELECT carrier_name,\n",
    "SUM(CAST(arr_flights as FLOAT)) as TOTAL_FLIGHTS,\n",
    "SUM(CAST(arr_del15 as FLOAT)) as Total_Delayed_Flights,\n",
    "SUM(CAST(arr_diverted as FLOAT)) as Diverted_Flights,\n",
    "SUM(CAST(arr_cancelled as FLOAT)) as Cancelled_Flights\n",
    "FROM \n",
    "AIRLINE_DELAY_CAUSE_HISTORY WHERE AIRLINE_DELAY_CAUSE_HISTORY.CARRIER_NAME in ('{}')\n",
    "\n",
    "GROUP BY AIRLINE_DELAY_CAUSE_HISTORY.CARRIER_NAME\n",
    ") as t1\n",
    "\n",
    "GROUP BY t1.carrier_name ORDER BY Delay_Percentage ASC\n",
    "\"\"\".format(joined_carrier_list, joined_carrier_list)\n",
    "\n",
    "\n",
    "carrier_delay_df = pd.read_sql_query(q, nzcon)\n",
    "#carrier_delay_df.columns = carrier_delay_df.columns.str.decode('utf-8')\n",
    "carrier_delay_df"
   ]
  },
  {
   "cell_type": "code",
   "execution_count": null,
   "id": "spiritual-module",
   "metadata": {},
   "outputs": [],
   "source": [
    "q = \"\"\"\n",
    "SELECT \n",
    "t1.carrier_name,\n",
    "SUM(t1.TOTAL_FLIGHTS) as TOTAL_FLIGHTS,\n",
    "SUM(t1.Total_Delayed_Flights) as Total_Delayed_Flights,\n",
    "SUM(t1.Diverted_Flights) as Diverted_Flights,\n",
    "SUM(t1.Cancelled_Flights) as Cancelled_Flights,\n",
    "(SUM(t1.Diverted_Flights) + SUM(t1.Total_Delayed_Flights) + SUM(t1.Cancelled_Flights))/SUM(t1.TOTAL_FLIGHTS) as Delay_Percentage\n",
    "\n",
    "FROM \n",
    "(SELECT carrier_name,\n",
    "SUM(CAST(arr_flights as FLOAT)) as TOTAL_FLIGHTS,\n",
    "SUM(CAST(arr_del15 as FLOAT)) as Total_Delayed_Flights,\n",
    "SUM(CAST(arr_diverted as FLOAT)) as Diverted_Flights,\n",
    "SUM(CAST(arr_cancelled as FLOAT)) as Cancelled_Flights\n",
    "FROM \n",
    "AIRLINE_DELAY_CAUSE_CURRENT GROUP BY AIRLINE_DELAY_CAUSE_CURRENT.CARRIER_NAME\n",
    "\n",
    "UNION ALL\n",
    "\n",
    "SELECT carrier_name,\n",
    "SUM(CAST(arr_flights as FLOAT)) as TOTAL_FLIGHTS,\n",
    "SUM(CAST(arr_del15 as FLOAT)) as Total_Delayed_Flights,\n",
    "SUM(CAST(arr_diverted as FLOAT)) as Diverted_Flights,\n",
    "SUM(CAST(arr_cancelled as FLOAT)) as Cancelled_Flights\n",
    "FROM \n",
    "AIRLINE_DELAY_CAUSE_HISTORY\n",
    "\n",
    "GROUP BY AIRLINE_DELAY_CAUSE_HISTORY.CARRIER_NAME\n",
    ") as t1\n",
    "\n",
    "GROUP BY t1.carrier_name ORDER BY Delay_Percentage ASC\n",
    "\"\"\"\n",
    "\n",
    "\n",
    "carrier_delay_df = pd.read_sql_query(q, nzcon)\n",
    "#carrier_delay_df.columns = carrier_delay_df.columns.str.decode('utf-8')\n",
    "carrier_delay_df"
   ]
  },
  {
   "cell_type": "markdown",
   "id": "expected-sodium",
   "metadata": {},
   "source": [
    "> Of the currently operating air carriers, the recommendation for the air carrier with least percentage of flight delays would be Delta."
   ]
  },
  {
   "cell_type": "markdown",
   "id": "immune-logging",
   "metadata": {},
   "source": [
    "A similar query will now be executed to determine the major airports and their flight delays in order from the most flight delays to the least flight delays. "
   ]
  },
  {
   "cell_type": "markdown",
   "id": "awful-money",
   "metadata": {},
   "source": [
    "## Airport Delays"
   ]
  },
  {
   "cell_type": "code",
   "execution_count": null,
   "id": "foreign-electron",
   "metadata": {},
   "outputs": [],
   "source": [
    "q = \"\"\"\n",
    "SELECT \n",
    "t1.airport_name,\n",
    "SUM(t1.TOTAL_FLIGHTS) as TOTAL_FLIGHTS,\n",
    "SUM(t1.Total_Delayed_Flights) as Total_Delayed_Flights,\n",
    "SUM(t1.Diverted_Flights) as Diverted_Flights,\n",
    "SUM(t1.Cancelled_Flights) as Cancelled_Flights,\n",
    "(SUM(t1.Diverted_Flights) + SUM(t1.Total_Delayed_Flights) + SUM(t1.Cancelled_Flights))/SUM(t1.TOTAL_FLIGHTS) as Distrupted_Percentage\n",
    "\n",
    "FROM \n",
    "(SELECT airport_name,\n",
    "SUM(CAST(arr_flights as FLOAT)) as TOTAL_FLIGHTS,\n",
    "SUM(CAST(arr_del15 as FLOAT)) as Total_Delayed_Flights,\n",
    "SUM(CAST(arr_diverted as FLOAT)) as Diverted_Flights,\n",
    "SUM(CAST(arr_cancelled as FLOAT)) as Cancelled_Flights\n",
    "FROM \n",
    "AIRLINE_DELAY_CAUSE_CURRENT GROUP BY AIRLINE_DELAY_CAUSE_CURRENT.airport_name\n",
    "\n",
    "UNION ALL\n",
    "\n",
    "SELECT airport_name,\n",
    "SUM(CAST(arr_flights as FLOAT)) as TOTAL_FLIGHTS,\n",
    "SUM(CAST(arr_del15 as FLOAT)) as Total_Delayed_Flights,\n",
    "SUM(CAST(arr_diverted as FLOAT)) as Diverted_Flights,\n",
    "SUM(CAST(arr_cancelled as FLOAT)) as Cancelled_Flights\n",
    "FROM \n",
    "AIRLINE_DELAY_CAUSE_HISTORY WHERE arr_flights > 10000\n",
    "\n",
    "GROUP BY AIRLINE_DELAY_CAUSE_HISTORY.airport_name\n",
    ") as t1 WHERE t1.TOTAL_FLIGHTS > 100000\n",
    "\n",
    "GROUP BY t1.airport_name ORDER BY Distrupted_Percentage DESC\n",
    "\"\"\"\n",
    "\n",
    "airport_delay_df = pd.read_sql_query(q, nzcon)\n",
    "#airport_delay_df.columns = airport_delay_df.columns.str.decode('utf-8')\n",
    "airport_delay_df"
   ]
  },
  {
   "cell_type": "markdown",
   "id": "dried-skating",
   "metadata": {},
   "source": [
    "> Of the major airports operating 100,000 flights or more, the major airports to avoid for encountering more flight delays are Newark, LaGuardia, Fort Lauderdale, and Orlando. "
   ]
  },
  {
   "cell_type": "markdown",
   "id": "speaking-summer",
   "metadata": {},
   "source": [
    "## Conclusion "
   ]
  },
  {
   "cell_type": "markdown",
   "id": "later-proceeding",
   "metadata": {},
   "source": [
    "The data analysis for flight delay data is now complete. To review, the initial analysis was based on current flight delay data from 2019 through April 2023. Due to awareness of the COVID-19 pandemic as a possible distruptor for the flight delay data, the flight delay data was normalized to compare distrupted flight ratios across all three years and this analysis found that 2023 was trending with an increase in delays. Next, there were several queries performed to compare delay trends from the historical periods 2003-2012 and 2013-2018. By taking the average delays per month, the analysis showed that flight delays were decreasing in the late 2010s (2012-2018). Recovery from the COVID-19 pandemic and other global factors did impact flight delays when looking at 2023 flight data compared to pre-pandemic flight delay trends, as there has been a definite increase in flight delays during 2023. Lastly, this data analysis included information about airports and air carriers that were operating flights between 2003 and 2023. The final queries were able to determine which air carriers operate with the least amount of flight delays and which major aiports encounter the most flight delays. This allows a recomendation to be provided to travelers on which air carriers to fly and which airports to use. "
   ]
  },
  {
   "cell_type": "code",
   "execution_count": null,
   "id": "designing-advertiser",
   "metadata": {},
   "outputs": [],
   "source": [
    "%%time\n",
    "q = \"\"\"\n",
    "SELECT \n",
    "month,\n",
    "SUM(arr_del15) as TOTAL_DELAYS_PER_MONTH\n",
    "FROM EXT_AIRLINE_DELAY_CAUSE_2018 GROUP BY month ORDER BY TOTAL_DELAYS_PER_MONTH\n",
    "\"\"\"\n",
    "\n",
    "df = pd.read_sql_query(q, nzcon)\n",
    "df"
   ]
  },
  {
   "cell_type": "code",
   "execution_count": null,
   "id": "exceptional-underwear",
   "metadata": {},
   "outputs": [],
   "source": [
    "%%time\n",
    "q = \"\"\"\n",
    "SELECT \n",
    "month,\n",
    "SUM(arr_del15) as TOTAL_DELAYS_PER_MONTH FROM AIRLINE_DELAY_CAUSE_2018_LOCAL GROUP BY month ORDER BY TOTAL_DELAYS_PER_MONTH\n",
    "\"\"\"\n",
    "\n",
    "df = pd.read_sql_query(q, nzcon)\n",
    "df"
   ]
  },
  {
   "cell_type": "code",
   "execution_count": null,
   "id": "criminal-ministry",
   "metadata": {},
   "outputs": [],
   "source": []
  }
 ],
 "metadata": {
  "hide_input": false,
  "kernelspec": {
   "display_name": "Python 3",
   "language": "python",
   "name": "python3"
  },
  "language_info": {
   "codemirror_mode": {
    "name": "ipython",
    "version": 3
   },
   "file_extension": ".py",
   "mimetype": "text/x-python",
   "name": "python",
   "nbconvert_exporter": "python",
   "pygments_lexer": "ipython3",
   "version": "3.9.12"
  }
 },
 "nbformat": 4,
 "nbformat_minor": 5
}
