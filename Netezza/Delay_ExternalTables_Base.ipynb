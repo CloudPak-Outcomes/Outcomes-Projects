{
 "cells": [
  {
   "cell_type": "markdown",
   "metadata": {},
   "source": [
    "## Loading Parquet Files as External Tables in Netezza  "
   ]
  },
  {
   "cell_type": "markdown",
   "metadata": {},
   "source": [
    "Its possible your system is missing some python libraries. If when you try to import the various libraries below a \"Module Not Found\" error is returned. Use the pip install commands to load the proper libraries on your system. "
   ]
  },
  {
   "cell_type": "code",
   "execution_count": null,
   "metadata": {},
   "outputs": [],
   "source": [
    "###\n",
    "###\n",
    "!pip install nzpy \n",
    "\n",
    "# Import Libraries \n",
    "import nzpy\n",
    "import datetime"
   ]
  },
  {
   "cell_type": "code",
   "execution_count": null,
   "metadata": {},
   "outputs": [],
   "source": [
    "#Netezza Cloud Connection Information \n",
    "\n",
    "nz_host             = \"nz-4279e2a3-0345-44f0-92e9-992d72d04198.eastus2.data-warehouse.cloud.ibm.com\"\n",
    "nz_port             = 5480\n",
    "nz_database         = \"\"\n",
    "nz_user             = \"\"\n",
    "nz_password         = \"\"\n"
   ]
  },
  {
   "cell_type": "code",
   "execution_count": null,
   "metadata": {},
   "outputs": [],
   "source": [
    "# Create nzpy connection to cloud instance \n",
    "\n",
    "nzcon = nzpy.connect(user=nz_user, password=nz_password, host=nz_host, database=nz_database, port=nz_port)\n"
   ]
  },
  {
   "cell_type": "code",
   "execution_count": null,
   "metadata": {},
   "outputs": [],
   "source": [
    "# Create the external tables for the historical data stored in Parquet files\n",
    "\n",
    "with nzcon.cursor() as cursor:\n",
    "    years = [\"2003\",\"2004\",\"2005\",\"2006\",\"2007\",\"2008\",\"2009\",\"2010\",\"2011\",\"2012\",\"2013\",\"2014\",\"2015\",\"2016\",\"2017\",\"2018\"]\n",
    "    cursor.execute(\"set ENABLE_EXTERNAL_DATASOURCE = 1\")\n",
    "    for year in years:\n",
    "        ddl=\"create EXTERNAL table ext_airline_delay_cause_\" + year + \" on cosdb.admin.airline_cos_datasource using ( DATAOBJECT ('/airline/airline_delay_cause_\" + year + \".parquet') FORMAT 'PARQUET');\"\n",
    "        try:\n",
    "            cursor.execute(ddl)\n",
    "            print(\"Data Lakehouse table EXT_AIRLINE_DEPLAY_CAUSE_\" + year + \" created successfully\")\n",
    "        except Exception as e:\n",
    "            print(str(e))"
   ]
  },
  {
   "cell_type": "code",
   "execution_count": null,
   "metadata": {},
   "outputs": [],
   "source": [
    "# Create the UNION ALL view for the historical data external tables\n",
    "\n",
    "ddl=\"\"\"create view AIRLINE_DELAY_CAUSE_HISTORY as\n",
    "select * from ext_airline_delay_cause_2003\n",
    "union all\n",
    "select * from ext_airline_delay_cause_2004\n",
    "union all\n",
    "select * from ext_airline_delay_cause_2005\n",
    "union all\n",
    "select * from ext_airline_delay_cause_2006\n",
    "union all\n",
    "select * from ext_airline_delay_cause_2007\n",
    "union all\n",
    "select * from ext_airline_delay_cause_2008\n",
    "union all\n",
    "select * from ext_airline_delay_cause_2009\n",
    "union all\n",
    "select * from ext_airline_delay_cause_2010\n",
    "union all\n",
    "select * from ext_airline_delay_cause_2011\n",
    "union all\n",
    "select * from ext_airline_delay_cause_2012\n",
    "union all\n",
    "select * from ext_airline_delay_cause_2013\n",
    "union all\n",
    "select * from ext_airline_delay_cause_2014\n",
    "union all\n",
    "select * from ext_airline_delay_cause_2015\n",
    "union all\n",
    "select * from ext_airline_delay_cause_2016\n",
    "union all\n",
    "select * from ext_airline_delay_cause_2017\n",
    "union all\n",
    "select * from ext_airline_delay_cause_2018\"\"\""
   ]
  },
  {
   "cell_type": "code",
   "execution_count": null,
   "metadata": {},
   "outputs": [],
   "source": [
    "# Create union all view\n",
    "\n",
    "with nzcon.cursor() as cursor:\n",
    "    try:\n",
    "        start_time         = datetime.datetime.now()\n",
    "        cursor.execute(ddl)\n",
    "        end_time           = datetime.datetime.now()\n",
    "        runtime            = end_time - start_time\n",
    "        print(f\"Data Lakehouse view AIRLINE_DEPLAY_CAUSE_HISTORY created successfully {runtime}\")\n",
    "    except Exception as e:\n",
    "            print(str(e))"
   ]
  },
  {
   "cell_type": "code",
   "execution_count": null,
   "metadata": {},
   "outputs": [],
   "source": [
    "# Create Netezza Native table for years 2018 from parquet external table\n",
    "\n",
    "ddl=\"\"\"create table demo.airline_delay_cause_2018_local\n",
    "as select * from demo.ext_airline_delay_cause_2018\n",
    "distribute on random\n",
    "organize on (year, month, carrier, airport)\n",
    ";\n",
    "\"\"\"\n",
    "\n",
    "with nzcon.cursor() as cursor:\n",
    "    try:\n",
    "        start_time         = datetime.datetime.now()\n",
    "        cursor.execute(ddl)\n",
    "        end_time           = datetime.datetime.now()\n",
    "        runtime            = end_time - start_time\n",
    "        print(f\"Table AIRLINE_DEPLAY_CAUSE_2018_LOCAL created successfully {runtime}.\")\n",
    "    except Exception as e:\n",
    "        print(str(e))\n"
   ]
  }
 ],
 "metadata": {
  "hide_input": false,
  "kernelspec": {
   "display_name": "Python 3",
   "language": "python",
   "name": "python3"
  },
  "language_info": {
   "codemirror_mode": {
    "name": "ipython",
    "version": 3
   },
   "file_extension": ".py",
   "mimetype": "text/x-python",
   "name": "python",
   "nbconvert_exporter": "python",
   "pygments_lexer": "ipython3",
   "version": "3.7.4"
  }
 },
 "nbformat": 4,
 "nbformat_minor": 5
}
